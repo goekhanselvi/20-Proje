{
 "cells": [
  {
   "cell_type": "markdown",
   "id": "5215e4a6-419d-4d6c-95f6-455eccbe9d4c",
   "metadata": {},
   "source": [
    "# BIKE SHARING DEMAND"
   ]
  },
  {
   "cell_type": "markdown",
   "id": "99af683c-b69e-4a03-b107-f4ef073abafb",
   "metadata": {},
   "source": [
    "<img src='bike.jpg'>"
   ]
  },
  {
   "cell_type": "markdown",
   "id": "0938f796-2454-480e-a0be-42006f346d6f",
   "metadata": {},
   "source": [
    "### Introduction"
   ]
  },
  {
   "cell_type": "raw",
   "id": "5598df3d-0f33-4330-bdd9-19d38a09fe7b",
   "metadata": {},
   "source": [
    "Bu proje, geçmiş verileri kullanarak bisiklet paylaşım talebini analiz etmeyi ve tahmin etmeyi amaçlamaktadır.\n",
    "Mevsimsellik, hava koşulları ve günün saati gibi faktörleri inceleyerek, bisiklet paylaşım sayılarını tahmin etmek için bir öngörü modeli geliştirdik.\n",
    "Bu analizden elde edilen bilgiler, bisiklet paylaşım operasyonlarının optimize edilmesine, daha iyi kaynak tahsisi ve kullanıcı memnuniyetinin artırılmasına yardımcı olabilir."
   ]
  },
  {
   "cell_type": "markdown",
   "id": "75e6cb1a-f44f-47da-8941-f1fd4236f611",
   "metadata": {},
   "source": [
    "### About the Datasets"
   ]
  },
  {
   "cell_type": "raw",
   "id": "60ec3054-28f4-4688-ab83-343f793ded94",
   "metadata": {},
   "source": [
    "Dataset: 'store.sharing.csv'\n",
    "Content: The change in the number of bike shares in London according to seasons, temperature, wind speed, etc.\n",
    "Rows: 17414\n",
    "Columns: 10\n",
    "\n",
    "INPUT:\n",
    "- timestamp: verileri gruplamak için zaman damgası alanı\n",
    "- cnt: yeni bisiklet paylaşımlarının sayısı\n",
    "- t1: C cinsinden gerçek sıcaklık\n",
    "- t2: C cinsinden \"hissedilen\" sıcaklık\n",
    "- hum: yüzde cinsinden nem\n",
    "- wind_speed: km/s cinsinden rüzgar hızı\n",
    "- weather_code: hava durumu kategorisi\n",
    "- is_holiday - boolean field: 1 tatil / 0 tatil değil\n",
    "- is_weekend - boolean field: gün hafta sonu ise 1\n",
    "- season - category field meteorological seasons: kategori alanı meteorolojik mevsimler: 0-ilkbahar; 1-yaz; 2-sonbahar; 3-kış.\n",
    "\n",
    "​\"weather_code\" category description: \"hava_kodu\" kategori açıklaması:\n",
    "1 = Temizle; Çoğunlukla açık ancak pus/sis/sis parçaları/yakınlarda sisli bazı değerler var\n",
    "2 = dağınık bulutlar / az bulutlu\n",
    "3 = Parçalı bulutlar\n",
    "4 = Bulutlu\n",
    "7 = Yağmur / hafif sağanak yağmur / Hafif yağmur\n",
    "10 = gök gürültülü fırtınalı yağmur\n",
    "26 = Kar yağışı\n",
    "94 = Donan Sis"
   ]
  },
  {
   "cell_type": "code",
   "execution_count": 5,
   "id": "0a50cd74-d648-4a6f-b652-6d0e18747bc5",
   "metadata": {},
   "outputs": [],
   "source": [
    "import numpy as np \n",
    "import pandas as pd \n",
    "\n",
    "import matplotlib as mpl  \n",
    "import matplotlib.pyplot as plt \n",
    "import seaborn as sns  \n",
    "import missingno as mn\n",
    "%matplotlib inline \n",
    "from datetime import datetime\n",
    "\n",
    "plt.rcParams['figure.figsize'] = [8, 4]\n",
    "\n",
    "import warnings\n",
    "warnings.filterwarnings(\"ignore\")\n",
    "warnings.warn(\"this will not show\")"
   ]
  },
  {
   "cell_type": "code",
   "execution_count": 6,
   "id": "655ebaa5-641d-4880-91f6-1221334fa455",
   "metadata": {},
   "outputs": [],
   "source": [
    "df=pd.read_csv('store_sharing.csv')"
   ]
  },
  {
   "cell_type": "code",
   "execution_count": 7,
   "id": "47d61a7a-b78e-4112-8957-fdeb893f42e1",
   "metadata": {},
   "outputs": [
    {
     "data": {
      "text/html": [
       "<div>\n",
       "<style scoped>\n",
       "    .dataframe tbody tr th:only-of-type {\n",
       "        vertical-align: middle;\n",
       "    }\n",
       "\n",
       "    .dataframe tbody tr th {\n",
       "        vertical-align: top;\n",
       "    }\n",
       "\n",
       "    .dataframe thead th {\n",
       "        text-align: right;\n",
       "    }\n",
       "</style>\n",
       "<table border=\"1\" class=\"dataframe\">\n",
       "  <thead>\n",
       "    <tr style=\"text-align: right;\">\n",
       "      <th></th>\n",
       "      <th>timestamp</th>\n",
       "      <th>cnt</th>\n",
       "      <th>t1</th>\n",
       "      <th>t2</th>\n",
       "      <th>hum</th>\n",
       "      <th>wind_speed</th>\n",
       "      <th>weather_code</th>\n",
       "      <th>is_holiday</th>\n",
       "      <th>is_weekend</th>\n",
       "      <th>season</th>\n",
       "    </tr>\n",
       "  </thead>\n",
       "  <tbody>\n",
       "    <tr>\n",
       "      <th>0</th>\n",
       "      <td>2015-01-04 00:00:00</td>\n",
       "      <td>182</td>\n",
       "      <td>3.0</td>\n",
       "      <td>2.0</td>\n",
       "      <td>93.0</td>\n",
       "      <td>6.0</td>\n",
       "      <td>3.0</td>\n",
       "      <td>0.0</td>\n",
       "      <td>1.0</td>\n",
       "      <td>3.0</td>\n",
       "    </tr>\n",
       "    <tr>\n",
       "      <th>1</th>\n",
       "      <td>2015-01-04 01:00:00</td>\n",
       "      <td>138</td>\n",
       "      <td>3.0</td>\n",
       "      <td>2.5</td>\n",
       "      <td>93.0</td>\n",
       "      <td>5.0</td>\n",
       "      <td>1.0</td>\n",
       "      <td>0.0</td>\n",
       "      <td>1.0</td>\n",
       "      <td>3.0</td>\n",
       "    </tr>\n",
       "    <tr>\n",
       "      <th>2</th>\n",
       "      <td>2015-01-04 02:00:00</td>\n",
       "      <td>134</td>\n",
       "      <td>2.5</td>\n",
       "      <td>2.5</td>\n",
       "      <td>96.5</td>\n",
       "      <td>0.0</td>\n",
       "      <td>1.0</td>\n",
       "      <td>0.0</td>\n",
       "      <td>1.0</td>\n",
       "      <td>3.0</td>\n",
       "    </tr>\n",
       "    <tr>\n",
       "      <th>3</th>\n",
       "      <td>2015-01-04 03:00:00</td>\n",
       "      <td>72</td>\n",
       "      <td>2.0</td>\n",
       "      <td>2.0</td>\n",
       "      <td>100.0</td>\n",
       "      <td>0.0</td>\n",
       "      <td>1.0</td>\n",
       "      <td>0.0</td>\n",
       "      <td>1.0</td>\n",
       "      <td>3.0</td>\n",
       "    </tr>\n",
       "    <tr>\n",
       "      <th>4</th>\n",
       "      <td>2015-01-04 04:00:00</td>\n",
       "      <td>47</td>\n",
       "      <td>2.0</td>\n",
       "      <td>0.0</td>\n",
       "      <td>93.0</td>\n",
       "      <td>6.5</td>\n",
       "      <td>1.0</td>\n",
       "      <td>0.0</td>\n",
       "      <td>1.0</td>\n",
       "      <td>3.0</td>\n",
       "    </tr>\n",
       "  </tbody>\n",
       "</table>\n",
       "</div>"
      ],
      "text/plain": [
       "             timestamp  cnt   t1   t2    hum  wind_speed  weather_code  \\\n",
       "0  2015-01-04 00:00:00  182  3.0  2.0   93.0         6.0           3.0   \n",
       "1  2015-01-04 01:00:00  138  3.0  2.5   93.0         5.0           1.0   \n",
       "2  2015-01-04 02:00:00  134  2.5  2.5   96.5         0.0           1.0   \n",
       "3  2015-01-04 03:00:00   72  2.0  2.0  100.0         0.0           1.0   \n",
       "4  2015-01-04 04:00:00   47  2.0  0.0   93.0         6.5           1.0   \n",
       "\n",
       "   is_holiday  is_weekend  season  \n",
       "0         0.0         1.0     3.0  \n",
       "1         0.0         1.0     3.0  \n",
       "2         0.0         1.0     3.0  \n",
       "3         0.0         1.0     3.0  \n",
       "4         0.0         1.0     3.0  "
      ]
     },
     "execution_count": 7,
     "metadata": {},
     "output_type": "execute_result"
    }
   ],
   "source": [
    "df.head()"
   ]
  },
  {
   "cell_type": "code",
   "execution_count": 8,
   "id": "f811a226-7605-4949-9938-5080d57b1e1b",
   "metadata": {},
   "outputs": [
    {
     "name": "stdout",
     "output_type": "stream",
     "text": [
      "<class 'pandas.core.frame.DataFrame'>\n",
      "RangeIndex: 17414 entries, 0 to 17413\n",
      "Data columns (total 10 columns):\n",
      " #   Column        Non-Null Count  Dtype  \n",
      "---  ------        --------------  -----  \n",
      " 0   timestamp     17414 non-null  object \n",
      " 1   cnt           17414 non-null  int64  \n",
      " 2   t1            17414 non-null  float64\n",
      " 3   t2            17414 non-null  float64\n",
      " 4   hum           17414 non-null  float64\n",
      " 5   wind_speed    17414 non-null  float64\n",
      " 6   weather_code  17414 non-null  float64\n",
      " 7   is_holiday    17414 non-null  float64\n",
      " 8   is_weekend    17414 non-null  float64\n",
      " 9   season        17414 non-null  float64\n",
      "dtypes: float64(8), int64(1), object(1)\n",
      "memory usage: 1.3+ MB\n"
     ]
    }
   ],
   "source": [
    "df.info()"
   ]
  },
  {
   "cell_type": "code",
   "execution_count": 9,
   "id": "ee20bd14-3205-4a88-a543-fba430767e15",
   "metadata": {},
   "outputs": [
    {
     "data": {
      "text/plain": [
       "timestamp       0\n",
       "cnt             0\n",
       "t1              0\n",
       "t2              0\n",
       "hum             0\n",
       "wind_speed      0\n",
       "weather_code    0\n",
       "is_holiday      0\n",
       "is_weekend      0\n",
       "season          0\n",
       "dtype: int64"
      ]
     },
     "execution_count": 9,
     "metadata": {},
     "output_type": "execute_result"
    }
   ],
   "source": [
    "df.isnull().sum()"
   ]
  },
  {
   "cell_type": "code",
   "execution_count": 10,
   "id": "d6788607-8a2e-43fd-9663-bd4dd3cc11a6",
   "metadata": {},
   "outputs": [
    {
     "data": {
      "text/html": [
       "<div>\n",
       "<style scoped>\n",
       "    .dataframe tbody tr th:only-of-type {\n",
       "        vertical-align: middle;\n",
       "    }\n",
       "\n",
       "    .dataframe tbody tr th {\n",
       "        vertical-align: top;\n",
       "    }\n",
       "\n",
       "    .dataframe thead th {\n",
       "        text-align: right;\n",
       "    }\n",
       "</style>\n",
       "<table border=\"1\" class=\"dataframe\">\n",
       "  <thead>\n",
       "    <tr style=\"text-align: right;\">\n",
       "      <th></th>\n",
       "      <th>cnt</th>\n",
       "      <th>t1</th>\n",
       "      <th>t2</th>\n",
       "      <th>hum</th>\n",
       "      <th>wind_speed</th>\n",
       "      <th>weather_code</th>\n",
       "      <th>is_holiday</th>\n",
       "      <th>is_weekend</th>\n",
       "      <th>season</th>\n",
       "    </tr>\n",
       "  </thead>\n",
       "  <tbody>\n",
       "    <tr>\n",
       "      <th>count</th>\n",
       "      <td>17414.000000</td>\n",
       "      <td>17414.000000</td>\n",
       "      <td>17414.000000</td>\n",
       "      <td>17414.000000</td>\n",
       "      <td>17414.000000</td>\n",
       "      <td>17414.000000</td>\n",
       "      <td>17414.000000</td>\n",
       "      <td>17414.000000</td>\n",
       "      <td>17414.000000</td>\n",
       "    </tr>\n",
       "    <tr>\n",
       "      <th>mean</th>\n",
       "      <td>1143.101642</td>\n",
       "      <td>12.468091</td>\n",
       "      <td>11.520836</td>\n",
       "      <td>72.324954</td>\n",
       "      <td>15.913063</td>\n",
       "      <td>2.722752</td>\n",
       "      <td>0.022051</td>\n",
       "      <td>0.285403</td>\n",
       "      <td>1.492075</td>\n",
       "    </tr>\n",
       "    <tr>\n",
       "      <th>std</th>\n",
       "      <td>1085.108068</td>\n",
       "      <td>5.571818</td>\n",
       "      <td>6.615145</td>\n",
       "      <td>14.313186</td>\n",
       "      <td>7.894570</td>\n",
       "      <td>2.341163</td>\n",
       "      <td>0.146854</td>\n",
       "      <td>0.451619</td>\n",
       "      <td>1.118911</td>\n",
       "    </tr>\n",
       "    <tr>\n",
       "      <th>min</th>\n",
       "      <td>0.000000</td>\n",
       "      <td>-1.500000</td>\n",
       "      <td>-6.000000</td>\n",
       "      <td>20.500000</td>\n",
       "      <td>0.000000</td>\n",
       "      <td>1.000000</td>\n",
       "      <td>0.000000</td>\n",
       "      <td>0.000000</td>\n",
       "      <td>0.000000</td>\n",
       "    </tr>\n",
       "    <tr>\n",
       "      <th>25%</th>\n",
       "      <td>257.000000</td>\n",
       "      <td>8.000000</td>\n",
       "      <td>6.000000</td>\n",
       "      <td>63.000000</td>\n",
       "      <td>10.000000</td>\n",
       "      <td>1.000000</td>\n",
       "      <td>0.000000</td>\n",
       "      <td>0.000000</td>\n",
       "      <td>0.000000</td>\n",
       "    </tr>\n",
       "    <tr>\n",
       "      <th>50%</th>\n",
       "      <td>844.000000</td>\n",
       "      <td>12.500000</td>\n",
       "      <td>12.500000</td>\n",
       "      <td>74.500000</td>\n",
       "      <td>15.000000</td>\n",
       "      <td>2.000000</td>\n",
       "      <td>0.000000</td>\n",
       "      <td>0.000000</td>\n",
       "      <td>1.000000</td>\n",
       "    </tr>\n",
       "    <tr>\n",
       "      <th>75%</th>\n",
       "      <td>1671.750000</td>\n",
       "      <td>16.000000</td>\n",
       "      <td>16.000000</td>\n",
       "      <td>83.000000</td>\n",
       "      <td>20.500000</td>\n",
       "      <td>3.000000</td>\n",
       "      <td>0.000000</td>\n",
       "      <td>1.000000</td>\n",
       "      <td>2.000000</td>\n",
       "    </tr>\n",
       "    <tr>\n",
       "      <th>max</th>\n",
       "      <td>7860.000000</td>\n",
       "      <td>34.000000</td>\n",
       "      <td>34.000000</td>\n",
       "      <td>100.000000</td>\n",
       "      <td>56.500000</td>\n",
       "      <td>26.000000</td>\n",
       "      <td>1.000000</td>\n",
       "      <td>1.000000</td>\n",
       "      <td>3.000000</td>\n",
       "    </tr>\n",
       "  </tbody>\n",
       "</table>\n",
       "</div>"
      ],
      "text/plain": [
       "                cnt            t1            t2           hum    wind_speed  \\\n",
       "count  17414.000000  17414.000000  17414.000000  17414.000000  17414.000000   \n",
       "mean    1143.101642     12.468091     11.520836     72.324954     15.913063   \n",
       "std     1085.108068      5.571818      6.615145     14.313186      7.894570   \n",
       "min        0.000000     -1.500000     -6.000000     20.500000      0.000000   \n",
       "25%      257.000000      8.000000      6.000000     63.000000     10.000000   \n",
       "50%      844.000000     12.500000     12.500000     74.500000     15.000000   \n",
       "75%     1671.750000     16.000000     16.000000     83.000000     20.500000   \n",
       "max     7860.000000     34.000000     34.000000    100.000000     56.500000   \n",
       "\n",
       "       weather_code    is_holiday    is_weekend        season  \n",
       "count  17414.000000  17414.000000  17414.000000  17414.000000  \n",
       "mean       2.722752      0.022051      0.285403      1.492075  \n",
       "std        2.341163      0.146854      0.451619      1.118911  \n",
       "min        1.000000      0.000000      0.000000      0.000000  \n",
       "25%        1.000000      0.000000      0.000000      0.000000  \n",
       "50%        2.000000      0.000000      0.000000      1.000000  \n",
       "75%        3.000000      0.000000      1.000000      2.000000  \n",
       "max       26.000000      1.000000      1.000000      3.000000  "
      ]
     },
     "execution_count": 10,
     "metadata": {},
     "output_type": "execute_result"
    }
   ],
   "source": [
    "df.describe()"
   ]
  },
  {
   "cell_type": "code",
   "execution_count": 11,
   "id": "f43a8f13-28dc-438c-9998-c4c043af2246",
   "metadata": {},
   "outputs": [
    {
     "data": {
      "text/plain": [
       "Index(['timestamp', 'total_count', 'temp', 'feel_temp', 'humidity',\n",
       "       'wind_speed', 'weather_code', 'is_holiday', 'is_weekend', 'season'],\n",
       "      dtype='object')"
      ]
     },
     "execution_count": 11,
     "metadata": {},
     "output_type": "execute_result"
    }
   ],
   "source": [
    "df.rename(columns={'cnt':'total_count', 't1':'temp', 't2':'feel_temp', 'hum':'humidity'}, inplace=True)\n",
    "df.columns\n",
    "#anlamamiza yardimci olmasi icin bazi sütun isimlerini degistiriyoruz."
   ]
  },
  {
   "cell_type": "code",
   "execution_count": 12,
   "id": "09075353-d12d-408e-b6f2-ca7a9c278b0b",
   "metadata": {},
   "outputs": [],
   "source": [
    "# Datetime sütunu object göründügü icin sütundaki tarihleri degistiriyoruz.\n",
    "df.timestamp = pd.to_datetime(df.timestamp)"
   ]
  },
  {
   "cell_type": "code",
   "execution_count": 13,
   "id": "c90a68d5-30a2-4cd9-a068-a120a5472c5a",
   "metadata": {},
   "outputs": [],
   "source": [
    "df['year'] = pd.to_datetime(df['timestamp'], format='%d/%m/%Y').dt.year\n",
    "df['month'] = pd.to_datetime(df['timestamp'], format='%d/%m/%Y').dt.month\n",
    "df['day'] = pd.to_datetime(df['timestamp'], format='%d/%m/%Y').dt.day\n",
    "df['day_of_week'] = pd.to_datetime(df['timestamp'], format='%d/%m/%Y').dt.dayofweek\n",
    "df['hour'] = pd.to_datetime(df['timestamp'], format='%d/%m/%Y').dt.hour"
   ]
  },
  {
   "cell_type": "code",
   "execution_count": 14,
   "id": "159fd567-2dc4-4dac-9f63-8b43f7996b45",
   "metadata": {},
   "outputs": [
    {
     "data": {
      "text/html": [
       "<div>\n",
       "<style scoped>\n",
       "    .dataframe tbody tr th:only-of-type {\n",
       "        vertical-align: middle;\n",
       "    }\n",
       "\n",
       "    .dataframe tbody tr th {\n",
       "        vertical-align: top;\n",
       "    }\n",
       "\n",
       "    .dataframe thead th {\n",
       "        text-align: right;\n",
       "    }\n",
       "</style>\n",
       "<table border=\"1\" class=\"dataframe\">\n",
       "  <thead>\n",
       "    <tr style=\"text-align: right;\">\n",
       "      <th></th>\n",
       "      <th>timestamp</th>\n",
       "      <th>total_count</th>\n",
       "      <th>temp</th>\n",
       "      <th>feel_temp</th>\n",
       "      <th>humidity</th>\n",
       "      <th>wind_speed</th>\n",
       "      <th>weather_code</th>\n",
       "      <th>is_holiday</th>\n",
       "      <th>is_weekend</th>\n",
       "      <th>season</th>\n",
       "      <th>year</th>\n",
       "      <th>month</th>\n",
       "      <th>day</th>\n",
       "      <th>day_of_week</th>\n",
       "      <th>hour</th>\n",
       "    </tr>\n",
       "  </thead>\n",
       "  <tbody>\n",
       "    <tr>\n",
       "      <th>0</th>\n",
       "      <td>2015-01-04 00:00:00</td>\n",
       "      <td>182</td>\n",
       "      <td>3.0</td>\n",
       "      <td>2.0</td>\n",
       "      <td>93.0</td>\n",
       "      <td>6.0</td>\n",
       "      <td>3.0</td>\n",
       "      <td>0.0</td>\n",
       "      <td>1.0</td>\n",
       "      <td>3.0</td>\n",
       "      <td>2015</td>\n",
       "      <td>1</td>\n",
       "      <td>4</td>\n",
       "      <td>6</td>\n",
       "      <td>0</td>\n",
       "    </tr>\n",
       "    <tr>\n",
       "      <th>1</th>\n",
       "      <td>2015-01-04 01:00:00</td>\n",
       "      <td>138</td>\n",
       "      <td>3.0</td>\n",
       "      <td>2.5</td>\n",
       "      <td>93.0</td>\n",
       "      <td>5.0</td>\n",
       "      <td>1.0</td>\n",
       "      <td>0.0</td>\n",
       "      <td>1.0</td>\n",
       "      <td>3.0</td>\n",
       "      <td>2015</td>\n",
       "      <td>1</td>\n",
       "      <td>4</td>\n",
       "      <td>6</td>\n",
       "      <td>1</td>\n",
       "    </tr>\n",
       "    <tr>\n",
       "      <th>2</th>\n",
       "      <td>2015-01-04 02:00:00</td>\n",
       "      <td>134</td>\n",
       "      <td>2.5</td>\n",
       "      <td>2.5</td>\n",
       "      <td>96.5</td>\n",
       "      <td>0.0</td>\n",
       "      <td>1.0</td>\n",
       "      <td>0.0</td>\n",
       "      <td>1.0</td>\n",
       "      <td>3.0</td>\n",
       "      <td>2015</td>\n",
       "      <td>1</td>\n",
       "      <td>4</td>\n",
       "      <td>6</td>\n",
       "      <td>2</td>\n",
       "    </tr>\n",
       "    <tr>\n",
       "      <th>3</th>\n",
       "      <td>2015-01-04 03:00:00</td>\n",
       "      <td>72</td>\n",
       "      <td>2.0</td>\n",
       "      <td>2.0</td>\n",
       "      <td>100.0</td>\n",
       "      <td>0.0</td>\n",
       "      <td>1.0</td>\n",
       "      <td>0.0</td>\n",
       "      <td>1.0</td>\n",
       "      <td>3.0</td>\n",
       "      <td>2015</td>\n",
       "      <td>1</td>\n",
       "      <td>4</td>\n",
       "      <td>6</td>\n",
       "      <td>3</td>\n",
       "    </tr>\n",
       "    <tr>\n",
       "      <th>4</th>\n",
       "      <td>2015-01-04 04:00:00</td>\n",
       "      <td>47</td>\n",
       "      <td>2.0</td>\n",
       "      <td>0.0</td>\n",
       "      <td>93.0</td>\n",
       "      <td>6.5</td>\n",
       "      <td>1.0</td>\n",
       "      <td>0.0</td>\n",
       "      <td>1.0</td>\n",
       "      <td>3.0</td>\n",
       "      <td>2015</td>\n",
       "      <td>1</td>\n",
       "      <td>4</td>\n",
       "      <td>6</td>\n",
       "      <td>4</td>\n",
       "    </tr>\n",
       "  </tbody>\n",
       "</table>\n",
       "</div>"
      ],
      "text/plain": [
       "            timestamp  total_count  temp  feel_temp  humidity  wind_speed  \\\n",
       "0 2015-01-04 00:00:00          182   3.0        2.0      93.0         6.0   \n",
       "1 2015-01-04 01:00:00          138   3.0        2.5      93.0         5.0   \n",
       "2 2015-01-04 02:00:00          134   2.5        2.5      96.5         0.0   \n",
       "3 2015-01-04 03:00:00           72   2.0        2.0     100.0         0.0   \n",
       "4 2015-01-04 04:00:00           47   2.0        0.0      93.0         6.5   \n",
       "\n",
       "   weather_code  is_holiday  is_weekend  season  year  month  day  \\\n",
       "0           3.0         0.0         1.0     3.0  2015      1    4   \n",
       "1           1.0         0.0         1.0     3.0  2015      1    4   \n",
       "2           1.0         0.0         1.0     3.0  2015      1    4   \n",
       "3           1.0         0.0         1.0     3.0  2015      1    4   \n",
       "4           1.0         0.0         1.0     3.0  2015      1    4   \n",
       "\n",
       "   day_of_week  hour  \n",
       "0            6     0  \n",
       "1            6     1  \n",
       "2            6     2  \n",
       "3            6     3  \n",
       "4            6     4  "
      ]
     },
     "execution_count": 14,
     "metadata": {},
     "output_type": "execute_result"
    }
   ],
   "source": [
    "df.head()"
   ]
  },
  {
   "cell_type": "code",
   "execution_count": 15,
   "id": "c54ffed3-7ef3-4489-8e03-b56e0f955852",
   "metadata": {},
   "outputs": [
    {
     "name": "stdout",
     "output_type": "stream",
     "text": [
      "<class 'pandas.core.frame.DataFrame'>\n",
      "RangeIndex: 17414 entries, 0 to 17413\n",
      "Data columns (total 15 columns):\n",
      " #   Column        Non-Null Count  Dtype         \n",
      "---  ------        --------------  -----         \n",
      " 0   timestamp     17414 non-null  datetime64[ns]\n",
      " 1   total_count   17414 non-null  int64         \n",
      " 2   temp          17414 non-null  float64       \n",
      " 3   feel_temp     17414 non-null  float64       \n",
      " 4   humidity      17414 non-null  float64       \n",
      " 5   wind_speed    17414 non-null  float64       \n",
      " 6   weather_code  17414 non-null  float64       \n",
      " 7   is_holiday    17414 non-null  float64       \n",
      " 8   is_weekend    17414 non-null  float64       \n",
      " 9   season        17414 non-null  float64       \n",
      " 10  year          17414 non-null  int32         \n",
      " 11  month         17414 non-null  int32         \n",
      " 12  day           17414 non-null  int32         \n",
      " 13  day_of_week   17414 non-null  int32         \n",
      " 14  hour          17414 non-null  int32         \n",
      "dtypes: datetime64[ns](1), float64(8), int32(5), int64(1)\n",
      "memory usage: 1.7 MB\n"
     ]
    }
   ],
   "source": [
    "df.info()"
   ]
  },
  {
   "cell_type": "markdown",
   "id": "2247c2e9-2580-4aff-abca-3a27320912d5",
   "metadata": {},
   "source": [
    "## Data Visualisation"
   ]
  },
  {
   "cell_type": "code",
   "execution_count": 17,
   "id": "fbb271c3-6dc5-4cb3-9a31-4c279a15f1cc",
   "metadata": {},
   "outputs": [
    {
     "data": {
      "image/png": "[encoded data removed]",
      "text/plain": [
       "<Figure size 800x400 with 1 Axes>"
      ]
     },
     "metadata": {},
     "output_type": "display_data"
    }
   ],
   "source": [
    "#Toplam bisiklet sayısının dağılımı\n",
    "\n",
    "sns.histplot(df['total_count'], bins=50, kde=True) \n",
    "plt.title('Distribution of Bike Share') \n",
    "plt.xlabel('Count') \n",
    "plt.ylabel('Frequency') \n",
    "plt.show()"
   ]
  },
  {
   "cell_type": "raw",
   "id": "7fb97fab-d553-49be-8653-af86e488ea9b",
   "metadata": {},
   "source": [
    "Sağa Eğimli Dağılım: Dağılım oldukça sağa eğiktir ve bu da çoğu bisiklet paylaşım sayısının düşük olduğunu ve çok düşük değerlerde önemli bir tepe noktası olduğunu gösterir. Bu, düşük bisiklet paylaşım kullanımı örneklerinin çok sayıda olduğunu ve yüksek kullanım örneklerinin daha az olduğunu göstermektedir."
   ]
  },
  {
   "cell_type": "code",
   "execution_count": 18,
   "id": "fbb15acc-6156-42ea-813c-87d2822b5589",
   "metadata": {},
   "outputs": [
    {
     "data": {
      "text/html": [
       "<div>\n",
       "<style scoped>\n",
       "    .dataframe tbody tr th:only-of-type {\n",
       "        vertical-align: middle;\n",
       "    }\n",
       "\n",
       "    .dataframe tbody tr th {\n",
       "        vertical-align: top;\n",
       "    }\n",
       "\n",
       "    .dataframe thead th {\n",
       "        text-align: right;\n",
       "    }\n",
       "</style>\n",
       "<table border=\"1\" class=\"dataframe\">\n",
       "  <thead>\n",
       "    <tr style=\"text-align: right;\">\n",
       "      <th></th>\n",
       "      <th>max</th>\n",
       "      <th>min</th>\n",
       "      <th>mean</th>\n",
       "    </tr>\n",
       "    <tr>\n",
       "      <th>season</th>\n",
       "      <th></th>\n",
       "      <th></th>\n",
       "      <th></th>\n",
       "    </tr>\n",
       "  </thead>\n",
       "  <tbody>\n",
       "    <tr>\n",
       "      <th>0.0</th>\n",
       "      <td>5322</td>\n",
       "      <td>0</td>\n",
       "      <td>1103.831589</td>\n",
       "    </tr>\n",
       "    <tr>\n",
       "      <th>1.0</th>\n",
       "      <td>7860</td>\n",
       "      <td>12</td>\n",
       "      <td>1464.465238</td>\n",
       "    </tr>\n",
       "    <tr>\n",
       "      <th>2.0</th>\n",
       "      <td>5422</td>\n",
       "      <td>9</td>\n",
       "      <td>1178.954218</td>\n",
       "    </tr>\n",
       "    <tr>\n",
       "      <th>3.0</th>\n",
       "      <td>4415</td>\n",
       "      <td>10</td>\n",
       "      <td>821.729099</td>\n",
       "    </tr>\n",
       "  </tbody>\n",
       "</table>\n",
       "</div>"
      ],
      "text/plain": [
       "         max  min         mean\n",
       "season                        \n",
       "0.0     5322    0  1103.831589\n",
       "1.0     7860   12  1464.465238\n",
       "2.0     5422    9  1178.954218\n",
       "3.0     4415   10   821.729099"
      ]
     },
     "execution_count": 18,
     "metadata": {},
     "output_type": "execute_result"
    }
   ],
   "source": [
    "df.groupby(\"season\")[\"total_count\"].agg([max,min,np.mean])"
   ]
  },
  {
   "cell_type": "code",
   "execution_count": 19,
   "id": "65540753-cf41-4f81-b9ad-921f82493d9c",
   "metadata": {},
   "outputs": [
    {
     "data": {
      "image/png": "[encoded data removed]",
      "text/plain": [
       "<Figure size 800x400 with 1 Axes>"
      ]
     },
     "metadata": {},
     "output_type": "display_data"
    }
   ],
   "source": [
    "# Bisiklet paylaşımını mevsime göre çubuk grafik olarak çizme\n",
    "plt.figure(figsize=(8, 4))\n",
    "\n",
    "season_labels = {0: 'Winter', 1: 'Spring', 2: 'Summer', 3: 'Autumn'}\n",
    "\n",
    "sns.barplot(x=df['season'].replace(season_labels), y='total_count', data=df, palette='viridis')\n",
    "plt.xlabel('Season')\n",
    "plt.ylabel('Bike Shares')\n",
    "plt.title('Total Bike Shares by Season')\n",
    "\n",
    "# y-axis labels\n",
    "y_labels = plt.gca().get_yticks()\n",
    "plt.gca().set_yticklabels([f'{int(label/1000)}' for label in y_labels])\n",
    "\n",
    "plt.show()"
   ]
  },
  {
   "cell_type": "raw",
   "id": "6b4a3674-3790-4b30-b4a2-57f376a51f6e",
   "metadata": {},
   "source": [
    "Bisiklet paylaşımları ilkbahar mevsiminde en yüksek seviyededir, bunu yaz ve kış ayları takip eder ve en düşük bisiklet paylaşım sayıları sonbaharda görülür. Bu durum, ilkbahar ve yaz aylarındaki daha elverişli hava koşullarının, sonbahar ve kışa kıyasla daha yüksek bisiklet kullanımını teşvik ettiğini göstermektedir."
   ]
  },
  {
   "cell_type": "code",
   "execution_count": 20,
   "id": "28929e47-2313-4f58-8ad3-0b8d9b4919f4",
   "metadata": {},
   "outputs": [
    {
     "data": {
      "image/png": "[encoded data removed]",
      "text/plain": [
       "<Figure size 800x400 with 1 Axes>"
      ]
     },
     "metadata": {},
     "output_type": "display_data"
    }
   ],
   "source": [
    "# Sezonlara göre hafta içi bisiklet paylaşım sayısı\n",
    "\n",
    "plt.figure(figsize=(8, 4))\n",
    "# Define the season and day of the week labels\n",
    "season_labels = {0: 'Winter', 1: 'Spring', 2: 'Summer', 3: 'Autumn'}\n",
    "day_labels = ['Monday', 'Tuesday', 'Wednesday', 'Thursday', 'Friday', 'Saturday', 'Sunday']\n",
    "\n",
    "# Aggregating the data by season and day of the week\n",
    "daily_seasonal_data = df.groupby(['season', 'day_of_week'])['total_count'].mean().reset_index()\n",
    "\n",
    "# Creating the point plot without adding a new column\n",
    "sns.pointplot(x='day_of_week', y='total_count', hue=daily_seasonal_data['season'].replace(season_labels), data=daily_seasonal_data, palette='viridis')\n",
    "plt.xlabel('Day of the Week')\n",
    "plt.ylabel('Bike Shares')\n",
    "plt.title('Average Bike Shares by Day of the Week for Seasons')\n",
    "\n",
    "# Update the x-axis labels to show the days of the week\n",
    "plt.xticks(ticks=range(7), labels=day_labels)\n",
    "\n",
    "plt.legend(title='Season')\n",
    "plt.tight_layout()\n",
    "plt.show()"
   ]
  },
  {
   "cell_type": "raw",
   "id": "3e84f4f2-6ba8-46c1-ab7c-ac19028c50a8",
   "metadata": {},
   "source": [
    "Hafta İçi Yoğunlukları: Hafta içi, özellikle Çarşamba-Cuma arası en yüksek bisiklet paylaşım oranları.\n",
    "Hafta Sonu Düşüşü: Cumartesi ve Pazar günleri bisiklet paylaşım oranlarında önemli düşüş.\n",
    "Mevsimsel Değişim: Yaz ve ilkbahar aylarında en yüksek bisiklet paylaşım oranları görülürken, kış aylarında en düşük bisiklet paylaşım oranları görülmektedir.\n",
    "Tutarlı Trend: Tüm mevsimlerde benzer eğilimler görülmektedir; hafta içi kullanım daha yüksek, hafta sonu kullanım ise daha düşüktür."
   ]
  },
  {
   "cell_type": "markdown",
   "id": "a1349fb4-36b6-406c-9184-8defe8b56669",
   "metadata": {},
   "source": [
    "### Feature Selection"
   ]
  },
  {
   "cell_type": "code",
   "execution_count": 22,
   "id": "fe1c5727-9f76-47c6-a47b-122ddd94fbb7",
   "metadata": {},
   "outputs": [],
   "source": [
    "# Scaling numerical features using the `StandardScaler()` function.\n",
    "\n",
    "from sklearn.preprocessing import StandardScaler\n",
    "\n",
    "numerical_features = df.select_dtypes(include=['float64', 'int64']).columns.tolist()\n",
    "\n",
    "scaler = StandardScaler()\n",
    "\n",
    "df_scaled = scaler.fit_transform(df[numerical_features])\n",
    "\n",
    "df_scaled = pd.DataFrame(df_scaled, columns=numerical_features)"
   ]
  },
  {
   "cell_type": "code",
   "execution_count": 23,
   "id": "787c7cca-b3e2-4a3c-965c-e31281ab3a60",
   "metadata": {},
   "outputs": [
    {
     "data": {
      "text/html": [
       "<div>\n",
       "<style scoped>\n",
       "    .dataframe tbody tr th:only-of-type {\n",
       "        vertical-align: middle;\n",
       "    }\n",
       "\n",
       "    .dataframe tbody tr th {\n",
       "        vertical-align: top;\n",
       "    }\n",
       "\n",
       "    .dataframe thead th {\n",
       "        text-align: right;\n",
       "    }\n",
       "</style>\n",
       "<table border=\"1\" class=\"dataframe\">\n",
       "  <thead>\n",
       "    <tr style=\"text-align: right;\">\n",
       "      <th></th>\n",
       "      <th>total_count</th>\n",
       "      <th>temp</th>\n",
       "      <th>feel_temp</th>\n",
       "      <th>humidity</th>\n",
       "      <th>wind_speed</th>\n",
       "      <th>weather_code</th>\n",
       "      <th>is_holiday</th>\n",
       "      <th>is_weekend</th>\n",
       "      <th>season</th>\n",
       "    </tr>\n",
       "  </thead>\n",
       "  <tbody>\n",
       "    <tr>\n",
       "      <th>0</th>\n",
       "      <td>-0.885745</td>\n",
       "      <td>-1.699331</td>\n",
       "      <td>-1.439290</td>\n",
       "      <td>1.444517</td>\n",
       "      <td>-1.255717</td>\n",
       "      <td>0.118427</td>\n",
       "      <td>-0.150161</td>\n",
       "      <td>1.582347</td>\n",
       "      <td>1.347711</td>\n",
       "    </tr>\n",
       "    <tr>\n",
       "      <th>1</th>\n",
       "      <td>-0.926295</td>\n",
       "      <td>-1.699331</td>\n",
       "      <td>-1.363703</td>\n",
       "      <td>1.444517</td>\n",
       "      <td>-1.382390</td>\n",
       "      <td>-0.735874</td>\n",
       "      <td>-0.150161</td>\n",
       "      <td>1.582347</td>\n",
       "      <td>1.347711</td>\n",
       "    </tr>\n",
       "    <tr>\n",
       "      <th>2</th>\n",
       "      <td>-0.929982</td>\n",
       "      <td>-1.789071</td>\n",
       "      <td>-1.363703</td>\n",
       "      <td>1.689054</td>\n",
       "      <td>-2.015755</td>\n",
       "      <td>-0.735874</td>\n",
       "      <td>-0.150161</td>\n",
       "      <td>1.582347</td>\n",
       "      <td>1.347711</td>\n",
       "    </tr>\n",
       "    <tr>\n",
       "      <th>3</th>\n",
       "      <td>-0.987120</td>\n",
       "      <td>-1.878811</td>\n",
       "      <td>-1.439290</td>\n",
       "      <td>1.933590</td>\n",
       "      <td>-2.015755</td>\n",
       "      <td>-0.735874</td>\n",
       "      <td>-0.150161</td>\n",
       "      <td>1.582347</td>\n",
       "      <td>1.347711</td>\n",
       "    </tr>\n",
       "    <tr>\n",
       "      <th>4</th>\n",
       "      <td>-1.010160</td>\n",
       "      <td>-1.878811</td>\n",
       "      <td>-1.741635</td>\n",
       "      <td>1.444517</td>\n",
       "      <td>-1.192381</td>\n",
       "      <td>-0.735874</td>\n",
       "      <td>-0.150161</td>\n",
       "      <td>1.582347</td>\n",
       "      <td>1.347711</td>\n",
       "    </tr>\n",
       "  </tbody>\n",
       "</table>\n",
       "</div>"
      ],
      "text/plain": [
       "   total_count      temp  feel_temp  humidity  wind_speed  weather_code  \\\n",
       "0    -0.885745 -1.699331  -1.439290  1.444517   -1.255717      0.118427   \n",
       "1    -0.926295 -1.699331  -1.363703  1.444517   -1.382390     -0.735874   \n",
       "2    -0.929982 -1.789071  -1.363703  1.689054   -2.015755     -0.735874   \n",
       "3    -0.987120 -1.878811  -1.439290  1.933590   -2.015755     -0.735874   \n",
       "4    -1.010160 -1.878811  -1.741635  1.444517   -1.192381     -0.735874   \n",
       "\n",
       "   is_holiday  is_weekend    season  \n",
       "0   -0.150161    1.582347  1.347711  \n",
       "1   -0.150161    1.582347  1.347711  \n",
       "2   -0.150161    1.582347  1.347711  \n",
       "3   -0.150161    1.582347  1.347711  \n",
       "4   -0.150161    1.582347  1.347711  "
      ]
     },
     "execution_count": 23,
     "metadata": {},
     "output_type": "execute_result"
    }
   ],
   "source": [
    "df_scaled.head()"
   ]
  },
  {
   "cell_type": "code",
   "execution_count": 24,
   "id": "a6f72879-ae40-4001-b3c1-b2075daeb22c",
   "metadata": {},
   "outputs": [
    {
     "data": {
      "image/png": "[encoded data removed]",
      "text/plain": [
       "<Figure size 800x400 with 2 Axes>"
      ]
     },
     "metadata": {},
     "output_type": "display_data"
    }
   ],
   "source": [
    "correlation_matrix = df_scaled.iloc[:,0:9].corr()\n",
    "\n",
    "sns.heatmap(correlation_matrix, annot=True, cmap='coolwarm')\n",
    "plt.title('Correlation Matrix of DataFrame Columns')\n",
    "plt.show()"
   ]
  },
  {
   "cell_type": "markdown",
   "id": "190f7cef-00c2-495c-bb5c-0eb00ed97594",
   "metadata": {},
   "source": [
    "## Model Training"
   ]
  },
  {
   "cell_type": "code",
   "execution_count": 26,
   "id": "4510e1f9-e50c-48bf-bfb8-a410db1566ad",
   "metadata": {},
   "outputs": [],
   "source": [
    "x = df.drop(['total_count','timestamp'], axis=1)\n",
    "y = df['total_count']"
   ]
  },
  {
   "cell_type": "code",
   "execution_count": 27,
   "id": "0633e2b0-4e7a-46fc-b913-dfce60a55e1f",
   "metadata": {},
   "outputs": [],
   "source": [
    "from sklearn.preprocessing import StandardScaler"
   ]
  },
  {
   "cell_type": "code",
   "execution_count": 28,
   "id": "8f80fd6a-19a4-4f3a-a443-6d17cfae225c",
   "metadata": {},
   "outputs": [],
   "source": [
    "sc=StandardScaler()"
   ]
  },
  {
   "cell_type": "code",
   "execution_count": 29,
   "id": "302396d5-fc8b-4475-8c07-6d9785573e7b",
   "metadata": {},
   "outputs": [],
   "source": [
    "x=sc.fit_transform(x) # datayi scalar ettik"
   ]
  },
  {
   "cell_type": "code",
   "execution_count": null,
   "id": "3035acb7-c492-4f72-9947-37e34136b9fe",
   "metadata": {},
   "outputs": [],
   "source": []
  },
  {
   "cell_type": "code",
   "execution_count": 30,
   "id": "cff83028-8bfa-4eba-8dd5-62b3460ca4bc",
   "metadata": {},
   "outputs": [],
   "source": [
    "from sklearn.model_selection import train_test_split"
   ]
  },
  {
   "cell_type": "code",
   "execution_count": 31,
   "id": "e9c417bc-2437-4546-8dc8-f721a53f5964",
   "metadata": {},
   "outputs": [],
   "source": [
    "x_train,x_test,y_train,y_test=train_test_split(x,y,test_size=0.2, random_state=42)"
   ]
  },
  {
   "cell_type": "code",
   "execution_count": 32,
   "id": "ddd07436-d833-47ec-9e6c-c2a1388f35c8",
   "metadata": {},
   "outputs": [],
   "source": [
    "from sklearn.tree import DecisionTreeRegressor\n",
    "\n",
    "dr=DecisionTreeRegressor()\n",
    "\n",
    "model=dr.fit(x_train, y_train)"
   ]
  },
  {
   "cell_type": "code",
   "execution_count": 33,
   "id": "2f94f724-ffe9-4498-bf36-1831d4b7b53d",
   "metadata": {},
   "outputs": [],
   "source": [
    "tahmin = model.predict(x_test)"
   ]
  },
  {
   "cell_type": "code",
   "execution_count": 34,
   "id": "7c0b7286-1c95-477b-933e-76fad5cd0ab9",
   "metadata": {},
   "outputs": [],
   "source": [
    "from sklearn.metrics import r2_score # barasi oranini ölcüyoruz"
   ]
  },
  {
   "cell_type": "code",
   "execution_count": 35,
   "id": "f430f46d-655b-4fc1-96f8-f3fa883974a1",
   "metadata": {},
   "outputs": [
    {
     "data": {
      "text/plain": [
       "0.9374864163113448"
      ]
     },
     "execution_count": 35,
     "metadata": {},
     "output_type": "execute_result"
    }
   ],
   "source": [
    "r2_score(tahmin,y_test)"
   ]
  },
  {
   "cell_type": "code",
   "execution_count": 36,
   "id": "698d16a0-c086-48ea-ad1e-692a6eadc485",
   "metadata": {},
   "outputs": [
    {
     "ename": "NameError",
     "evalue": "name 'mean_squared_error' is not defined",
     "output_type": "error",
     "traceback": [
      "\u001b[1;31m---------------------------------------------------------------------------\u001b[0m",
      "\u001b[1;31mNameError\u001b[0m                                 Traceback (most recent call last)",
      "Cell \u001b[1;32mIn[36], line 1\u001b[0m\n\u001b[1;32m----> 1\u001b[0m mse \u001b[38;5;241m=\u001b[39m mean_squared_error(y_test, tahmin)\n\u001b[0;32m      2\u001b[0m \u001b[38;5;28mprint\u001b[39m(\u001b[38;5;124mf\u001b[39m\u001b[38;5;124m\"\u001b[39m\u001b[38;5;124mMean Squared Error: \u001b[39m\u001b[38;5;132;01m{\u001b[39;00mmse\u001b[38;5;132;01m}\u001b[39;00m\u001b[38;5;124m\"\u001b[39m)\n",
      "\u001b[1;31mNameError\u001b[0m: name 'mean_squared_error' is not defined"
     ]
    }
   ],
   "source": [
    "mse = mean_squared_error(y_test, tahmin)\n",
    "print(f\"Mean Squared Error: {mse}\")"
   ]
  },
  {
   "cell_type": "markdown",
   "id": "c8cdfc65-a71a-4c55-856f-f76dd6cb9731",
   "metadata": {},
   "source": [
    "## Visualize the Performance"
   ]
  },
  {
   "cell_type": "code",
   "execution_count": null,
   "id": "d113dec4-db4b-4c87-be58-62551dadbbba",
   "metadata": {},
   "outputs": [],
   "source": [
    "plt.figure(figsize=(8, 4))\n",
    "# Scatter plot: Actual vs Predicted\n",
    "plt.scatter(y_test, tahmin, alpha=0.5)\n",
    "plt.plot([y_test.min(), y_test.max()], [y_test.min(), y_test.max()], 'r--')\n",
    "plt.xlabel('Actual')\n",
    "plt.ylabel('Predicted')\n",
    "plt.title('Actual vs Predicted Bike Shares')\n",
    "plt.show()"
   ]
  },
  {
   "cell_type": "raw",
   "id": "ef1d3be8-acad-4535-9c65-1abaf715fdbd",
   "metadata": {},
   "source": [
    "Kırmızı kesikli çizgi, tahminlerin gerçek değerlerle mükemmel şekilde eşleştiği ideal senaryoyu temsil eder.\n",
    "Saçılma grafiği, gerçek ve tahmin edilen bisiklet paylaşım sayıları arasında güçlü bir pozitif korelasyon göstermektedir ve bu da iyi bir model performansına işaret etmektedir.\n",
    "Ancak, model daha yüksek bisiklet paylaşım sayılarını tahmin etmede daha az doğruluğa sahiptir ve bu değerlerde daha belirgin sapmalar gözlemlenmektedir."
   ]
  },
  {
   "cell_type": "code",
   "execution_count": null,
   "id": "4e93a384-9012-47df-9355-0dd02c747700",
   "metadata": {},
   "outputs": [],
   "source": [
    "plt.figure(figsize=(8, 4))\n",
    "# Histogram: Distribution of prediction errors\n",
    "errors = y_test - tahmin\n",
    "\n",
    "sns.histplot(errors, bins=30, kde=True)\n",
    "plt.xlabel('Prediction Error')\n",
    "plt.title('Distribution of Prediction Errors')\n",
    "plt.show()"
   ]
  },
  {
   "cell_type": "raw",
   "id": "42d2882b-0104-441a-99b7-de6a7498ff56",
   "metadata": {},
   "source": [
    "Histogram, tahmin hatalarının (gerçek ve tahmin edilen değerler arasındaki farklar) dağılımını gösterir.\n",
    "\n",
    "Sıfırın Etrafında Merkezlenmiş: Hatalar sıfırın etrafında sıkı bir şekilde kümelenmiştir ve bu da modelin tahminlerinin genel olarak doğru olduğunu gösterir.\n",
    "\n",
    "Simetrik Dağılım: Simetrik şekil, modelin hatalarının eşit olarak dağıldığını ve bisiklet paylaşımlarını abartma veya küçümseme konusunda önemli bir önyargı olmadığını gösterir.\n",
    "\n",
    "Bu, minimum tahmin hatasına sahip, iyi performans gösteren bir model olduğunu gösterir."
   ]
  },
  {
   "cell_type": "markdown",
   "id": "afe34257-7747-46cc-96ee-a68d6098a480",
   "metadata": {},
   "source": [
    "## ÖZET"
   ]
  },
  {
   "cell_type": "raw",
   "id": "fd7b470d-55b5-43d5-ab9a-bba408abf5b7",
   "metadata": {},
   "source": [
    "Bu analiz, mevsimsel değişiklikler, hava koşulları ve işe gidip gelme alışkanlıkları gibi bisiklet paylaşım talebini etkileyen faktörler hakkında değerli bilgiler sunmaktadır. Random Forest modeli, gelecekteki bisiklet paylaşım talebini tahmin etmede etkili olduğunu kanıtlamıştır ve bu da bisiklet paylaşım hizmetlerini optimize etmek için stratejik kararlar alınmasına yardımcı olabilir. Bu önerilerin uygulanması, kullanıcı memnuniyetini artırabilir ve bisiklet paylaşım programının sorunsuz bir şekilde işlemesini sağlayabilir."
   ]
  },
  {
   "cell_type": "raw",
   "id": "d79bf35d-49a1-4c54-836e-3d804f74238a",
   "metadata": {},
   "source": [
    "Bu calisma kaggle ve poe yardimiyla yapilmistir."
   ]
  },
  {
   "cell_type": "code",
   "execution_count": null,
   "id": "53d90463-5dea-46b2-b1c9-2edc3b9aa81b",
   "metadata": {},
   "outputs": [],
   "source": []
  }
 ],
 "metadata": {
  "kernelspec": {
   "display_name": "Python [conda env:base] *",
   "language": "python",
   "name": "conda-base-py"
  },
  "language_info": {
   "codemirror_mode": {
    "name": "ipython",
    "version": 3
   },
   "file_extension": ".py",
   "mimetype": "text/x-python",
   "name": "python",
   "nbconvert_exporter": "python",
   "pygments_lexer": "ipython3",
   "version": "3.12.7"
  }
 },
 "nbformat": 4,
 "nbformat_minor": 5
}
