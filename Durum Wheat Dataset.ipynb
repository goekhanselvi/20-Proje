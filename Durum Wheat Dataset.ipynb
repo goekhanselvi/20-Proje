{
 "cells": [
  {
   "cell_type": "markdown",
   "id": "dfac31ea-0fa0-4296-9ef1-dfbf7a43f026",
   "metadata": {},
   "source": [
    "# Transfer Learning for Durum Wheat Classification"
   ]
  },
  {
   "cell_type": "markdown",
   "id": "612f8b0c-1be6-4e2e-a8c0-8aa5bdfc22ad",
   "metadata": {},
   "source": [
    "<img src='grano_duro_BIO.jpg' width=1000>"
   ]
  },
  {
   "cell_type": "raw",
   "id": "93d95080-94ce-4b0d-b0bc-5db2fb78987f",
   "metadata": {},
   "source": [
    "Project Overview\n",
    "This project leverages Convolutional Neural Networks (CNN) to classify different varieties of wheat in controlled environments. The objective is to automate the identification process of wheat types, enhancing efficiency and accuracy in agricultural and commercial settings. By employing advanced machine learning techniques, this model can support sorting, grading, and quality assessment of wheat.\n",
    "\n",
    "Key Features:\n",
    "Dataset:\n",
    "The model is trained on a curated dataset of labeled wheat images. The dataset contains five distinct classifications:\n",
    "\n",
    "Vitreous\n",
    "Starchy\n",
    "Foreign\n",
    "Mixture (Labeled)\n",
    "Mixture\n",
    "Model Architecture:\n",
    "The model employs VGG16, a pre-trained CNN architecture, through transfer learning. This approach leverages the rich feature extraction capabilities of VGG16 while fine-tuning the model for the specific task of classifying these five varieties of wheat.\n",
    "\n",
    "Preprocessing:\n",
    "Images were resized to 224x224, normalized, and converted to RGB format to ensure compatibility with the VGG16 input requirements. These preprocessing steps improve the model's generalization to unseen data."
   ]
  },
  {
   "cell_type": "raw",
   "id": "28f885c0-b9dd-4ab9-acfc-aa8a619cb223",
   "metadata": {},
   "source": [
    "Dataset:https://www.kaggle.com/datasets/muratkokludataset/durum-wheat-dataset"
   ]
  },
  {
   "cell_type": "code",
   "execution_count": 3,
   "id": "0fbe46bf-d732-4c73-af26-7a397905d686",
   "metadata": {},
   "outputs": [],
   "source": [
    "from keras.models import Sequential\n",
    "from keras.layers import Dense, Conv2D, Flatten, Input, MaxPooling2D, Dropout, BatchNormalization, Reshape\n",
    "from tensorflow.keras.applications import VGG16, ResNet50\n",
    "from tensorflow.keras.preprocessing.image import ImageDataGenerator\n",
    "import os\n",
    "import pandas as pd\n",
    "from sklearn.metrics import accuracy_score\n",
    "from tensorflow.keras.preprocessing import image\n",
    "import numpy as np\n",
    "from tensorflow.keras.applications.vgg16 import preprocess_input, decode_predictions\n",
    "from sklearn.metrics import confusion_matrix, ConfusionMatrixDisplay\n",
    "import matplotlib.pyplot as plt\n",
    "import warnings\n",
    "warnings.filterwarnings(\"ignore\")"
   ]
  },
  {
   "cell_type": "code",
   "execution_count": 7,
   "id": "099c9d1f-e813-46c5-a1f6-a95d32b0bf34",
   "metadata": {},
   "outputs": [
    {
     "data": {
      "text/plain": [
       "['1-Images from Vitreous Durum Wheat',\n",
       " '2-Images from Starchy Durum Wheat',\n",
       " '3-Images from Foreign Matters',\n",
       " '4-Images from Mixture of All Durum Wheat and Foreign Matters',\n",
       " '5-Images form Mixture of All Durum Wheat and Foreign Matters (Labeled)']"
      ]
     },
     "execution_count": 7,
     "metadata": {},
     "output_type": "execute_result"
    }
   ],
   "source": [
    "img_path='Dataset2-Durum Wheat Video Images'\n",
    "os.listdir(img_path)"
   ]
  },
  {
   "cell_type": "markdown",
   "id": "8f114396-df4d-401e-a0e2-6bce186ee8d6",
   "metadata": {},
   "source": [
    "### Transfer Learning with VGG16"
   ]
  },
  {
   "cell_type": "code",
   "execution_count": 13,
   "id": "e8fa877e-2a0a-4e0d-a755-dc4f8fb14a40",
   "metadata": {},
   "outputs": [
    {
     "name": "stdout",
     "output_type": "stream",
     "text": [
      "Found 260 images belonging to 5 classes.\n",
      "Found 65 images belonging to 5 classes.\n"
     ]
    }
   ],
   "source": [
    "data_dir='Dataset2-Durum Wheat Video Images'\n",
    "img_width,img_height=224,224\n",
    "\n",
    "datagen=ImageDataGenerator(rescale=1/255,validation_split=.2)\n",
    "train_datagen=datagen.flow_from_directory(directory=data_dir,target_size=(img_width,img_height),class_mode='sparse',subset='training',shuffle=False)\n",
    "\n",
    "test_datagen=ImageDataGenerator(rescale=1/255)\n",
    "test_datagen=datagen.flow_from_directory(directory=data_dir,target_size=(img_width,img_height),class_mode='sparse',subset='validation',shuffle=False)\n",
    "base_model=VGG16(weights='imagenet',input_shape=(img_width,img_height,3),include_top=False)"
   ]
  },
  {
   "cell_type": "code",
   "execution_count": 15,
   "id": "b9148ca1-7dd7-4ab4-8dc4-397ad538b2d4",
   "metadata": {},
   "outputs": [],
   "source": [
    "model=Sequential()\n",
    "model.add(base_model)\n",
    "for layer in base_model.layers:\n",
    "    layer.trainable=False\n",
    "model.add(Flatten())\n",
    "model.add(Dense(1024,activation='relu'))\n",
    "model.add(Dense(5,activation='softmax'))\n",
    "model.compile(optimizer ='adam',loss='sparse_categorical_crossentropy',metrics=['accuracy'])"
   ]
  },
  {
   "cell_type": "code",
   "execution_count": 17,
   "id": "7db3abdb-d911-4256-a8ae-f074782af431",
   "metadata": {},
   "outputs": [
    {
     "name": "stdout",
     "output_type": "stream",
     "text": [
      "Epoch 1/15\n",
      "\u001b[1m9/9\u001b[0m \u001b[32m━━━━━━━━━━━━━━━━━━━━\u001b[0m\u001b[37m\u001b[0m \u001b[1m24s\u001b[0m 2s/step - accuracy: 0.0538 - loss: 18.8860 - val_accuracy: 0.4000 - val_loss: 5.2789\n",
      "Epoch 2/15\n",
      "\u001b[1m9/9\u001b[0m \u001b[32m━━━━━━━━━━━━━━━━━━━━\u001b[0m\u001b[37m\u001b[0m \u001b[1m22s\u001b[0m 3s/step - accuracy: 0.5038 - loss: 3.3098 - val_accuracy: 0.6923 - val_loss: 2.4066\n",
      "Epoch 3/15\n",
      "\u001b[1m9/9\u001b[0m \u001b[32m━━━━━━━━━━━━━━━━━━━━\u001b[0m\u001b[37m\u001b[0m \u001b[1m23s\u001b[0m 3s/step - accuracy: 0.7962 - loss: 0.6293 - val_accuracy: 0.4462 - val_loss: 0.8369\n",
      "Epoch 4/15\n",
      "\u001b[1m9/9\u001b[0m \u001b[32m━━━━━━━━━━━━━━━━━━━━\u001b[0m\u001b[37m\u001b[0m \u001b[1m23s\u001b[0m 3s/step - accuracy: 0.9423 - loss: 0.1443 - val_accuracy: 1.0000 - val_loss: 0.1026\n",
      "Epoch 5/15\n",
      "\u001b[1m9/9\u001b[0m \u001b[32m━━━━━━━━━━━━━━━━━━━━\u001b[0m\u001b[37m\u001b[0m \u001b[1m23s\u001b[0m 3s/step - accuracy: 1.0000 - loss: 0.0161 - val_accuracy: 0.8000 - val_loss: 0.3285\n",
      "Epoch 6/15\n",
      "\u001b[1m9/9\u001b[0m \u001b[32m━━━━━━━━━━━━━━━━━━━━\u001b[0m\u001b[37m\u001b[0m \u001b[1m23s\u001b[0m 3s/step - accuracy: 0.9808 - loss: 0.0577 - val_accuracy: 1.0000 - val_loss: 0.0558\n",
      "Epoch 7/15\n",
      "\u001b[1m9/9\u001b[0m \u001b[32m━━━━━━━━━━━━━━━━━━━━\u001b[0m\u001b[37m\u001b[0m \u001b[1m24s\u001b[0m 3s/step - accuracy: 1.0000 - loss: 0.0032 - val_accuracy: 0.8769 - val_loss: 0.2176\n",
      "Epoch 8/15\n",
      "\u001b[1m9/9\u001b[0m \u001b[32m━━━━━━━━━━━━━━━━━━━━\u001b[0m\u001b[37m\u001b[0m \u001b[1m25s\u001b[0m 3s/step - accuracy: 1.0000 - loss: 0.0121 - val_accuracy: 0.9385 - val_loss: 0.1191\n",
      "Epoch 9/15\n",
      "\u001b[1m9/9\u001b[0m \u001b[32m━━━━━━━━━━━━━━━━━━━━\u001b[0m\u001b[37m\u001b[0m \u001b[1m24s\u001b[0m 3s/step - accuracy: 1.0000 - loss: 0.0014 - val_accuracy: 1.0000 - val_loss: 0.0453\n",
      "Epoch 10/15\n",
      "\u001b[1m9/9\u001b[0m \u001b[32m━━━━━━━━━━━━━━━━━━━━\u001b[0m\u001b[37m\u001b[0m \u001b[1m24s\u001b[0m 3s/step - accuracy: 1.0000 - loss: 0.0011 - val_accuracy: 1.0000 - val_loss: 0.0336\n",
      "Epoch 11/15\n",
      "\u001b[1m9/9\u001b[0m \u001b[32m━━━━━━━━━━━━━━━━━━━━\u001b[0m\u001b[37m\u001b[0m \u001b[1m23s\u001b[0m 3s/step - accuracy: 1.0000 - loss: 0.0010 - val_accuracy: 1.0000 - val_loss: 0.0306\n",
      "Epoch 12/15\n",
      "\u001b[1m9/9\u001b[0m \u001b[32m━━━━━━━━━━━━━━━━━━━━\u001b[0m\u001b[37m\u001b[0m \u001b[1m23s\u001b[0m 3s/step - accuracy: 1.0000 - loss: 9.8993e-04 - val_accuracy: 1.0000 - val_loss: 0.0295\n",
      "Epoch 13/15\n",
      "\u001b[1m9/9\u001b[0m \u001b[32m━━━━━━━━━━━━━━━━━━━━\u001b[0m\u001b[37m\u001b[0m \u001b[1m23s\u001b[0m 3s/step - accuracy: 1.0000 - loss: 9.3236e-04 - val_accuracy: 1.0000 - val_loss: 0.0293\n",
      "Epoch 14/15\n",
      "\u001b[1m9/9\u001b[0m \u001b[32m━━━━━━━━━━━━━━━━━━━━\u001b[0m\u001b[37m\u001b[0m \u001b[1m23s\u001b[0m 3s/step - accuracy: 1.0000 - loss: 8.7561e-04 - val_accuracy: 1.0000 - val_loss: 0.0295\n",
      "Epoch 15/15\n",
      "\u001b[1m9/9\u001b[0m \u001b[32m━━━━━━━━━━━━━━━━━━━━\u001b[0m\u001b[37m\u001b[0m \u001b[1m23s\u001b[0m 3s/step - accuracy: 1.0000 - loss: 8.2680e-04 - val_accuracy: 1.0000 - val_loss: 0.0298\n"
     ]
    }
   ],
   "source": [
    "history=model.fit(train_datagen,epochs=15,validation_data=test_datagen)"
   ]
  },
  {
   "cell_type": "markdown",
   "id": "3b8f599b-e2ad-492d-95c1-9dd5ce86ee15",
   "metadata": {},
   "source": [
    "### Model Overview"
   ]
  },
  {
   "cell_type": "code",
   "execution_count": 20,
   "id": "4608439e-5558-4ee1-aef2-9a1d97e53cd7",
   "metadata": {},
   "outputs": [
    {
     "name": "stderr",
     "output_type": "stream",
     "text": [
      "WARNING:absl:You are saving your model as an HDF5 file via `model.save()` or `keras.saving.save_model(model)`. This file format is considered legacy. We recommend using instead the native Keras format, e.g. `model.save('my_model.keras')` or `keras.saving.save_model(model, 'my_model.keras')`. \n"
     ]
    }
   ],
   "source": [
    "model.save('cnn_model.h5')"
   ]
  },
  {
   "cell_type": "code",
   "execution_count": 23,
   "id": "edb5e260-f6f8-4de5-bd21-e5fb09b3480f",
   "metadata": {},
   "outputs": [
    {
     "data": {
      "text/plain": [
       "1.0"
      ]
     },
     "execution_count": 23,
     "metadata": {},
     "output_type": "execute_result"
    }
   ],
   "source": [
    "history.history['accuracy'][-1]"
   ]
  },
  {
   "cell_type": "code",
   "execution_count": 25,
   "id": "05bd9e23-61ef-4caa-a5f0-8e15b2e90c50",
   "metadata": {},
   "outputs": [
    {
     "data": {
      "image/png": "[encoded data removed]",
      "text/plain": [
       "<Figure size 640x480 with 1 Axes>"
      ]
     },
     "metadata": {},
     "output_type": "display_data"
    }
   ],
   "source": [
    "plt.plot(history.history['accuracy'],label='Accuracy')\n",
    "plt.plot(history.history['val_accuracy'],label='Val_Accuracy')\n",
    "plt.legend();"
   ]
  },
  {
   "cell_type": "markdown",
   "id": "9f758ed9-b6d4-475f-a857-0977a05e137c",
   "metadata": {},
   "source": [
    "### Model Testing"
   ]
  },
  {
   "cell_type": "code",
   "execution_count": 27,
   "id": "e64c05f9-909b-4887-b74f-a9635ea6ed0c",
   "metadata": {},
   "outputs": [
    {
     "name": "stdout",
     "output_type": "stream",
     "text": [
      "\u001b[1m3/3\u001b[0m \u001b[32m━━━━━━━━━━━━━━━━━━━━\u001b[0m\u001b[37m\u001b[0m \u001b[1m5s\u001b[0m 1s/step\n"
     ]
    },
    {
     "data": {
      "text/plain": [
       "1.0"
      ]
     },
     "execution_count": 27,
     "metadata": {},
     "output_type": "execute_result"
    }
   ],
   "source": [
    "test_labels = test_datagen.classes\n",
    "predictions = model.predict(test_datagen)\n",
    "predicted_classes = np.argmax(predictions, axis=1)  \n",
    "accuracy_score(test_labels, predicted_classes)"
   ]
  },
  {
   "cell_type": "code",
   "execution_count": 29,
   "id": "83d2e380-5555-4e36-b2bc-bfb63ed2c32a",
   "metadata": {},
   "outputs": [
    {
     "data": {
      "image/png": "[encoded data removed]",
      "text/plain": [
       "<Figure size 1000x800 with 1 Axes>"
      ]
     },
     "metadata": {},
     "output_type": "display_data"
    }
   ],
   "source": [
    "labels=['Vitreous','Starchy','Foreign','Mixture (Labeled)','Mixture']\n",
    "cm = confusion_matrix(test_labels, predicted_classes)\n",
    "disp = ConfusionMatrixDisplay(confusion_matrix=cm, display_labels=labels)\n",
    "fig, ax = plt.subplots(figsize=(10, 8))\n",
    "disp.plot(ax=ax, cmap=\"viridis\", colorbar=False);"
   ]
  },
  {
   "cell_type": "raw",
   "id": "a87b506b-a522-4c35-b9bd-0d4906fcffe6",
   "metadata": {},
   "source": [
    "Project Results¶\n",
    "The model achieved an accuracy score of 96.92%, demonstrating strong performance in classifying the five types of wheat. The confusion matrix shows that the model performs well for most classes, with Vitreous, Starchy, Foreign, and Mixture (Labeled) being classified accurately. Some misclassifications occurred between Starchy and Mixture, but these are relatively minor."
   ]
  },
  {
   "cell_type": "code",
   "execution_count": null,
   "id": "7ae95f07-8f8e-4c3e-8d6c-ba4526233160",
   "metadata": {},
   "outputs": [],
   "source": []
  },
  {
   "cell_type": "code",
   "execution_count": null,
   "id": "0a706c40-1eeb-4c0d-87ee-a45a4e2ee6e9",
   "metadata": {},
   "outputs": [],
   "source": []
  }
 ],
 "metadata": {
  "kernelspec": {
   "display_name": "Python [conda env:base] *",
   "language": "python",
   "name": "conda-base-py"
  },
  "language_info": {
   "codemirror_mode": {
    "name": "ipython",
    "version": 3
   },
   "file_extension": ".py",
   "mimetype": "text/x-python",
   "name": "python",
   "nbconvert_exporter": "python",
   "pygments_lexer": "ipython3",
   "version": "3.12.7"
  }
 },
 "nbformat": 4,
 "nbformat_minor": 5
}
