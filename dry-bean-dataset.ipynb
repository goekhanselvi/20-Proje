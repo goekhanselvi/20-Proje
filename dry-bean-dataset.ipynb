{
 "cells": [
  {
   "cell_type": "markdown",
   "metadata": {},
   "source": [
    "# **Dry Bean Turkiye**"
   ]
  },
  {
   "cell_type": "markdown",
   "metadata": {},
   "source": [
    "Bu projede, kuru fasulyelerin sınıflandırılması için Derin Öğrenme uygulaması incelenmektedir. Yüksek çözünürlüklü bir kamerayla 7 farklı kayıtlı kuru fasulye türünden 13.611 tane görüntüsü çekilmektedir. Toplamda 12 boyut ve 4 şekil dahil olmak üzere 16 özellik analiz edilmektedir. Bu özellikler, benzer çeşitleri ayırt eden ve uniform tohum sınıflandırmasını mümkün kılan bir bilgisayarlı görü sistemi geliştirmek amacıyla kullanılmaktadır. Amaç, hedeflenmiş model iyileştirmeleri aracılığıyla sınıflandırmanın verimliliğini ve doğruluğunu artırmaktır.\n",
    "_____________\n",
    "In this project, the application of Deep Learning for the classification of dry beans is investigated. Images of 13,611 grains from 7 different registered dry beans are captured using a high-resolution camera. A total of 16 features are analyzed, including 12 dimensions and 4 shapes, to develop a computer vision system that distinguishes these similar varieties and enables uniform seed classification. The goal is to enhance the efficiency and accuracy of classification through targeted model improvements."
   ]
  },
  {
   "cell_type": "markdown",
   "metadata": {},
   "source": [
    "**Data Dictionary**\n",
    "\n",
    "| **Column Name**       | **Description**                                   | **Turkish Translation**                                   |\n",
    "|-----------------------|---------------------------------------------------|----------------------------------------------------------|\n",
    "| Area                  | The area of the shape                             | Şeklin alanı                                            |\n",
    "| Perimeter             | The perimeter of the shape                        | Şeklin çevresi                                          |\n",
    "| MajorAxisLength       | The length of the major axis                      | Ana eksenin uzunluğu                                    |\n",
    "| MinorAxisLength       | The length of the minor axis                      | Küçük eksenin uzunluğu                                  |\n",
    "| AspectRatio           | The ratio of the major axis to the minor axis    | Ana eksenin küçük eksene oranı                          |\n",
    "| Eccentricity          | A measure of how much a shape deviates from being circular | Bir şeklin dairesellikten ne kadar sapma gösterdiğinin ölçüsü |\n",
    "| ConvexArea            | The area of the convex hull of the shape         | Şeklin konveks kabuğunun alanı                          |\n",
    "| EquivDiameter         | The diameter of a circle with the same area as the shape | Şeklin aynı alana sahip dairenin çapı                   |\n",
    "| Extent                | The ratio of the area of the shape to the area of its bounding box | Şeklin alanının çevreleyen kutunun alanına oranı         |\n",
    "| Solidity              | The ratio of the area of the shape to its convex area | Şeklin alanının konveks alanına oranı                   |\n",
    "| Roundness             | A measure of how circular the shape is           | Şeklin ne kadar dairesel olduğunu ölçen bir ölçü       |\n",
    "| Compactness           | A measure of how closely packed the shape is     | Şeklin ne kadar sıkı paketlendiğinin ölçüsü             |\n",
    "| ShapeFactor1          | A geometric measure related to the shape         | Şekle bağlı bir geometrik ölçüm                         |\n",
    "| ShapeFactor2          | Another geometric measure related to the shape    | Şekle bağlı başka bir geometrik ölçüm                   |\n",
    "| ShapeFactor3          | Additional geometric measure                      | Ek bir geometrik ölçüm                                   |\n",
    "| ShapeFactor4          | Further geometric measure                         | Daha fazla geometrik ölçüm                               |\n",
    "| Class                 | The classification of the shape                  | Şeklin sınıflandırması                                   |\n",
    "\n"
   ]
  },
  {
   "cell_type": "markdown",
   "metadata": {},
   "source": [
    "<img src='https://pfst.cf2.poecdn.net/base/image/2be2df970e5d14460c890e9f2dd7c61b6718e4864bbe59403db61499da8ffb81?w=1024&h=768&pmaid=269366674' width=800>\n",
    "<a href='https://www.kaggle.com/datasets/muratkokludataset/dry-bean-dataset' target=_blank>\n",
    "Click here for the dataset </a>"
   ]
  },
  {
   "cell_type": "markdown",
   "metadata": {},
   "source": [
    "**Import library**"
   ]
  },
  {
   "cell_type": "code",
   "execution_count": 1,
   "metadata": {
    "_cell_guid": "b1076dfc-b9ad-4769-8c92-a6c4dae69d19",
    "_uuid": "8f2839f25d086af736a60e9eeb907d3b93b6e0e5",
    "execution": {
     "iopub.execute_input": "2025-01-21T18:34:12.045279Z",
     "iopub.status.busy": "2025-01-21T18:34:12.044910Z",
     "iopub.status.idle": "2025-01-21T18:34:13.339699Z",
     "shell.execute_reply": "2025-01-21T18:34:13.338513Z",
     "shell.execute_reply.started": "2025-01-21T18:34:12.045242Z"
    }
   },
   "outputs": [
    {
     "name": "stdout",
     "output_type": "stream",
     "text": [
      "/kaggle/input/dry-bean-dataset/Dry_Bean_Dataset/Dry_Bean_Dataset_Citation_Request.txt\n",
      "/kaggle/input/dry-bean-dataset/Dry_Bean_Dataset/Dry_Bean_Dataset.xlsx\n",
      "/kaggle/input/dry-bean-dataset/Dry_Bean_Dataset/Dry_Bean_Dataset.arff\n"
     ]
    }
   ],
   "source": [
    "# This Python 3 environment comes with many helpful analytics libraries installed\n",
    "# It is defined by the kaggle/python Docker image: https://github.com/kaggle/docker-python\n",
    "# For example, here's several helpful packages to load\n",
    "\n",
    "import numpy as np # linear algebra\n",
    "import pandas as pd # data processing, CSV file I/O (e.g. pd.read_csv)\n",
    "\n",
    "# Input data files are available in the read-only \"../input/\" directory\n",
    "# For example, running this (by clicking run or pressing Shift+Enter) will list all files under the input directory\n",
    "\n",
    "import os\n",
    "for dirname, _, filenames in os.walk('/kaggle/input'):\n",
    "    for filename in filenames:\n",
    "        print(os.path.join(dirname, filename))\n",
    "\n",
    "# You can write up to 20GB to the current directory (/kaggle/working/) that gets preserved as output when you create a version using \"Save & Run All\" \n",
    "# You can also write temporary files to /kaggle/temp/, but they won't be saved outside of the current session"
   ]
  },
  {
   "cell_type": "code",
   "execution_count": 2,
   "metadata": {
    "execution": {
     "iopub.execute_input": "2025-01-21T18:36:20.930632Z",
     "iopub.status.busy": "2025-01-21T18:36:20.930235Z",
     "iopub.status.idle": "2025-01-21T18:36:20.935322Z",
     "shell.execute_reply": "2025-01-21T18:36:20.934255Z",
     "shell.execute_reply.started": "2025-01-21T18:36:20.930603Z"
    }
   },
   "outputs": [],
   "source": [
    "import warnings\n",
    "warnings.filterwarnings(\"ignore\")"
   ]
  },
  {
   "cell_type": "markdown",
   "metadata": {},
   "source": [
    "**Load data**"
   ]
  },
  {
   "cell_type": "code",
   "execution_count": 3,
   "metadata": {
    "execution": {
     "iopub.execute_input": "2025-01-21T18:41:49.164416Z",
     "iopub.status.busy": "2025-01-21T18:41:49.164034Z",
     "iopub.status.idle": "2025-01-21T18:41:53.310578Z",
     "shell.execute_reply": "2025-01-21T18:41:53.309323Z",
     "shell.execute_reply.started": "2025-01-21T18:41:49.164391Z"
    }
   },
   "outputs": [],
   "source": [
    "df = pd.read_excel('/kaggle/input/dry-bean-dataset/Dry_Bean_Dataset/Dry_Bean_Dataset.xlsx')"
   ]
  },
  {
   "cell_type": "markdown",
   "metadata": {},
   "source": [
    "**Exploratory Data Analysis**"
   ]
  },
  {
   "cell_type": "code",
   "execution_count": 4,
   "metadata": {
    "execution": {
     "iopub.execute_input": "2025-01-21T18:43:29.677329Z",
     "iopub.status.busy": "2025-01-21T18:43:29.676716Z",
     "iopub.status.idle": "2025-01-21T18:43:29.720210Z",
     "shell.execute_reply": "2025-01-21T18:43:29.718536Z",
     "shell.execute_reply.started": "2025-01-21T18:43:29.677297Z"
    }
   },
   "outputs": [
    {
     "data": {
      "text/html": [
       "<div>\n",
       "<style scoped>\n",
       "    .dataframe tbody tr th:only-of-type {\n",
       "        vertical-align: middle;\n",
       "    }\n",
       "\n",
       "    .dataframe tbody tr th {\n",
       "        vertical-align: top;\n",
       "    }\n",
       "\n",
       "    .dataframe thead th {\n",
       "        text-align: right;\n",
       "    }\n",
       "</style>\n",
       "<table border=\"1\" class=\"dataframe\">\n",
       "  <thead>\n",
       "    <tr style=\"text-align: right;\">\n",
       "      <th></th>\n",
       "      <th>Area</th>\n",
       "      <th>Perimeter</th>\n",
       "      <th>MajorAxisLength</th>\n",
       "      <th>MinorAxisLength</th>\n",
       "      <th>AspectRation</th>\n",
       "      <th>Eccentricity</th>\n",
       "      <th>ConvexArea</th>\n",
       "      <th>EquivDiameter</th>\n",
       "      <th>Extent</th>\n",
       "      <th>Solidity</th>\n",
       "      <th>roundness</th>\n",
       "      <th>Compactness</th>\n",
       "      <th>ShapeFactor1</th>\n",
       "      <th>ShapeFactor2</th>\n",
       "      <th>ShapeFactor3</th>\n",
       "      <th>ShapeFactor4</th>\n",
       "      <th>Class</th>\n",
       "    </tr>\n",
       "  </thead>\n",
       "  <tbody>\n",
       "    <tr>\n",
       "      <th>0</th>\n",
       "      <td>28395</td>\n",
       "      <td>610.291</td>\n",
       "      <td>208.178117</td>\n",
       "      <td>173.888747</td>\n",
       "      <td>1.197191</td>\n",
       "      <td>0.549812</td>\n",
       "      <td>28715</td>\n",
       "      <td>190.141097</td>\n",
       "      <td>0.763923</td>\n",
       "      <td>0.988856</td>\n",
       "      <td>0.958027</td>\n",
       "      <td>0.913358</td>\n",
       "      <td>0.007332</td>\n",
       "      <td>0.003147</td>\n",
       "      <td>0.834222</td>\n",
       "      <td>0.998724</td>\n",
       "      <td>SEKER</td>\n",
       "    </tr>\n",
       "    <tr>\n",
       "      <th>1</th>\n",
       "      <td>28734</td>\n",
       "      <td>638.018</td>\n",
       "      <td>200.524796</td>\n",
       "      <td>182.734419</td>\n",
       "      <td>1.097356</td>\n",
       "      <td>0.411785</td>\n",
       "      <td>29172</td>\n",
       "      <td>191.272750</td>\n",
       "      <td>0.783968</td>\n",
       "      <td>0.984986</td>\n",
       "      <td>0.887034</td>\n",
       "      <td>0.953861</td>\n",
       "      <td>0.006979</td>\n",
       "      <td>0.003564</td>\n",
       "      <td>0.909851</td>\n",
       "      <td>0.998430</td>\n",
       "      <td>SEKER</td>\n",
       "    </tr>\n",
       "    <tr>\n",
       "      <th>2</th>\n",
       "      <td>29380</td>\n",
       "      <td>624.110</td>\n",
       "      <td>212.826130</td>\n",
       "      <td>175.931143</td>\n",
       "      <td>1.209713</td>\n",
       "      <td>0.562727</td>\n",
       "      <td>29690</td>\n",
       "      <td>193.410904</td>\n",
       "      <td>0.778113</td>\n",
       "      <td>0.989559</td>\n",
       "      <td>0.947849</td>\n",
       "      <td>0.908774</td>\n",
       "      <td>0.007244</td>\n",
       "      <td>0.003048</td>\n",
       "      <td>0.825871</td>\n",
       "      <td>0.999066</td>\n",
       "      <td>SEKER</td>\n",
       "    </tr>\n",
       "    <tr>\n",
       "      <th>3</th>\n",
       "      <td>30008</td>\n",
       "      <td>645.884</td>\n",
       "      <td>210.557999</td>\n",
       "      <td>182.516516</td>\n",
       "      <td>1.153638</td>\n",
       "      <td>0.498616</td>\n",
       "      <td>30724</td>\n",
       "      <td>195.467062</td>\n",
       "      <td>0.782681</td>\n",
       "      <td>0.976696</td>\n",
       "      <td>0.903936</td>\n",
       "      <td>0.928329</td>\n",
       "      <td>0.007017</td>\n",
       "      <td>0.003215</td>\n",
       "      <td>0.861794</td>\n",
       "      <td>0.994199</td>\n",
       "      <td>SEKER</td>\n",
       "    </tr>\n",
       "    <tr>\n",
       "      <th>4</th>\n",
       "      <td>30140</td>\n",
       "      <td>620.134</td>\n",
       "      <td>201.847882</td>\n",
       "      <td>190.279279</td>\n",
       "      <td>1.060798</td>\n",
       "      <td>0.333680</td>\n",
       "      <td>30417</td>\n",
       "      <td>195.896503</td>\n",
       "      <td>0.773098</td>\n",
       "      <td>0.990893</td>\n",
       "      <td>0.984877</td>\n",
       "      <td>0.970516</td>\n",
       "      <td>0.006697</td>\n",
       "      <td>0.003665</td>\n",
       "      <td>0.941900</td>\n",
       "      <td>0.999166</td>\n",
       "      <td>SEKER</td>\n",
       "    </tr>\n",
       "  </tbody>\n",
       "</table>\n",
       "</div>"
      ],
      "text/plain": [
       "    Area  Perimeter  MajorAxisLength  MinorAxisLength  AspectRation  \\\n",
       "0  28395    610.291       208.178117       173.888747      1.197191   \n",
       "1  28734    638.018       200.524796       182.734419      1.097356   \n",
       "2  29380    624.110       212.826130       175.931143      1.209713   \n",
       "3  30008    645.884       210.557999       182.516516      1.153638   \n",
       "4  30140    620.134       201.847882       190.279279      1.060798   \n",
       "\n",
       "   Eccentricity  ConvexArea  EquivDiameter    Extent  Solidity  roundness  \\\n",
       "0      0.549812       28715     190.141097  0.763923  0.988856   0.958027   \n",
       "1      0.411785       29172     191.272750  0.783968  0.984986   0.887034   \n",
       "2      0.562727       29690     193.410904  0.778113  0.989559   0.947849   \n",
       "3      0.498616       30724     195.467062  0.782681  0.976696   0.903936   \n",
       "4      0.333680       30417     195.896503  0.773098  0.990893   0.984877   \n",
       "\n",
       "   Compactness  ShapeFactor1  ShapeFactor2  ShapeFactor3  ShapeFactor4  Class  \n",
       "0     0.913358      0.007332      0.003147      0.834222      0.998724  SEKER  \n",
       "1     0.953861      0.006979      0.003564      0.909851      0.998430  SEKER  \n",
       "2     0.908774      0.007244      0.003048      0.825871      0.999066  SEKER  \n",
       "3     0.928329      0.007017      0.003215      0.861794      0.994199  SEKER  \n",
       "4     0.970516      0.006697      0.003665      0.941900      0.999166  SEKER  "
      ]
     },
     "execution_count": 4,
     "metadata": {},
     "output_type": "execute_result"
    }
   ],
   "source": [
    "df.head()"
   ]
  },
  {
   "cell_type": "code",
   "execution_count": 5,
   "metadata": {
    "execution": {
     "iopub.execute_input": "2025-01-21T18:43:44.215120Z",
     "iopub.status.busy": "2025-01-21T18:43:44.214743Z",
     "iopub.status.idle": "2025-01-21T18:43:44.221577Z",
     "shell.execute_reply": "2025-01-21T18:43:44.220544Z",
     "shell.execute_reply.started": "2025-01-21T18:43:44.215093Z"
    }
   },
   "outputs": [
    {
     "data": {
      "text/plain": [
       "(13611, 17)"
      ]
     },
     "execution_count": 5,
     "metadata": {},
     "output_type": "execute_result"
    }
   ],
   "source": [
    "df.shape"
   ]
  },
  {
   "cell_type": "code",
   "execution_count": 6,
   "metadata": {
    "execution": {
     "iopub.execute_input": "2025-01-21T18:44:00.480766Z",
     "iopub.status.busy": "2025-01-21T18:44:00.480353Z",
     "iopub.status.idle": "2025-01-21T18:44:00.508198Z",
     "shell.execute_reply": "2025-01-21T18:44:00.506984Z",
     "shell.execute_reply.started": "2025-01-21T18:44:00.480726Z"
    }
   },
   "outputs": [
    {
     "data": {
      "text/plain": [
       "68"
      ]
     },
     "execution_count": 6,
     "metadata": {},
     "output_type": "execute_result"
    }
   ],
   "source": [
    "df.duplicated().sum()"
   ]
  },
  {
   "cell_type": "code",
   "execution_count": 13,
   "metadata": {
    "execution": {
     "iopub.execute_input": "2025-01-21T18:47:56.279707Z",
     "iopub.status.busy": "2025-01-21T18:47:56.279198Z",
     "iopub.status.idle": "2025-01-21T18:47:56.299936Z",
     "shell.execute_reply": "2025-01-21T18:47:56.298353Z",
     "shell.execute_reply.started": "2025-01-21T18:47:56.279653Z"
    }
   },
   "outputs": [],
   "source": [
    "df=df.drop_duplicates()"
   ]
  },
  {
   "cell_type": "code",
   "execution_count": 14,
   "metadata": {
    "execution": {
     "iopub.execute_input": "2025-01-21T18:48:00.175659Z",
     "iopub.status.busy": "2025-01-21T18:48:00.175274Z",
     "iopub.status.idle": "2025-01-21T18:48:00.182134Z",
     "shell.execute_reply": "2025-01-21T18:48:00.180998Z",
     "shell.execute_reply.started": "2025-01-21T18:48:00.175628Z"
    }
   },
   "outputs": [
    {
     "data": {
      "text/plain": [
       "(13543, 17)"
      ]
     },
     "execution_count": 14,
     "metadata": {},
     "output_type": "execute_result"
    }
   ],
   "source": [
    "df.shape"
   ]
  },
  {
   "cell_type": "code",
   "execution_count": 15,
   "metadata": {
    "execution": {
     "iopub.execute_input": "2025-01-21T18:48:18.098192Z",
     "iopub.status.busy": "2025-01-21T18:48:18.097766Z",
     "iopub.status.idle": "2025-01-21T18:48:18.119069Z",
     "shell.execute_reply": "2025-01-21T18:48:18.117832Z",
     "shell.execute_reply.started": "2025-01-21T18:48:18.098159Z"
    }
   },
   "outputs": [
    {
     "name": "stdout",
     "output_type": "stream",
     "text": [
      "<class 'pandas.core.frame.DataFrame'>\n",
      "Index: 13543 entries, 0 to 13610\n",
      "Data columns (total 17 columns):\n",
      " #   Column           Non-Null Count  Dtype  \n",
      "---  ------           --------------  -----  \n",
      " 0   Area             13543 non-null  int64  \n",
      " 1   Perimeter        13543 non-null  float64\n",
      " 2   MajorAxisLength  13543 non-null  float64\n",
      " 3   MinorAxisLength  13543 non-null  float64\n",
      " 4   AspectRation     13543 non-null  float64\n",
      " 5   Eccentricity     13543 non-null  float64\n",
      " 6   ConvexArea       13543 non-null  int64  \n",
      " 7   EquivDiameter    13543 non-null  float64\n",
      " 8   Extent           13543 non-null  float64\n",
      " 9   Solidity         13543 non-null  float64\n",
      " 10  roundness        13543 non-null  float64\n",
      " 11  Compactness      13543 non-null  float64\n",
      " 12  ShapeFactor1     13543 non-null  float64\n",
      " 13  ShapeFactor2     13543 non-null  float64\n",
      " 14  ShapeFactor3     13543 non-null  float64\n",
      " 15  ShapeFactor4     13543 non-null  float64\n",
      " 16  Class            13543 non-null  object \n",
      "dtypes: float64(14), int64(2), object(1)\n",
      "memory usage: 1.9+ MB\n"
     ]
    }
   ],
   "source": [
    "df.info()"
   ]
  },
  {
   "cell_type": "code",
   "execution_count": 17,
   "metadata": {
    "execution": {
     "iopub.execute_input": "2025-01-21T18:48:36.430541Z",
     "iopub.status.busy": "2025-01-21T18:48:36.430011Z",
     "iopub.status.idle": "2025-01-21T18:48:36.441086Z",
     "shell.execute_reply": "2025-01-21T18:48:36.439939Z",
     "shell.execute_reply.started": "2025-01-21T18:48:36.430497Z"
    }
   },
   "outputs": [
    {
     "data": {
      "text/plain": [
       "Area               0\n",
       "Perimeter          0\n",
       "MajorAxisLength    0\n",
       "MinorAxisLength    0\n",
       "AspectRation       0\n",
       "Eccentricity       0\n",
       "ConvexArea         0\n",
       "EquivDiameter      0\n",
       "Extent             0\n",
       "Solidity           0\n",
       "roundness          0\n",
       "Compactness        0\n",
       "ShapeFactor1       0\n",
       "ShapeFactor2       0\n",
       "ShapeFactor3       0\n",
       "ShapeFactor4       0\n",
       "Class              0\n",
       "dtype: int64"
      ]
     },
     "execution_count": 17,
     "metadata": {},
     "output_type": "execute_result"
    }
   ],
   "source": [
    "df.isnull().sum()"
   ]
  },
  {
   "cell_type": "code",
   "execution_count": 18,
   "metadata": {
    "execution": {
     "iopub.execute_input": "2025-01-21T18:48:44.011109Z",
     "iopub.status.busy": "2025-01-21T18:48:44.010770Z",
     "iopub.status.idle": "2025-01-21T18:48:44.076789Z",
     "shell.execute_reply": "2025-01-21T18:48:44.075574Z",
     "shell.execute_reply.started": "2025-01-21T18:48:44.011085Z"
    }
   },
   "outputs": [
    {
     "data": {
      "text/html": [
       "<div>\n",
       "<style scoped>\n",
       "    .dataframe tbody tr th:only-of-type {\n",
       "        vertical-align: middle;\n",
       "    }\n",
       "\n",
       "    .dataframe tbody tr th {\n",
       "        vertical-align: top;\n",
       "    }\n",
       "\n",
       "    .dataframe thead th {\n",
       "        text-align: right;\n",
       "    }\n",
       "</style>\n",
       "<table border=\"1\" class=\"dataframe\">\n",
       "  <thead>\n",
       "    <tr style=\"text-align: right;\">\n",
       "      <th></th>\n",
       "      <th>Area</th>\n",
       "      <th>Perimeter</th>\n",
       "      <th>MajorAxisLength</th>\n",
       "      <th>MinorAxisLength</th>\n",
       "      <th>AspectRation</th>\n",
       "      <th>Eccentricity</th>\n",
       "      <th>ConvexArea</th>\n",
       "      <th>EquivDiameter</th>\n",
       "      <th>Extent</th>\n",
       "      <th>Solidity</th>\n",
       "      <th>roundness</th>\n",
       "      <th>Compactness</th>\n",
       "      <th>ShapeFactor1</th>\n",
       "      <th>ShapeFactor2</th>\n",
       "      <th>ShapeFactor3</th>\n",
       "      <th>ShapeFactor4</th>\n",
       "    </tr>\n",
       "  </thead>\n",
       "  <tbody>\n",
       "    <tr>\n",
       "      <th>count</th>\n",
       "      <td>13543.000000</td>\n",
       "      <td>13543.000000</td>\n",
       "      <td>13543.000000</td>\n",
       "      <td>13543.000000</td>\n",
       "      <td>13543.000000</td>\n",
       "      <td>13543.000000</td>\n",
       "      <td>13543.000000</td>\n",
       "      <td>13543.000000</td>\n",
       "      <td>13543.000000</td>\n",
       "      <td>13543.000000</td>\n",
       "      <td>13543.000000</td>\n",
       "      <td>13543.000000</td>\n",
       "      <td>13543.000000</td>\n",
       "      <td>13543.000000</td>\n",
       "      <td>13543.000000</td>\n",
       "      <td>13543.000000</td>\n",
       "    </tr>\n",
       "    <tr>\n",
       "      <th>mean</th>\n",
       "      <td>53048.460385</td>\n",
       "      <td>854.993406</td>\n",
       "      <td>319.895602</td>\n",
       "      <td>202.365321</td>\n",
       "      <td>1.581075</td>\n",
       "      <td>0.750315</td>\n",
       "      <td>53767.986709</td>\n",
       "      <td>253.034094</td>\n",
       "      <td>0.749829</td>\n",
       "      <td>0.987152</td>\n",
       "      <td>0.873671</td>\n",
       "      <td>0.800352</td>\n",
       "      <td>0.006561</td>\n",
       "      <td>0.001719</td>\n",
       "      <td>0.644341</td>\n",
       "      <td>0.995078</td>\n",
       "    </tr>\n",
       "    <tr>\n",
       "      <th>std</th>\n",
       "      <td>29392.438324</td>\n",
       "      <td>214.722684</td>\n",
       "      <td>85.809260</td>\n",
       "      <td>45.051632</td>\n",
       "      <td>0.245245</td>\n",
       "      <td>0.091858</td>\n",
       "      <td>29844.248525</td>\n",
       "      <td>59.307709</td>\n",
       "      <td>0.048939</td>\n",
       "      <td>0.004650</td>\n",
       "      <td>0.059393</td>\n",
       "      <td>0.061464</td>\n",
       "      <td>0.001130</td>\n",
       "      <td>0.000595</td>\n",
       "      <td>0.098653</td>\n",
       "      <td>0.004347</td>\n",
       "    </tr>\n",
       "    <tr>\n",
       "      <th>min</th>\n",
       "      <td>20420.000000</td>\n",
       "      <td>524.736000</td>\n",
       "      <td>183.601165</td>\n",
       "      <td>122.512653</td>\n",
       "      <td>1.024868</td>\n",
       "      <td>0.218951</td>\n",
       "      <td>20684.000000</td>\n",
       "      <td>161.243764</td>\n",
       "      <td>0.555315</td>\n",
       "      <td>0.919246</td>\n",
       "      <td>0.489618</td>\n",
       "      <td>0.640577</td>\n",
       "      <td>0.002778</td>\n",
       "      <td>0.000564</td>\n",
       "      <td>0.410339</td>\n",
       "      <td>0.947687</td>\n",
       "    </tr>\n",
       "    <tr>\n",
       "      <th>25%</th>\n",
       "      <td>36282.500000</td>\n",
       "      <td>703.230000</td>\n",
       "      <td>253.086806</td>\n",
       "      <td>175.886357</td>\n",
       "      <td>1.430662</td>\n",
       "      <td>0.715144</td>\n",
       "      <td>36673.000000</td>\n",
       "      <td>214.933277</td>\n",
       "      <td>0.718735</td>\n",
       "      <td>0.985678</td>\n",
       "      <td>0.833410</td>\n",
       "      <td>0.763228</td>\n",
       "      <td>0.005893</td>\n",
       "      <td>0.001158</td>\n",
       "      <td>0.582517</td>\n",
       "      <td>0.993720</td>\n",
       "    </tr>\n",
       "    <tr>\n",
       "      <th>50%</th>\n",
       "      <td>44580.000000</td>\n",
       "      <td>793.896000</td>\n",
       "      <td>296.404589</td>\n",
       "      <td>192.491117</td>\n",
       "      <td>1.549860</td>\n",
       "      <td>0.763997</td>\n",
       "      <td>45122.000000</td>\n",
       "      <td>238.245711</td>\n",
       "      <td>0.759903</td>\n",
       "      <td>0.988288</td>\n",
       "      <td>0.883490</td>\n",
       "      <td>0.801514</td>\n",
       "      <td>0.006643</td>\n",
       "      <td>0.001700</td>\n",
       "      <td>0.642424</td>\n",
       "      <td>0.996393</td>\n",
       "    </tr>\n",
       "    <tr>\n",
       "      <th>75%</th>\n",
       "      <td>61382.000000</td>\n",
       "      <td>977.146500</td>\n",
       "      <td>376.312489</td>\n",
       "      <td>217.245403</td>\n",
       "      <td>1.703916</td>\n",
       "      <td>0.809671</td>\n",
       "      <td>62360.000000</td>\n",
       "      <td>279.560351</td>\n",
       "      <td>0.786849</td>\n",
       "      <td>0.990019</td>\n",
       "      <td>0.917031</td>\n",
       "      <td>0.834470</td>\n",
       "      <td>0.007270</td>\n",
       "      <td>0.002173</td>\n",
       "      <td>0.696341</td>\n",
       "      <td>0.997891</td>\n",
       "    </tr>\n",
       "    <tr>\n",
       "      <th>max</th>\n",
       "      <td>254616.000000</td>\n",
       "      <td>1985.370000</td>\n",
       "      <td>738.860153</td>\n",
       "      <td>460.198497</td>\n",
       "      <td>2.430306</td>\n",
       "      <td>0.911423</td>\n",
       "      <td>263261.000000</td>\n",
       "      <td>569.374358</td>\n",
       "      <td>0.866195</td>\n",
       "      <td>0.994677</td>\n",
       "      <td>0.990685</td>\n",
       "      <td>0.987303</td>\n",
       "      <td>0.010451</td>\n",
       "      <td>0.003665</td>\n",
       "      <td>0.974767</td>\n",
       "      <td>0.999733</td>\n",
       "    </tr>\n",
       "  </tbody>\n",
       "</table>\n",
       "</div>"
      ],
      "text/plain": [
       "                Area     Perimeter  MajorAxisLength  MinorAxisLength  \\\n",
       "count   13543.000000  13543.000000     13543.000000     13543.000000   \n",
       "mean    53048.460385    854.993406       319.895602       202.365321   \n",
       "std     29392.438324    214.722684        85.809260        45.051632   \n",
       "min     20420.000000    524.736000       183.601165       122.512653   \n",
       "25%     36282.500000    703.230000       253.086806       175.886357   \n",
       "50%     44580.000000    793.896000       296.404589       192.491117   \n",
       "75%     61382.000000    977.146500       376.312489       217.245403   \n",
       "max    254616.000000   1985.370000       738.860153       460.198497   \n",
       "\n",
       "       AspectRation  Eccentricity     ConvexArea  EquivDiameter        Extent  \\\n",
       "count  13543.000000  13543.000000   13543.000000   13543.000000  13543.000000   \n",
       "mean       1.581075      0.750315   53767.986709     253.034094      0.749829   \n",
       "std        0.245245      0.091858   29844.248525      59.307709      0.048939   \n",
       "min        1.024868      0.218951   20684.000000     161.243764      0.555315   \n",
       "25%        1.430662      0.715144   36673.000000     214.933277      0.718735   \n",
       "50%        1.549860      0.763997   45122.000000     238.245711      0.759903   \n",
       "75%        1.703916      0.809671   62360.000000     279.560351      0.786849   \n",
       "max        2.430306      0.911423  263261.000000     569.374358      0.866195   \n",
       "\n",
       "           Solidity     roundness   Compactness  ShapeFactor1  ShapeFactor2  \\\n",
       "count  13543.000000  13543.000000  13543.000000  13543.000000  13543.000000   \n",
       "mean       0.987152      0.873671      0.800352      0.006561      0.001719   \n",
       "std        0.004650      0.059393      0.061464      0.001130      0.000595   \n",
       "min        0.919246      0.489618      0.640577      0.002778      0.000564   \n",
       "25%        0.985678      0.833410      0.763228      0.005893      0.001158   \n",
       "50%        0.988288      0.883490      0.801514      0.006643      0.001700   \n",
       "75%        0.990019      0.917031      0.834470      0.007270      0.002173   \n",
       "max        0.994677      0.990685      0.987303      0.010451      0.003665   \n",
       "\n",
       "       ShapeFactor3  ShapeFactor4  \n",
       "count  13543.000000  13543.000000  \n",
       "mean       0.644341      0.995078  \n",
       "std        0.098653      0.004347  \n",
       "min        0.410339      0.947687  \n",
       "25%        0.582517      0.993720  \n",
       "50%        0.642424      0.996393  \n",
       "75%        0.696341      0.997891  \n",
       "max        0.974767      0.999733  "
      ]
     },
     "execution_count": 18,
     "metadata": {},
     "output_type": "execute_result"
    }
   ],
   "source": [
    "df.describe()"
   ]
  },
  {
   "cell_type": "code",
   "execution_count": 19,
   "metadata": {
    "execution": {
     "iopub.execute_input": "2025-01-21T18:51:55.845082Z",
     "iopub.status.busy": "2025-01-21T18:51:55.844682Z",
     "iopub.status.idle": "2025-01-21T18:51:55.884740Z",
     "shell.execute_reply": "2025-01-21T18:51:55.883589Z",
     "shell.execute_reply.started": "2025-01-21T18:51:55.845055Z"
    }
   },
   "outputs": [
    {
     "data": {
      "text/html": [
       "<div>\n",
       "<style scoped>\n",
       "    .dataframe tbody tr th:only-of-type {\n",
       "        vertical-align: middle;\n",
       "    }\n",
       "\n",
       "    .dataframe tbody tr th {\n",
       "        vertical-align: top;\n",
       "    }\n",
       "\n",
       "    .dataframe thead th {\n",
       "        text-align: right;\n",
       "    }\n",
       "</style>\n",
       "<table border=\"1\" class=\"dataframe\">\n",
       "  <thead>\n",
       "    <tr style=\"text-align: right;\">\n",
       "      <th></th>\n",
       "      <th>Area</th>\n",
       "      <th>Perimeter</th>\n",
       "      <th>MajorAxisLength</th>\n",
       "      <th>MinorAxisLength</th>\n",
       "      <th>AspectRation</th>\n",
       "      <th>Eccentricity</th>\n",
       "      <th>ConvexArea</th>\n",
       "      <th>EquivDiameter</th>\n",
       "      <th>Extent</th>\n",
       "      <th>Solidity</th>\n",
       "      <th>roundness</th>\n",
       "      <th>Compactness</th>\n",
       "      <th>ShapeFactor1</th>\n",
       "      <th>ShapeFactor2</th>\n",
       "      <th>ShapeFactor3</th>\n",
       "      <th>ShapeFactor4</th>\n",
       "    </tr>\n",
       "  </thead>\n",
       "  <tbody>\n",
       "    <tr>\n",
       "      <th>Area</th>\n",
       "      <td>1.000000</td>\n",
       "      <td>0.966908</td>\n",
       "      <td>0.932623</td>\n",
       "      <td>0.952041</td>\n",
       "      <td>0.243698</td>\n",
       "      <td>0.268580</td>\n",
       "      <td>0.999940</td>\n",
       "      <td>0.984998</td>\n",
       "      <td>0.054648</td>\n",
       "      <td>-0.197333</td>\n",
       "      <td>-0.359068</td>\n",
       "      <td>-0.269797</td>\n",
       "      <td>-0.848390</td>\n",
       "      <td>-0.641208</td>\n",
       "      <td>-0.273754</td>\n",
       "      <td>-0.358019</td>\n",
       "    </tr>\n",
       "    <tr>\n",
       "      <th>Perimeter</th>\n",
       "      <td>0.966908</td>\n",
       "      <td>1.000000</td>\n",
       "      <td>0.977561</td>\n",
       "      <td>0.914336</td>\n",
       "      <td>0.386097</td>\n",
       "      <td>0.391062</td>\n",
       "      <td>0.967871</td>\n",
       "      <td>0.991453</td>\n",
       "      <td>-0.020620</td>\n",
       "      <td>-0.304662</td>\n",
       "      <td>-0.548336</td>\n",
       "      <td>-0.407426</td>\n",
       "      <td>-0.865756</td>\n",
       "      <td>-0.768590</td>\n",
       "      <td>-0.408888</td>\n",
       "      <td>-0.431215</td>\n",
       "    </tr>\n",
       "    <tr>\n",
       "      <th>MajorAxisLength</th>\n",
       "      <td>0.932623</td>\n",
       "      <td>0.977561</td>\n",
       "      <td>1.000000</td>\n",
       "      <td>0.828360</td>\n",
       "      <td>0.550075</td>\n",
       "      <td>0.541011</td>\n",
       "      <td>0.933392</td>\n",
       "      <td>0.962271</td>\n",
       "      <td>-0.077287</td>\n",
       "      <td>-0.284857</td>\n",
       "      <td>-0.595710</td>\n",
       "      <td>-0.567902</td>\n",
       "      <td>-0.775840</td>\n",
       "      <td>-0.859401</td>\n",
       "      <td>-0.567607</td>\n",
       "      <td>-0.484464</td>\n",
       "    </tr>\n",
       "    <tr>\n",
       "      <th>MinorAxisLength</th>\n",
       "      <td>0.952041</td>\n",
       "      <td>0.914336</td>\n",
       "      <td>0.828360</td>\n",
       "      <td>1.000000</td>\n",
       "      <td>-0.005354</td>\n",
       "      <td>0.022391</td>\n",
       "      <td>0.951780</td>\n",
       "      <td>0.949214</td>\n",
       "      <td>0.145906</td>\n",
       "      <td>-0.156819</td>\n",
       "      <td>-0.214090</td>\n",
       "      <td>-0.018618</td>\n",
       "      <td>-0.947194</td>\n",
       "      <td>-0.475326</td>\n",
       "      <td>-0.022744</td>\n",
       "      <td>-0.266402</td>\n",
       "    </tr>\n",
       "    <tr>\n",
       "      <th>AspectRation</th>\n",
       "      <td>0.243698</td>\n",
       "      <td>0.386097</td>\n",
       "      <td>0.550075</td>\n",
       "      <td>-0.005354</td>\n",
       "      <td>1.000000</td>\n",
       "      <td>0.924185</td>\n",
       "      <td>0.245267</td>\n",
       "      <td>0.305237</td>\n",
       "      <td>-0.371234</td>\n",
       "      <td>-0.269110</td>\n",
       "      <td>-0.764975</td>\n",
       "      <td>-0.987644</td>\n",
       "      <td>0.020875</td>\n",
       "      <td>-0.837338</td>\n",
       "      <td>-0.978528</td>\n",
       "      <td>-0.451598</td>\n",
       "    </tr>\n",
       "    <tr>\n",
       "      <th>Eccentricity</th>\n",
       "      <td>0.268580</td>\n",
       "      <td>0.391062</td>\n",
       "      <td>0.541011</td>\n",
       "      <td>0.022391</td>\n",
       "      <td>0.924185</td>\n",
       "      <td>1.000000</td>\n",
       "      <td>0.270350</td>\n",
       "      <td>0.319360</td>\n",
       "      <td>-0.319678</td>\n",
       "      <td>-0.298282</td>\n",
       "      <td>-0.720138</td>\n",
       "      <td>-0.970308</td>\n",
       "      <td>0.017266</td>\n",
       "      <td>-0.859246</td>\n",
       "      <td>-0.981058</td>\n",
       "      <td>-0.450611</td>\n",
       "    </tr>\n",
       "    <tr>\n",
       "      <th>ConvexArea</th>\n",
       "      <td>0.999940</td>\n",
       "      <td>0.967871</td>\n",
       "      <td>0.933392</td>\n",
       "      <td>0.951780</td>\n",
       "      <td>0.245267</td>\n",
       "      <td>0.270350</td>\n",
       "      <td>1.000000</td>\n",
       "      <td>0.985255</td>\n",
       "      <td>0.052864</td>\n",
       "      <td>-0.206901</td>\n",
       "      <td>-0.363620</td>\n",
       "      <td>-0.271651</td>\n",
       "      <td>-0.848382</td>\n",
       "      <td>-0.642773</td>\n",
       "      <td>-0.275631</td>\n",
       "      <td>-0.364302</td>\n",
       "    </tr>\n",
       "    <tr>\n",
       "      <th>EquivDiameter</th>\n",
       "      <td>0.984998</td>\n",
       "      <td>0.991453</td>\n",
       "      <td>0.962271</td>\n",
       "      <td>0.949214</td>\n",
       "      <td>0.305237</td>\n",
       "      <td>0.319360</td>\n",
       "      <td>0.985255</td>\n",
       "      <td>1.000000</td>\n",
       "      <td>0.028762</td>\n",
       "      <td>-0.232344</td>\n",
       "      <td>-0.437189</td>\n",
       "      <td>-0.328980</td>\n",
       "      <td>-0.893403</td>\n",
       "      <td>-0.714693</td>\n",
       "      <td>-0.331594</td>\n",
       "      <td>-0.394693</td>\n",
       "    </tr>\n",
       "    <tr>\n",
       "      <th>Extent</th>\n",
       "      <td>0.054648</td>\n",
       "      <td>-0.020620</td>\n",
       "      <td>-0.077287</td>\n",
       "      <td>0.145906</td>\n",
       "      <td>-0.371234</td>\n",
       "      <td>-0.319678</td>\n",
       "      <td>0.052864</td>\n",
       "      <td>0.028762</td>\n",
       "      <td>1.000000</td>\n",
       "      <td>0.192268</td>\n",
       "      <td>0.344510</td>\n",
       "      <td>0.354912</td>\n",
       "      <td>-0.141525</td>\n",
       "      <td>0.237584</td>\n",
       "      <td>0.348226</td>\n",
       "      <td>0.148622</td>\n",
       "    </tr>\n",
       "    <tr>\n",
       "      <th>Solidity</th>\n",
       "      <td>-0.197333</td>\n",
       "      <td>-0.304662</td>\n",
       "      <td>-0.284857</td>\n",
       "      <td>-0.156819</td>\n",
       "      <td>-0.269110</td>\n",
       "      <td>-0.298282</td>\n",
       "      <td>-0.206901</td>\n",
       "      <td>-0.232344</td>\n",
       "      <td>0.192268</td>\n",
       "      <td>1.000000</td>\n",
       "      <td>0.609668</td>\n",
       "      <td>0.304802</td>\n",
       "      <td>0.154346</td>\n",
       "      <td>0.344337</td>\n",
       "      <td>0.308614</td>\n",
       "      <td>0.700150</td>\n",
       "    </tr>\n",
       "    <tr>\n",
       "      <th>roundness</th>\n",
       "      <td>-0.359068</td>\n",
       "      <td>-0.548336</td>\n",
       "      <td>-0.595710</td>\n",
       "      <td>-0.214090</td>\n",
       "      <td>-0.764975</td>\n",
       "      <td>-0.720138</td>\n",
       "      <td>-0.363620</td>\n",
       "      <td>-0.437189</td>\n",
       "      <td>0.344510</td>\n",
       "      <td>0.609668</td>\n",
       "      <td>1.000000</td>\n",
       "      <td>0.765995</td>\n",
       "      <td>0.234158</td>\n",
       "      <td>0.781468</td>\n",
       "      <td>0.761012</td>\n",
       "      <td>0.472776</td>\n",
       "    </tr>\n",
       "    <tr>\n",
       "      <th>Compactness</th>\n",
       "      <td>-0.269797</td>\n",
       "      <td>-0.407426</td>\n",
       "      <td>-0.567902</td>\n",
       "      <td>-0.018618</td>\n",
       "      <td>-0.987644</td>\n",
       "      <td>-0.970308</td>\n",
       "      <td>-0.271651</td>\n",
       "      <td>-0.328980</td>\n",
       "      <td>0.354912</td>\n",
       "      <td>0.304802</td>\n",
       "      <td>0.765995</td>\n",
       "      <td>1.000000</td>\n",
       "      <td>-0.005980</td>\n",
       "      <td>0.868347</td>\n",
       "      <td>0.998684</td>\n",
       "      <td>0.486334</td>\n",
       "    </tr>\n",
       "    <tr>\n",
       "      <th>ShapeFactor1</th>\n",
       "      <td>-0.848390</td>\n",
       "      <td>-0.865756</td>\n",
       "      <td>-0.775840</td>\n",
       "      <td>-0.947194</td>\n",
       "      <td>0.020875</td>\n",
       "      <td>0.017266</td>\n",
       "      <td>-0.848382</td>\n",
       "      <td>-0.893403</td>\n",
       "      <td>-0.141525</td>\n",
       "      <td>0.154346</td>\n",
       "      <td>0.234158</td>\n",
       "      <td>-0.005980</td>\n",
       "      <td>1.000000</td>\n",
       "      <td>0.473239</td>\n",
       "      <td>-0.005050</td>\n",
       "      <td>0.251164</td>\n",
       "    </tr>\n",
       "    <tr>\n",
       "      <th>ShapeFactor2</th>\n",
       "      <td>-0.641208</td>\n",
       "      <td>-0.768590</td>\n",
       "      <td>-0.859401</td>\n",
       "      <td>-0.475326</td>\n",
       "      <td>-0.837338</td>\n",
       "      <td>-0.859246</td>\n",
       "      <td>-0.642773</td>\n",
       "      <td>-0.714693</td>\n",
       "      <td>0.237584</td>\n",
       "      <td>0.344337</td>\n",
       "      <td>0.781468</td>\n",
       "      <td>0.868347</td>\n",
       "      <td>0.473239</td>\n",
       "      <td>1.000000</td>\n",
       "      <td>0.872318</td>\n",
       "      <td>0.531733</td>\n",
       "    </tr>\n",
       "    <tr>\n",
       "      <th>ShapeFactor3</th>\n",
       "      <td>-0.273754</td>\n",
       "      <td>-0.408888</td>\n",
       "      <td>-0.567607</td>\n",
       "      <td>-0.022744</td>\n",
       "      <td>-0.978528</td>\n",
       "      <td>-0.981058</td>\n",
       "      <td>-0.275631</td>\n",
       "      <td>-0.331594</td>\n",
       "      <td>0.348226</td>\n",
       "      <td>0.308614</td>\n",
       "      <td>0.761012</td>\n",
       "      <td>0.998684</td>\n",
       "      <td>-0.005050</td>\n",
       "      <td>0.872318</td>\n",
       "      <td>1.000000</td>\n",
       "      <td>0.486029</td>\n",
       "    </tr>\n",
       "    <tr>\n",
       "      <th>ShapeFactor4</th>\n",
       "      <td>-0.358019</td>\n",
       "      <td>-0.431215</td>\n",
       "      <td>-0.484464</td>\n",
       "      <td>-0.266402</td>\n",
       "      <td>-0.451598</td>\n",
       "      <td>-0.450611</td>\n",
       "      <td>-0.364302</td>\n",
       "      <td>-0.394693</td>\n",
       "      <td>0.148622</td>\n",
       "      <td>0.700150</td>\n",
       "      <td>0.472776</td>\n",
       "      <td>0.486334</td>\n",
       "      <td>0.251164</td>\n",
       "      <td>0.531733</td>\n",
       "      <td>0.486029</td>\n",
       "      <td>1.000000</td>\n",
       "    </tr>\n",
       "  </tbody>\n",
       "</table>\n",
       "</div>"
      ],
      "text/plain": [
       "                     Area  Perimeter  MajorAxisLength  MinorAxisLength  \\\n",
       "Area             1.000000   0.966908         0.932623         0.952041   \n",
       "Perimeter        0.966908   1.000000         0.977561         0.914336   \n",
       "MajorAxisLength  0.932623   0.977561         1.000000         0.828360   \n",
       "MinorAxisLength  0.952041   0.914336         0.828360         1.000000   \n",
       "AspectRation     0.243698   0.386097         0.550075        -0.005354   \n",
       "Eccentricity     0.268580   0.391062         0.541011         0.022391   \n",
       "ConvexArea       0.999940   0.967871         0.933392         0.951780   \n",
       "EquivDiameter    0.984998   0.991453         0.962271         0.949214   \n",
       "Extent           0.054648  -0.020620        -0.077287         0.145906   \n",
       "Solidity        -0.197333  -0.304662        -0.284857        -0.156819   \n",
       "roundness       -0.359068  -0.548336        -0.595710        -0.214090   \n",
       "Compactness     -0.269797  -0.407426        -0.567902        -0.018618   \n",
       "ShapeFactor1    -0.848390  -0.865756        -0.775840        -0.947194   \n",
       "ShapeFactor2    -0.641208  -0.768590        -0.859401        -0.475326   \n",
       "ShapeFactor3    -0.273754  -0.408888        -0.567607        -0.022744   \n",
       "ShapeFactor4    -0.358019  -0.431215        -0.484464        -0.266402   \n",
       "\n",
       "                 AspectRation  Eccentricity  ConvexArea  EquivDiameter  \\\n",
       "Area                 0.243698      0.268580    0.999940       0.984998   \n",
       "Perimeter            0.386097      0.391062    0.967871       0.991453   \n",
       "MajorAxisLength      0.550075      0.541011    0.933392       0.962271   \n",
       "MinorAxisLength     -0.005354      0.022391    0.951780       0.949214   \n",
       "AspectRation         1.000000      0.924185    0.245267       0.305237   \n",
       "Eccentricity         0.924185      1.000000    0.270350       0.319360   \n",
       "ConvexArea           0.245267      0.270350    1.000000       0.985255   \n",
       "EquivDiameter        0.305237      0.319360    0.985255       1.000000   \n",
       "Extent              -0.371234     -0.319678    0.052864       0.028762   \n",
       "Solidity            -0.269110     -0.298282   -0.206901      -0.232344   \n",
       "roundness           -0.764975     -0.720138   -0.363620      -0.437189   \n",
       "Compactness         -0.987644     -0.970308   -0.271651      -0.328980   \n",
       "ShapeFactor1         0.020875      0.017266   -0.848382      -0.893403   \n",
       "ShapeFactor2        -0.837338     -0.859246   -0.642773      -0.714693   \n",
       "ShapeFactor3        -0.978528     -0.981058   -0.275631      -0.331594   \n",
       "ShapeFactor4        -0.451598     -0.450611   -0.364302      -0.394693   \n",
       "\n",
       "                   Extent  Solidity  roundness  Compactness  ShapeFactor1  \\\n",
       "Area             0.054648 -0.197333  -0.359068    -0.269797     -0.848390   \n",
       "Perimeter       -0.020620 -0.304662  -0.548336    -0.407426     -0.865756   \n",
       "MajorAxisLength -0.077287 -0.284857  -0.595710    -0.567902     -0.775840   \n",
       "MinorAxisLength  0.145906 -0.156819  -0.214090    -0.018618     -0.947194   \n",
       "AspectRation    -0.371234 -0.269110  -0.764975    -0.987644      0.020875   \n",
       "Eccentricity    -0.319678 -0.298282  -0.720138    -0.970308      0.017266   \n",
       "ConvexArea       0.052864 -0.206901  -0.363620    -0.271651     -0.848382   \n",
       "EquivDiameter    0.028762 -0.232344  -0.437189    -0.328980     -0.893403   \n",
       "Extent           1.000000  0.192268   0.344510     0.354912     -0.141525   \n",
       "Solidity         0.192268  1.000000   0.609668     0.304802      0.154346   \n",
       "roundness        0.344510  0.609668   1.000000     0.765995      0.234158   \n",
       "Compactness      0.354912  0.304802   0.765995     1.000000     -0.005980   \n",
       "ShapeFactor1    -0.141525  0.154346   0.234158    -0.005980      1.000000   \n",
       "ShapeFactor2     0.237584  0.344337   0.781468     0.868347      0.473239   \n",
       "ShapeFactor3     0.348226  0.308614   0.761012     0.998684     -0.005050   \n",
       "ShapeFactor4     0.148622  0.700150   0.472776     0.486334      0.251164   \n",
       "\n",
       "                 ShapeFactor2  ShapeFactor3  ShapeFactor4  \n",
       "Area                -0.641208     -0.273754     -0.358019  \n",
       "Perimeter           -0.768590     -0.408888     -0.431215  \n",
       "MajorAxisLength     -0.859401     -0.567607     -0.484464  \n",
       "MinorAxisLength     -0.475326     -0.022744     -0.266402  \n",
       "AspectRation        -0.837338     -0.978528     -0.451598  \n",
       "Eccentricity        -0.859246     -0.981058     -0.450611  \n",
       "ConvexArea          -0.642773     -0.275631     -0.364302  \n",
       "EquivDiameter       -0.714693     -0.331594     -0.394693  \n",
       "Extent               0.237584      0.348226      0.148622  \n",
       "Solidity             0.344337      0.308614      0.700150  \n",
       "roundness            0.781468      0.761012      0.472776  \n",
       "Compactness          0.868347      0.998684      0.486334  \n",
       "ShapeFactor1         0.473239     -0.005050      0.251164  \n",
       "ShapeFactor2         1.000000      0.872318      0.531733  \n",
       "ShapeFactor3         0.872318      1.000000      0.486029  \n",
       "ShapeFactor4         0.531733      0.486029      1.000000  "
      ]
     },
     "execution_count": 19,
     "metadata": {},
     "output_type": "execute_result"
    }
   ],
   "source": [
    "df.corr(numeric_only=True)"
   ]
  },
  {
   "cell_type": "markdown",
   "metadata": {
    "execution": {
     "iopub.execute_input": "2025-01-21T18:54:42.126607Z",
     "iopub.status.busy": "2025-01-21T18:54:42.126214Z",
     "iopub.status.idle": "2025-01-21T18:54:42.132867Z",
     "shell.execute_reply": "2025-01-21T18:54:42.131531Z",
     "shell.execute_reply.started": "2025-01-21T18:54:42.126578Z"
    }
   },
   "source": [
    "**Visualization**"
   ]
  },
  {
   "cell_type": "code",
   "execution_count": 22,
   "metadata": {
    "execution": {
     "iopub.execute_input": "2025-01-21T18:55:39.860731Z",
     "iopub.status.busy": "2025-01-21T18:55:39.860299Z",
     "iopub.status.idle": "2025-01-21T18:55:40.760436Z",
     "shell.execute_reply": "2025-01-21T18:55:40.759342Z",
     "shell.execute_reply.started": "2025-01-21T18:55:39.860687Z"
    }
   },
   "outputs": [],
   "source": [
    "import seaborn as sns\n",
    "import matplotlib.pyplot as plt"
   ]
  },
  {
   "cell_type": "code",
   "execution_count": 21,
   "metadata": {
    "execution": {
     "iopub.execute_input": "2025-01-21T18:54:51.499554Z",
     "iopub.status.busy": "2025-01-21T18:54:51.499165Z",
     "iopub.status.idle": "2025-01-21T18:54:51.508317Z",
     "shell.execute_reply": "2025-01-21T18:54:51.507042Z",
     "shell.execute_reply.started": "2025-01-21T18:54:51.499511Z"
    }
   },
   "outputs": [
    {
     "name": "stdout",
     "output_type": "stream",
     "text": [
      "Class\n",
      "DERMASON    3546\n",
      "SIRA        2636\n",
      "SEKER       2027\n",
      "HOROZ       1860\n",
      "CALI        1630\n",
      "BARBUNYA    1322\n",
      "BOMBAY       522\n",
      "Name: count, dtype: int64\n"
     ]
    }
   ],
   "source": [
    "print(df['Class'].value_counts())"
   ]
  },
  {
   "cell_type": "code",
   "execution_count": 23,
   "metadata": {
    "execution": {
     "iopub.execute_input": "2025-01-21T18:55:55.838291Z",
     "iopub.status.busy": "2025-01-21T18:55:55.837750Z",
     "iopub.status.idle": "2025-01-21T18:55:56.175603Z",
     "shell.execute_reply": "2025-01-21T18:55:56.174428Z",
     "shell.execute_reply.started": "2025-01-21T18:55:55.838257Z"
    }
   },
   "outputs": [
    {
     "data": {
      "image/png": "[encoded data removed]",
      "text/plain": [
       "<Figure size 640x480 with 1 Axes>"
      ]
     },
     "metadata": {},
     "output_type": "display_data"
    }
   ],
   "source": [
    "sns.boxplot(x='Class', y='Area', data=df)\n",
    "plt.title('Area Distribution per Class')\n",
    "plt.show()"
   ]
  },
  {
   "cell_type": "markdown",
   "metadata": {},
   "source": [
    "**Data Preparation**"
   ]
  },
  {
   "cell_type": "markdown",
   "metadata": {},
   "source": [
    "**Feature Engineering**"
   ]
  },
  {
   "cell_type": "code",
   "execution_count": 24,
   "metadata": {
    "execution": {
     "iopub.execute_input": "2025-01-21T18:56:35.746215Z",
     "iopub.status.busy": "2025-01-21T18:56:35.745747Z",
     "iopub.status.idle": "2025-01-21T18:56:35.753548Z",
     "shell.execute_reply": "2025-01-21T18:56:35.752272Z",
     "shell.execute_reply.started": "2025-01-21T18:56:35.746164Z"
    }
   },
   "outputs": [],
   "source": [
    "x = df.drop('Class', axis=1) \n",
    "y = df['Class']  "
   ]
  },
  {
   "cell_type": "code",
   "execution_count": 25,
   "metadata": {
    "execution": {
     "iopub.execute_input": "2025-01-21T18:57:32.215573Z",
     "iopub.status.busy": "2025-01-21T18:57:32.215149Z",
     "iopub.status.idle": "2025-01-21T18:57:32.531456Z",
     "shell.execute_reply": "2025-01-21T18:57:32.530352Z",
     "shell.execute_reply.started": "2025-01-21T18:57:32.215538Z"
    }
   },
   "outputs": [],
   "source": [
    "# Bölünmüş eğitim ve test verileri\n",
    "\n",
    "from sklearn.model_selection import train_test_split\n",
    "\n",
    "x_train, x_test, y_train, y_test = train_test_split(x, y, test_size=0.2, random_state=42)"
   ]
  },
  {
   "cell_type": "markdown",
   "metadata": {},
   "source": [
    "**Modelling**"
   ]
  },
  {
   "cell_type": "code",
   "execution_count": 26,
   "metadata": {
    "execution": {
     "iopub.execute_input": "2025-01-21T18:57:57.809046Z",
     "iopub.status.busy": "2025-01-21T18:57:57.808681Z",
     "iopub.status.idle": "2025-01-21T18:58:02.674380Z",
     "shell.execute_reply": "2025-01-21T18:58:02.673323Z",
     "shell.execute_reply.started": "2025-01-21T18:57:57.809020Z"
    }
   },
   "outputs": [
    {
     "data": {
      "text/html": [
       "<style>#sk-container-id-1 {color: black;background-color: white;}#sk-container-id-1 pre{padding: 0;}#sk-container-id-1 div.sk-toggleable {background-color: white;}#sk-container-id-1 label.sk-toggleable__label {cursor: pointer;display: block;width: 100%;margin-bottom: 0;padding: 0.3em;box-sizing: border-box;text-align: center;}#sk-container-id-1 label.sk-toggleable__label-arrow:before {content: \"▸\";float: left;margin-right: 0.25em;color: #696969;}#sk-container-id-1 label.sk-toggleable__label-arrow:hover:before {color: black;}#sk-container-id-1 div.sk-estimator:hover label.sk-toggleable__label-arrow:before {color: black;}#sk-container-id-1 div.sk-toggleable__content {max-height: 0;max-width: 0;overflow: hidden;text-align: left;background-color: #f0f8ff;}#sk-container-id-1 div.sk-toggleable__content pre {margin: 0.2em;color: black;border-radius: 0.25em;background-color: #f0f8ff;}#sk-container-id-1 input.sk-toggleable__control:checked~div.sk-toggleable__content {max-height: 200px;max-width: 100%;overflow: auto;}#sk-container-id-1 input.sk-toggleable__control:checked~label.sk-toggleable__label-arrow:before {content: \"▾\";}#sk-container-id-1 div.sk-estimator input.sk-toggleable__control:checked~label.sk-toggleable__label {background-color: #d4ebff;}#sk-container-id-1 div.sk-label input.sk-toggleable__control:checked~label.sk-toggleable__label {background-color: #d4ebff;}#sk-container-id-1 input.sk-hidden--visually {border: 0;clip: rect(1px 1px 1px 1px);clip: rect(1px, 1px, 1px, 1px);height: 1px;margin: -1px;overflow: hidden;padding: 0;position: absolute;width: 1px;}#sk-container-id-1 div.sk-estimator {font-family: monospace;background-color: #f0f8ff;border: 1px dotted black;border-radius: 0.25em;box-sizing: border-box;margin-bottom: 0.5em;}#sk-container-id-1 div.sk-estimator:hover {background-color: #d4ebff;}#sk-container-id-1 div.sk-parallel-item::after {content: \"\";width: 100%;border-bottom: 1px solid gray;flex-grow: 1;}#sk-container-id-1 div.sk-label:hover label.sk-toggleable__label {background-color: #d4ebff;}#sk-container-id-1 div.sk-serial::before {content: \"\";position: absolute;border-left: 1px solid gray;box-sizing: border-box;top: 0;bottom: 0;left: 50%;z-index: 0;}#sk-container-id-1 div.sk-serial {display: flex;flex-direction: column;align-items: center;background-color: white;padding-right: 0.2em;padding-left: 0.2em;position: relative;}#sk-container-id-1 div.sk-item {position: relative;z-index: 1;}#sk-container-id-1 div.sk-parallel {display: flex;align-items: stretch;justify-content: center;background-color: white;position: relative;}#sk-container-id-1 div.sk-item::before, #sk-container-id-1 div.sk-parallel-item::before {content: \"\";position: absolute;border-left: 1px solid gray;box-sizing: border-box;top: 0;bottom: 0;left: 50%;z-index: -1;}#sk-container-id-1 div.sk-parallel-item {display: flex;flex-direction: column;z-index: 1;position: relative;background-color: white;}#sk-container-id-1 div.sk-parallel-item:first-child::after {align-self: flex-end;width: 50%;}#sk-container-id-1 div.sk-parallel-item:last-child::after {align-self: flex-start;width: 50%;}#sk-container-id-1 div.sk-parallel-item:only-child::after {width: 0;}#sk-container-id-1 div.sk-dashed-wrapped {border: 1px dashed gray;margin: 0 0.4em 0.5em 0.4em;box-sizing: border-box;padding-bottom: 0.4em;background-color: white;}#sk-container-id-1 div.sk-label label {font-family: monospace;font-weight: bold;display: inline-block;line-height: 1.2em;}#sk-container-id-1 div.sk-label-container {text-align: center;}#sk-container-id-1 div.sk-container {/* jupyter's `normalize.less` sets `[hidden] { display: none; }` but bootstrap.min.css set `[hidden] { display: none !important; }` so we also need the `!important` here to be able to override the default hidden behavior on the sphinx rendered scikit-learn.org. See: https://github.com/scikit-learn/scikit-learn/issues/21755 */display: inline-block !important;position: relative;}#sk-container-id-1 div.sk-text-repr-fallback {display: none;}</style><div id=\"sk-container-id-1\" class=\"sk-top-container\"><div class=\"sk-text-repr-fallback\"><pre>RandomForestClassifier()</pre><b>In a Jupyter environment, please rerun this cell to show the HTML representation or trust the notebook. <br />On GitHub, the HTML representation is unable to render, please try loading this page with nbviewer.org.</b></div><div class=\"sk-container\" hidden><div class=\"sk-item\"><div class=\"sk-estimator sk-toggleable\"><input class=\"sk-toggleable__control sk-hidden--visually\" id=\"sk-estimator-id-1\" type=\"checkbox\" checked><label for=\"sk-estimator-id-1\" class=\"sk-toggleable__label sk-toggleable__label-arrow\">RandomForestClassifier</label><div class=\"sk-toggleable__content\"><pre>RandomForestClassifier()</pre></div></div></div></div></div>"
      ],
      "text/plain": [
       "RandomForestClassifier()"
      ]
     },
     "execution_count": 26,
     "metadata": {},
     "output_type": "execute_result"
    }
   ],
   "source": [
    "from sklearn.ensemble import RandomForestClassifier\n",
    "\n",
    "# Modeli başlat\n",
    "model = RandomForestClassifier()\n",
    "\n",
    "# Modell train\n",
    "model.fit(x_train, y_train)"
   ]
  },
  {
   "cell_type": "markdown",
   "metadata": {},
   "source": [
    "**Modell Evaluation**"
   ]
  },
  {
   "cell_type": "code",
   "execution_count": 27,
   "metadata": {
    "execution": {
     "iopub.execute_input": "2025-01-21T18:59:21.404648Z",
     "iopub.status.busy": "2025-01-21T18:59:21.404075Z",
     "iopub.status.idle": "2025-01-21T18:59:21.559147Z",
     "shell.execute_reply": "2025-01-21T18:59:21.557984Z",
     "shell.execute_reply.started": "2025-01-21T18:59:21.404600Z"
    }
   },
   "outputs": [
    {
     "name": "stdout",
     "output_type": "stream",
     "text": [
      "Genauigkeit: 0.923218899963086\n",
      "              precision    recall  f1-score   support\n",
      "\n",
      "    BARBUNYA       0.92      0.90      0.91       259\n",
      "      BOMBAY       1.00      1.00      1.00       114\n",
      "        CALI       0.93      0.95      0.94       305\n",
      "    DERMASON       0.91      0.92      0.92       707\n",
      "       HOROZ       0.96      0.95      0.95       376\n",
      "       SEKER       0.94      0.94      0.94       414\n",
      "        SIRA       0.88      0.87      0.88       534\n",
      "\n",
      "    accuracy                           0.92      2709\n",
      "   macro avg       0.93      0.93      0.93      2709\n",
      "weighted avg       0.92      0.92      0.92      2709\n",
      "\n"
     ]
    }
   ],
   "source": [
    "from sklearn.metrics import accuracy_score, classification_report\n",
    "\n",
    "# Tahminler \n",
    "y_pred = model.predict(x_test)\n",
    "\n",
    "# Doğruluğu göster\n",
    "accuracy = accuracy_score(y_test, y_pred)\n",
    "print(f\"Genauigkeit: {accuracy}\")\n",
    "\n",
    "# Sınıflandırma raporunu görüntüle\n",
    "print(classification_report(y_test, y_pred))"
   ]
  },
  {
   "cell_type": "markdown",
   "metadata": {},
   "source": [
    "**Feature Importances**"
   ]
  },
  {
   "cell_type": "code",
   "execution_count": 29,
   "metadata": {
    "execution": {
     "iopub.execute_input": "2025-01-21T18:59:59.153485Z",
     "iopub.status.busy": "2025-01-21T18:59:59.152952Z",
     "iopub.status.idle": "2025-01-21T18:59:59.172941Z",
     "shell.execute_reply": "2025-01-21T18:59:59.171587Z",
     "shell.execute_reply.started": "2025-01-21T18:59:59.153422Z"
    }
   },
   "outputs": [
    {
     "name": "stdout",
     "output_type": "stream",
     "text": [
      "            Feature  Importance\n",
      "14     ShapeFactor3    0.106331\n",
      "12     ShapeFactor1    0.102838\n",
      "11      Compactness    0.098541\n",
      "1         Perimeter    0.091593\n",
      "6        ConvexArea    0.079347\n",
      "3   MinorAxisLength    0.078866\n",
      "2   MajorAxisLength    0.077289\n",
      "0              Area    0.061343\n",
      "4      AspectRation    0.055422\n",
      "10        roundness    0.050972\n",
      "5      Eccentricity    0.050224\n",
      "7     EquivDiameter    0.047667\n",
      "13     ShapeFactor2    0.036883\n",
      "15     ShapeFactor4    0.032134\n",
      "9          Solidity    0.019139\n",
      "8            Extent    0.011411\n"
     ]
    }
   ],
   "source": [
    "importances = model.feature_importances_\n",
    "feature_names = x.columns\n",
    "\n",
    "# Sonuçları sırala\n",
    "feature_importance_df = pd.DataFrame({'Feature': feature_names, 'Importance': importances})\n",
    "print(feature_importance_df.sort_values(by='Importance', ascending=False))"
   ]
  },
  {
   "cell_type": "markdown",
   "metadata": {},
   "source": [
    "**Import library for Deep Learning**"
   ]
  },
  {
   "cell_type": "code",
   "execution_count": 30,
   "metadata": {
    "execution": {
     "iopub.execute_input": "2025-01-21T19:01:26.345933Z",
     "iopub.status.busy": "2025-01-21T19:01:26.345398Z",
     "iopub.status.idle": "2025-01-21T19:01:42.802283Z",
     "shell.execute_reply": "2025-01-21T19:01:42.801407Z",
     "shell.execute_reply.started": "2025-01-21T19:01:26.345889Z"
    }
   },
   "outputs": [],
   "source": [
    "from sklearn.preprocessing import LabelEncoder\n",
    "from keras.models import Sequential\n",
    "from keras.layers import Dense"
   ]
  },
  {
   "cell_type": "code",
   "execution_count": 31,
   "metadata": {
    "execution": {
     "iopub.execute_input": "2025-01-21T19:01:52.046194Z",
     "iopub.status.busy": "2025-01-21T19:01:52.045520Z",
     "iopub.status.idle": "2025-01-21T19:01:52.054425Z",
     "shell.execute_reply": "2025-01-21T19:01:52.053123Z",
     "shell.execute_reply.started": "2025-01-21T19:01:52.046162Z"
    }
   },
   "outputs": [],
   "source": [
    "label_encoder = LabelEncoder()\n",
    "y_encoded = label_encoder.fit_transform(y)"
   ]
  },
  {
   "cell_type": "code",
   "execution_count": 36,
   "metadata": {
    "execution": {
     "iopub.execute_input": "2025-01-21T19:04:37.777237Z",
     "iopub.status.busy": "2025-01-21T19:04:37.776777Z",
     "iopub.status.idle": "2025-01-21T19:04:37.789125Z",
     "shell.execute_reply": "2025-01-21T19:04:37.787531Z",
     "shell.execute_reply.started": "2025-01-21T19:04:37.777203Z"
    }
   },
   "outputs": [],
   "source": [
    "x_train, x_test, y_train, y_test = train_test_split(x, y_encoded, test_size=0.2, random_state=42)"
   ]
  },
  {
   "cell_type": "markdown",
   "metadata": {},
   "source": [
    "**Modelling**"
   ]
  },
  {
   "cell_type": "code",
   "execution_count": 37,
   "metadata": {
    "execution": {
     "iopub.execute_input": "2025-01-21T19:04:41.144286Z",
     "iopub.status.busy": "2025-01-21T19:04:41.143932Z",
     "iopub.status.idle": "2025-01-21T19:04:41.184962Z",
     "shell.execute_reply": "2025-01-21T19:04:41.183965Z",
     "shell.execute_reply.started": "2025-01-21T19:04:41.144260Z"
    }
   },
   "outputs": [],
   "source": [
    "# Modeli başlat\n",
    "model = Sequential()\n",
    "\n",
    "# Giriş katmanı ve ilk gizli katman\n",
    "model.add(Dense(64, input_dim=x_train.shape[1], activation='relu'))\n",
    "\n",
    "# İkinci gizli katman\n",
    "model.add(Dense(32, activation='relu'))\n",
    "\n",
    "# Çıkış katmanı (sınıf sayısı)\n",
    "model.add(Dense(len(np.unique(y_encoded)), activation='softmax'))"
   ]
  },
  {
   "cell_type": "code",
   "execution_count": 38,
   "metadata": {
    "execution": {
     "iopub.execute_input": "2025-01-21T19:04:41.917752Z",
     "iopub.status.busy": "2025-01-21T19:04:41.917359Z",
     "iopub.status.idle": "2025-01-21T19:04:41.927626Z",
     "shell.execute_reply": "2025-01-21T19:04:41.926377Z",
     "shell.execute_reply.started": "2025-01-21T19:04:41.917724Z"
    }
   },
   "outputs": [],
   "source": [
    "# Modeli derlemek\n",
    "model.compile(loss='sparse_categorical_crossentropy', optimizer='adam', metrics=['accuracy'])"
   ]
  },
  {
   "cell_type": "code",
   "execution_count": 39,
   "metadata": {
    "execution": {
     "iopub.execute_input": "2025-01-21T19:04:42.570861Z",
     "iopub.status.busy": "2025-01-21T19:04:42.570451Z",
     "iopub.status.idle": "2025-01-21T19:05:56.087848Z",
     "shell.execute_reply": "2025-01-21T19:05:56.086507Z",
     "shell.execute_reply.started": "2025-01-21T19:04:42.570832Z"
    }
   },
   "outputs": [
    {
     "name": "stdout",
     "output_type": "stream",
     "text": [
      "Epoch 1/50\n",
      "\u001b[1m867/867\u001b[0m \u001b[32m━━━━━━━━━━━━━━━━━━━━\u001b[0m\u001b[37m\u001b[0m \u001b[1m3s\u001b[0m 2ms/step - accuracy: 0.1740 - loss: 1441.2699 - val_accuracy: 0.1624 - val_loss: 192.9009\n",
      "Epoch 2/50\n",
      "\u001b[1m867/867\u001b[0m \u001b[32m━━━━━━━━━━━━━━━━━━━━\u001b[0m\u001b[37m\u001b[0m \u001b[1m1s\u001b[0m 2ms/step - accuracy: 0.2581 - loss: 153.6114 - val_accuracy: 0.2312 - val_loss: 122.0250\n",
      "Epoch 3/50\n",
      "\u001b[1m867/867\u001b[0m \u001b[32m━━━━━━━━━━━━━━━━━━━━\u001b[0m\u001b[37m\u001b[0m \u001b[1m1s\u001b[0m 2ms/step - accuracy: 0.2936 - loss: 126.2606 - val_accuracy: 0.1920 - val_loss: 135.9417\n",
      "Epoch 4/50\n",
      "\u001b[1m867/867\u001b[0m \u001b[32m━━━━━━━━━━━━━━━━━━━━\u001b[0m\u001b[37m\u001b[0m \u001b[1m1s\u001b[0m 2ms/step - accuracy: 0.3390 - loss: 110.6082 - val_accuracy: 0.4772 - val_loss: 188.6467\n",
      "Epoch 5/50\n",
      "\u001b[1m867/867\u001b[0m \u001b[32m━━━━━━━━━━━━━━━━━━━━\u001b[0m\u001b[37m\u001b[0m \u001b[1m1s\u001b[0m 2ms/step - accuracy: 0.3619 - loss: 89.9036 - val_accuracy: 0.2649 - val_loss: 194.4582\n",
      "Epoch 6/50\n",
      "\u001b[1m867/867\u001b[0m \u001b[32m━━━━━━━━━━━━━━━━━━━━\u001b[0m\u001b[37m\u001b[0m \u001b[1m1s\u001b[0m 2ms/step - accuracy: 0.3945 - loss: 81.3548 - val_accuracy: 0.3143 - val_loss: 88.3102\n",
      "Epoch 7/50\n",
      "\u001b[1m867/867\u001b[0m \u001b[32m━━━━━━━━━━━━━━━━━━━━\u001b[0m\u001b[37m\u001b[0m \u001b[1m1s\u001b[0m 2ms/step - accuracy: 0.4043 - loss: 73.3476 - val_accuracy: 0.3747 - val_loss: 54.1270\n",
      "Epoch 8/50\n",
      "\u001b[1m867/867\u001b[0m \u001b[32m━━━━━━━━━━━━━━━━━━━━\u001b[0m\u001b[37m\u001b[0m \u001b[1m1s\u001b[0m 2ms/step - accuracy: 0.4293 - loss: 67.0247 - val_accuracy: 0.6428 - val_loss: 16.0216\n",
      "Epoch 9/50\n",
      "\u001b[1m867/867\u001b[0m \u001b[32m━━━━━━━━━━━━━━━━━━━━\u001b[0m\u001b[37m\u001b[0m \u001b[1m1s\u001b[0m 2ms/step - accuracy: 0.5129 - loss: 52.1461 - val_accuracy: 0.4481 - val_loss: 92.3804\n",
      "Epoch 10/50\n",
      "\u001b[1m867/867\u001b[0m \u001b[32m━━━━━━━━━━━━━━━━━━━━\u001b[0m\u001b[37m\u001b[0m \u001b[1m2s\u001b[0m 2ms/step - accuracy: 0.4684 - loss: 56.5579 - val_accuracy: 0.3959 - val_loss: 30.0428\n",
      "Epoch 11/50\n",
      "\u001b[1m867/867\u001b[0m \u001b[32m━━━━━━━━━━━━━━━━━━━━\u001b[0m\u001b[37m\u001b[0m \u001b[1m1s\u001b[0m 2ms/step - accuracy: 0.5192 - loss: 35.1237 - val_accuracy: 0.5468 - val_loss: 58.6490\n",
      "Epoch 12/50\n",
      "\u001b[1m867/867\u001b[0m \u001b[32m━━━━━━━━━━━━━━━━━━━━\u001b[0m\u001b[37m\u001b[0m \u001b[1m1s\u001b[0m 2ms/step - accuracy: 0.5340 - loss: 41.0993 - val_accuracy: 0.5662 - val_loss: 32.1482\n",
      "Epoch 13/50\n",
      "\u001b[1m867/867\u001b[0m \u001b[32m━━━━━━━━━━━━━━━━━━━━\u001b[0m\u001b[37m\u001b[0m \u001b[1m1s\u001b[0m 2ms/step - accuracy: 0.5599 - loss: 26.7182 - val_accuracy: 0.5348 - val_loss: 20.3615\n",
      "Epoch 14/50\n",
      "\u001b[1m867/867\u001b[0m \u001b[32m━━━━━━━━━━━━━━━━━━━━\u001b[0m\u001b[37m\u001b[0m \u001b[1m1s\u001b[0m 2ms/step - accuracy: 0.5589 - loss: 29.1180 - val_accuracy: 0.5934 - val_loss: 29.2603\n",
      "Epoch 15/50\n",
      "\u001b[1m867/867\u001b[0m \u001b[32m━━━━━━━━━━━━━━━━━━━━\u001b[0m\u001b[37m\u001b[0m \u001b[1m1s\u001b[0m 2ms/step - accuracy: 0.5761 - loss: 25.9652 - val_accuracy: 0.4698 - val_loss: 27.6256\n",
      "Epoch 16/50\n",
      "\u001b[1m867/867\u001b[0m \u001b[32m━━━━━━━━━━━━━━━━━━━━\u001b[0m\u001b[37m\u001b[0m \u001b[1m1s\u001b[0m 2ms/step - accuracy: 0.6009 - loss: 19.4790 - val_accuracy: 0.6234 - val_loss: 15.1335\n",
      "Epoch 17/50\n",
      "\u001b[1m867/867\u001b[0m \u001b[32m━━━━━━━━━━━━━━━━━━━━\u001b[0m\u001b[37m\u001b[0m \u001b[1m1s\u001b[0m 2ms/step - accuracy: 0.5511 - loss: 18.8275 - val_accuracy: 0.6327 - val_loss: 18.3891\n",
      "Epoch 18/50\n",
      "\u001b[1m867/867\u001b[0m \u001b[32m━━━━━━━━━━━━━━━━━━━━\u001b[0m\u001b[37m\u001b[0m \u001b[1m1s\u001b[0m 2ms/step - accuracy: 0.5721 - loss: 13.3142 - val_accuracy: 0.6484 - val_loss: 9.4249\n",
      "Epoch 19/50\n",
      "\u001b[1m867/867\u001b[0m \u001b[32m━━━━━━━━━━━━━━━━━━━━\u001b[0m\u001b[37m\u001b[0m \u001b[1m1s\u001b[0m 2ms/step - accuracy: 0.5877 - loss: 10.3388 - val_accuracy: 0.6018 - val_loss: 6.4931\n",
      "Epoch 20/50\n",
      "\u001b[1m867/867\u001b[0m \u001b[32m━━━━━━━━━━━━━━━━━━━━\u001b[0m\u001b[37m\u001b[0m \u001b[1m1s\u001b[0m 2ms/step - accuracy: 0.5780 - loss: 10.9431 - val_accuracy: 0.6613 - val_loss: 4.5392\n",
      "Epoch 21/50\n",
      "\u001b[1m867/867\u001b[0m \u001b[32m━━━━━━━━━━━━━━━━━━━━\u001b[0m\u001b[37m\u001b[0m \u001b[1m1s\u001b[0m 2ms/step - accuracy: 0.6025 - loss: 8.0744 - val_accuracy: 0.6138 - val_loss: 5.2201\n",
      "Epoch 22/50\n",
      "\u001b[1m867/867\u001b[0m \u001b[32m━━━━━━━━━━━━━━━━━━━━\u001b[0m\u001b[37m\u001b[0m \u001b[1m1s\u001b[0m 2ms/step - accuracy: 0.6254 - loss: 6.0356 - val_accuracy: 0.4541 - val_loss: 7.0954\n",
      "Epoch 23/50\n",
      "\u001b[1m867/867\u001b[0m \u001b[32m━━━━━━━━━━━━━━━━━━━━\u001b[0m\u001b[37m\u001b[0m \u001b[1m1s\u001b[0m 2ms/step - accuracy: 0.6321 - loss: 4.6669 - val_accuracy: 0.6659 - val_loss: 1.2927\n",
      "Epoch 24/50\n",
      "\u001b[1m867/867\u001b[0m \u001b[32m━━━━━━━━━━━━━━━━━━━━\u001b[0m\u001b[37m\u001b[0m \u001b[1m1s\u001b[0m 2ms/step - accuracy: 0.5415 - loss: 2.8498 - val_accuracy: 0.6156 - val_loss: 1.4799\n",
      "Epoch 25/50\n",
      "\u001b[1m867/867\u001b[0m \u001b[32m━━━━━━━━━━━━━━━━━━━━\u001b[0m\u001b[37m\u001b[0m \u001b[1m1s\u001b[0m 2ms/step - accuracy: 0.5401 - loss: 1.9796 - val_accuracy: 0.4024 - val_loss: 2.6018\n",
      "Epoch 26/50\n",
      "\u001b[1m867/867\u001b[0m \u001b[32m━━━━━━━━━━━━━━━━━━━━\u001b[0m\u001b[37m\u001b[0m \u001b[1m1s\u001b[0m 2ms/step - accuracy: 0.4514 - loss: 1.9408 - val_accuracy: 0.3133 - val_loss: 1.7552\n",
      "Epoch 27/50\n",
      "\u001b[1m867/867\u001b[0m \u001b[32m━━━━━━━━━━━━━━━━━━━━\u001b[0m\u001b[37m\u001b[0m \u001b[1m1s\u001b[0m 2ms/step - accuracy: 0.3265 - loss: 1.6521 - val_accuracy: 0.1841 - val_loss: 1.9049\n",
      "Epoch 28/50\n",
      "\u001b[1m867/867\u001b[0m \u001b[32m━━━━━━━━━━━━━━━━━━━━\u001b[0m\u001b[37m\u001b[0m \u001b[1m1s\u001b[0m 2ms/step - accuracy: 0.2191 - loss: 1.8348 - val_accuracy: 0.2686 - val_loss: 1.8624\n",
      "Epoch 29/50\n",
      "\u001b[1m867/867\u001b[0m \u001b[32m━━━━━━━━━━━━━━━━━━━━\u001b[0m\u001b[37m\u001b[0m \u001b[1m1s\u001b[0m 2ms/step - accuracy: 0.2620 - loss: 1.8307 - val_accuracy: 0.2686 - val_loss: 1.8480\n",
      "Epoch 30/50\n",
      "\u001b[1m867/867\u001b[0m \u001b[32m━━━━━━━━━━━━━━━━━━━━\u001b[0m\u001b[37m\u001b[0m \u001b[1m1s\u001b[0m 2ms/step - accuracy: 0.2518 - loss: 1.8327 - val_accuracy: 0.2686 - val_loss: 1.8464\n",
      "Epoch 31/50\n",
      "\u001b[1m867/867\u001b[0m \u001b[32m━━━━━━━━━━━━━━━━━━━━\u001b[0m\u001b[37m\u001b[0m \u001b[1m1s\u001b[0m 2ms/step - accuracy: 0.2605 - loss: 1.8256 - val_accuracy: 0.2686 - val_loss: 1.8464\n",
      "Epoch 32/50\n",
      "\u001b[1m867/867\u001b[0m \u001b[32m━━━━━━━━━━━━━━━━━━━━\u001b[0m\u001b[37m\u001b[0m \u001b[1m1s\u001b[0m 2ms/step - accuracy: 0.2575 - loss: 1.8355 - val_accuracy: 0.2686 - val_loss: 1.8463\n",
      "Epoch 33/50\n",
      "\u001b[1m867/867\u001b[0m \u001b[32m━━━━━━━━━━━━━━━━━━━━\u001b[0m\u001b[37m\u001b[0m \u001b[1m2s\u001b[0m 2ms/step - accuracy: 0.2616 - loss: 1.8276 - val_accuracy: 0.2686 - val_loss: 1.8461\n",
      "Epoch 34/50\n",
      "\u001b[1m867/867\u001b[0m \u001b[32m━━━━━━━━━━━━━━━━━━━━\u001b[0m\u001b[37m\u001b[0m \u001b[1m1s\u001b[0m 2ms/step - accuracy: 0.2588 - loss: 1.8323 - val_accuracy: 0.2686 - val_loss: 1.8465\n",
      "Epoch 35/50\n",
      "\u001b[1m867/867\u001b[0m \u001b[32m━━━━━━━━━━━━━━━━━━━━\u001b[0m\u001b[37m\u001b[0m \u001b[1m1s\u001b[0m 2ms/step - accuracy: 0.2540 - loss: 1.8333 - val_accuracy: 0.2686 - val_loss: 1.8463\n",
      "Epoch 36/50\n",
      "\u001b[1m867/867\u001b[0m \u001b[32m━━━━━━━━━━━━━━━━━━━━\u001b[0m\u001b[37m\u001b[0m \u001b[1m1s\u001b[0m 2ms/step - accuracy: 0.2527 - loss: 1.8396 - val_accuracy: 0.2686 - val_loss: 1.8463\n",
      "Epoch 37/50\n",
      "\u001b[1m867/867\u001b[0m \u001b[32m━━━━━━━━━━━━━━━━━━━━\u001b[0m\u001b[37m\u001b[0m \u001b[1m1s\u001b[0m 2ms/step - accuracy: 0.2499 - loss: 1.8347 - val_accuracy: 0.2686 - val_loss: 1.8463\n",
      "Epoch 38/50\n",
      "\u001b[1m867/867\u001b[0m \u001b[32m━━━━━━━━━━━━━━━━━━━━\u001b[0m\u001b[37m\u001b[0m \u001b[1m2s\u001b[0m 2ms/step - accuracy: 0.2605 - loss: 1.8303 - val_accuracy: 0.2686 - val_loss: 1.8463\n",
      "Epoch 39/50\n",
      "\u001b[1m867/867\u001b[0m \u001b[32m━━━━━━━━━━━━━━━━━━━━\u001b[0m\u001b[37m\u001b[0m \u001b[1m1s\u001b[0m 2ms/step - accuracy: 0.2576 - loss: 1.8333 - val_accuracy: 0.2686 - val_loss: 1.8464\n",
      "Epoch 40/50\n",
      "\u001b[1m867/867\u001b[0m \u001b[32m━━━━━━━━━━━━━━━━━━━━\u001b[0m\u001b[37m\u001b[0m \u001b[1m1s\u001b[0m 2ms/step - accuracy: 0.2612 - loss: 1.8307 - val_accuracy: 0.2686 - val_loss: 1.8464\n",
      "Epoch 41/50\n",
      "\u001b[1m867/867\u001b[0m \u001b[32m━━━━━━━━━━━━━━━━━━━━\u001b[0m\u001b[37m\u001b[0m \u001b[1m1s\u001b[0m 2ms/step - accuracy: 0.2686 - loss: 1.8231 - val_accuracy: 0.2686 - val_loss: 1.8467\n",
      "Epoch 42/50\n",
      "\u001b[1m867/867\u001b[0m \u001b[32m━━━━━━━━━━━━━━━━━━━━\u001b[0m\u001b[37m\u001b[0m \u001b[1m1s\u001b[0m 2ms/step - accuracy: 0.2636 - loss: 1.8351 - val_accuracy: 0.2686 - val_loss: 1.8467\n",
      "Epoch 43/50\n",
      "\u001b[1m867/867\u001b[0m \u001b[32m━━━━━━━━━━━━━━━━━━━━\u001b[0m\u001b[37m\u001b[0m \u001b[1m1s\u001b[0m 2ms/step - accuracy: 0.2605 - loss: 1.8278 - val_accuracy: 0.2686 - val_loss: 1.8465\n",
      "Epoch 44/50\n",
      "\u001b[1m867/867\u001b[0m \u001b[32m━━━━━━━━━━━━━━━━━━━━\u001b[0m\u001b[37m\u001b[0m \u001b[1m1s\u001b[0m 2ms/step - accuracy: 0.2643 - loss: 1.8252 - val_accuracy: 0.2686 - val_loss: 1.8463\n",
      "Epoch 45/50\n",
      "\u001b[1m867/867\u001b[0m \u001b[32m━━━━━━━━━━━━━━━━━━━━\u001b[0m\u001b[37m\u001b[0m \u001b[1m1s\u001b[0m 2ms/step - accuracy: 0.2616 - loss: 1.8239 - val_accuracy: 0.2686 - val_loss: 1.8461\n",
      "Epoch 46/50\n",
      "\u001b[1m867/867\u001b[0m \u001b[32m━━━━━━━━━━━━━━━━━━━━\u001b[0m\u001b[37m\u001b[0m \u001b[1m1s\u001b[0m 2ms/step - accuracy: 0.2651 - loss: 1.8290 - val_accuracy: 0.2686 - val_loss: 1.8463\n",
      "Epoch 47/50\n",
      "\u001b[1m867/867\u001b[0m \u001b[32m━━━━━━━━━━━━━━━━━━━━\u001b[0m\u001b[37m\u001b[0m \u001b[1m1s\u001b[0m 2ms/step - accuracy: 0.2594 - loss: 1.8354 - val_accuracy: 0.2686 - val_loss: 1.8465\n",
      "Epoch 48/50\n",
      "\u001b[1m867/867\u001b[0m \u001b[32m━━━━━━━━━━━━━━━━━━━━\u001b[0m\u001b[37m\u001b[0m \u001b[1m1s\u001b[0m 2ms/step - accuracy: 0.2671 - loss: 1.8223 - val_accuracy: 0.2686 - val_loss: 1.8465\n",
      "Epoch 49/50\n",
      "\u001b[1m867/867\u001b[0m \u001b[32m━━━━━━━━━━━━━━━━━━━━\u001b[0m\u001b[37m\u001b[0m \u001b[1m1s\u001b[0m 2ms/step - accuracy: 0.2651 - loss: 1.8285 - val_accuracy: 0.2686 - val_loss: 1.8466\n",
      "Epoch 50/50\n",
      "\u001b[1m867/867\u001b[0m \u001b[32m━━━━━━━━━━━━━━━━━━━━\u001b[0m\u001b[37m\u001b[0m \u001b[1m1s\u001b[0m 2ms/step - accuracy: 0.2615 - loss: 1.8249 - val_accuracy: 0.2686 - val_loss: 1.8462\n"
     ]
    },
    {
     "data": {
      "text/plain": [
       "<keras.src.callbacks.history.History at 0x791d789fbb50>"
      ]
     },
     "execution_count": 39,
     "metadata": {},
     "output_type": "execute_result"
    }
   ],
   "source": [
    "# Modell train\n",
    "model.fit(x_train, y_train, epochs=50, batch_size=10, validation_split=0.2)"
   ]
  },
  {
   "cell_type": "code",
   "execution_count": 40,
   "metadata": {
    "execution": {
     "iopub.execute_input": "2025-01-21T19:06:56.033157Z",
     "iopub.status.busy": "2025-01-21T19:06:56.032715Z",
     "iopub.status.idle": "2025-01-21T19:06:56.216768Z",
     "shell.execute_reply": "2025-01-21T19:06:56.215692Z",
     "shell.execute_reply.started": "2025-01-21T19:06:56.033123Z"
    }
   },
   "outputs": [
    {
     "name": "stdout",
     "output_type": "stream",
     "text": [
      "\u001b[1m85/85\u001b[0m \u001b[32m━━━━━━━━━━━━━━━━━━━━\u001b[0m\u001b[37m\u001b[0m \u001b[1m0s\u001b[0m 1ms/step - accuracy: 0.2731 - loss: 1.8442\n",
      "Testgenauigkeit: 0.2609819173812866\n"
     ]
    }
   ],
   "source": [
    "# Test verileri üzerinde model değerlendirmesi\n",
    "loss, accuracy = model.evaluate(x_test, y_test)\n",
    "print(f\"Testgenauigkeit: {accuracy}\")"
   ]
  },
  {
   "cell_type": "markdown",
   "metadata": {},
   "source": [
    "#\n",
    "**Intermediate result**"
   ]
  },
  {
   "cell_type": "markdown",
   "metadata": {},
   "source": [
    "The results of your model indicate an accuracy of about 27.3% on the training data and approximately 26% on the test data, suggesting difficulties in correctly classifying the classes.\n",
    "\n",
    "Overall, this project serves as a practical introduction to applying deep learning for data classification, specifically for dry beans. Despite current challenges, valuable insights into data processing, model architecture, and hyperparameter optimization have been gained.\n",
    "\n",
    "It's essential to work iteratively to enhance performance and not to be discouraged by suboptimal results. Each experiment provides valuable information that can improve the model."
   ]
  },
  {
   "cell_type": "markdown",
   "metadata": {},
   "source": [
    "### **Improvement of Deep Learning Models for the Classification of Dry Beans**"
   ]
  },
  {
   "cell_type": "code",
   "execution_count": 41,
   "metadata": {
    "execution": {
     "iopub.execute_input": "2025-01-21T19:12:50.590354Z",
     "iopub.status.busy": "2025-01-21T19:12:50.589951Z",
     "iopub.status.idle": "2025-01-21T19:12:50.597489Z",
     "shell.execute_reply": "2025-01-21T19:12:50.596229Z",
     "shell.execute_reply.started": "2025-01-21T19:12:50.590325Z"
    }
   },
   "outputs": [],
   "source": [
    "from keras.models import Sequential\n",
    "from keras.layers import Dense, Dropout, BatchNormalization\n",
    "from keras.callbacks import EarlyStopping\n",
    "from sklearn.preprocessing import StandardScaler"
   ]
  },
  {
   "cell_type": "markdown",
   "metadata": {},
   "source": [
    "**Normalize**"
   ]
  },
  {
   "cell_type": "code",
   "execution_count": 42,
   "metadata": {
    "execution": {
     "iopub.execute_input": "2025-01-21T19:13:50.384079Z",
     "iopub.status.busy": "2025-01-21T19:13:50.383727Z",
     "iopub.status.idle": "2025-01-21T19:13:50.407946Z",
     "shell.execute_reply": "2025-01-21T19:13:50.406920Z",
     "shell.execute_reply.started": "2025-01-21T19:13:50.384053Z"
    }
   },
   "outputs": [],
   "source": [
    "# Giriş verilerinin normalizasyonu\n",
    "scaler = StandardScaler()\n",
    "x_train = scaler.fit_transform(x_train)\n",
    "x_test = scaler.transform(x_test)"
   ]
  },
  {
   "cell_type": "markdown",
   "metadata": {},
   "source": [
    "**Modelling**"
   ]
  },
  {
   "cell_type": "code",
   "execution_count": null,
   "metadata": {},
   "outputs": [],
   "source": [
    "model = Sequential()\n",
    "\n",
    "# Giriş katmanı ve ilk gizli katman\n",
    "model.add(Dense(128, input_dim=X_train.shape[1], activation='relu'))\n",
    "model.add(BatchNormalization())\n",
    "model.add(Dropout(0.5))\n",
    "\n",
    "# İkinci gizli katman\n",
    "model.add(Dense(64, activation='relu'))\n",
    "model.add(BatchNormalization())\n",
    "model.add(Dropout(0.5))\n",
    "\n",
    "# Çıkış katmanı (sınıf sayısı)\n",
    "model.add(Dense(len(np.unique(y_encoded)), activation='softmax'))\n",
    "\n",
    "model.compile(loss='sparse_categorical_crossentropy', optimizer='adam', metrics=['accuracy'])"
   ]
  },
  {
   "cell_type": "code",
   "execution_count": 43,
   "metadata": {
    "execution": {
     "iopub.execute_input": "2025-01-21T19:15:23.147615Z",
     "iopub.status.busy": "2025-01-21T19:15:23.147174Z",
     "iopub.status.idle": "2025-01-21T19:15:23.152301Z",
     "shell.execute_reply": "2025-01-21T19:15:23.151121Z",
     "shell.execute_reply.started": "2025-01-21T19:15:23.147582Z"
    }
   },
   "outputs": [],
   "source": [
    "# Add EarlyStopping \n",
    "early_stopping = EarlyStopping(monitor='val_loss', patience=10, restore_best_weights=True)"
   ]
  },
  {
   "cell_type": "code",
   "execution_count": 44,
   "metadata": {
    "execution": {
     "iopub.execute_input": "2025-01-21T19:15:48.046013Z",
     "iopub.status.busy": "2025-01-21T19:15:48.045603Z",
     "iopub.status.idle": "2025-01-21T19:15:58.612241Z",
     "shell.execute_reply": "2025-01-21T19:15:58.611255Z",
     "shell.execute_reply.started": "2025-01-21T19:15:48.045981Z"
    }
   },
   "outputs": [
    {
     "name": "stdout",
     "output_type": "stream",
     "text": [
      "Epoch 1/50\n",
      "\u001b[1m271/271\u001b[0m \u001b[32m━━━━━━━━━━━━━━━━━━━━\u001b[0m\u001b[37m\u001b[0m \u001b[1m1s\u001b[0m 2ms/step - accuracy: 0.7645 - loss: 0.6818 - val_accuracy: 0.9192 - val_loss: 0.2360\n",
      "Epoch 2/50\n",
      "\u001b[1m271/271\u001b[0m \u001b[32m━━━━━━━━━━━━━━━━━━━━\u001b[0m\u001b[37m\u001b[0m \u001b[1m0s\u001b[0m 2ms/step - accuracy: 0.9190 - loss: 0.2263 - val_accuracy: 0.9220 - val_loss: 0.2153\n",
      "Epoch 3/50\n",
      "\u001b[1m271/271\u001b[0m \u001b[32m━━━━━━━━━━━━━━━━━━━━\u001b[0m\u001b[37m\u001b[0m \u001b[1m1s\u001b[0m 2ms/step - accuracy: 0.9228 - loss: 0.1983 - val_accuracy: 0.9229 - val_loss: 0.2153\n",
      "Epoch 4/50\n",
      "\u001b[1m271/271\u001b[0m \u001b[32m━━━━━━━━━━━━━━━━━━━━\u001b[0m\u001b[37m\u001b[0m \u001b[1m0s\u001b[0m 2ms/step - accuracy: 0.9286 - loss: 0.1894 - val_accuracy: 0.9216 - val_loss: 0.2156\n",
      "Epoch 5/50\n",
      "\u001b[1m271/271\u001b[0m \u001b[32m━━━━━━━━━━━━━━━━━━━━\u001b[0m\u001b[37m\u001b[0m \u001b[1m0s\u001b[0m 2ms/step - accuracy: 0.9230 - loss: 0.1956 - val_accuracy: 0.9216 - val_loss: 0.2304\n",
      "Epoch 6/50\n",
      "\u001b[1m271/271\u001b[0m \u001b[32m━━━━━━━━━━━━━━━━━━━━\u001b[0m\u001b[37m\u001b[0m \u001b[1m1s\u001b[0m 2ms/step - accuracy: 0.9315 - loss: 0.1844 - val_accuracy: 0.9303 - val_loss: 0.2122\n",
      "Epoch 7/50\n",
      "\u001b[1m271/271\u001b[0m \u001b[32m━━━━━━━━━━━━━━━━━━━━\u001b[0m\u001b[37m\u001b[0m \u001b[1m0s\u001b[0m 2ms/step - accuracy: 0.9296 - loss: 0.1821 - val_accuracy: 0.9285 - val_loss: 0.2146\n",
      "Epoch 8/50\n",
      "\u001b[1m271/271\u001b[0m \u001b[32m━━━━━━━━━━━━━━━━━━━━\u001b[0m\u001b[37m\u001b[0m \u001b[1m0s\u001b[0m 2ms/step - accuracy: 0.9315 - loss: 0.1824 - val_accuracy: 0.9345 - val_loss: 0.2039\n",
      "Epoch 9/50\n",
      "\u001b[1m271/271\u001b[0m \u001b[32m━━━━━━━━━━━━━━━━━━━━\u001b[0m\u001b[37m\u001b[0m \u001b[1m0s\u001b[0m 2ms/step - accuracy: 0.9308 - loss: 0.1789 - val_accuracy: 0.9179 - val_loss: 0.2303\n",
      "Epoch 10/50\n",
      "\u001b[1m271/271\u001b[0m \u001b[32m━━━━━━━━━━━━━━━━━━━━\u001b[0m\u001b[37m\u001b[0m \u001b[1m0s\u001b[0m 2ms/step - accuracy: 0.9305 - loss: 0.1915 - val_accuracy: 0.9299 - val_loss: 0.2052\n",
      "Epoch 11/50\n",
      "\u001b[1m271/271\u001b[0m \u001b[32m━━━━━━━━━━━━━━━━━━━━\u001b[0m\u001b[37m\u001b[0m \u001b[1m0s\u001b[0m 2ms/step - accuracy: 0.9288 - loss: 0.1802 - val_accuracy: 0.9340 - val_loss: 0.2017\n",
      "Epoch 12/50\n",
      "\u001b[1m271/271\u001b[0m \u001b[32m━━━━━━━━━━━━━━━━━━━━\u001b[0m\u001b[37m\u001b[0m \u001b[1m0s\u001b[0m 2ms/step - accuracy: 0.9291 - loss: 0.1824 - val_accuracy: 0.9335 - val_loss: 0.2067\n",
      "Epoch 13/50\n",
      "\u001b[1m271/271\u001b[0m \u001b[32m━━━━━━━━━━━━━━━━━━━━\u001b[0m\u001b[37m\u001b[0m \u001b[1m0s\u001b[0m 2ms/step - accuracy: 0.9266 - loss: 0.1943 - val_accuracy: 0.9299 - val_loss: 0.2080\n",
      "Epoch 14/50\n",
      "\u001b[1m271/271\u001b[0m \u001b[32m━━━━━━━━━━━━━━━━━━━━\u001b[0m\u001b[37m\u001b[0m \u001b[1m0s\u001b[0m 2ms/step - accuracy: 0.9294 - loss: 0.1851 - val_accuracy: 0.9299 - val_loss: 0.2048\n",
      "Epoch 15/50\n",
      "\u001b[1m271/271\u001b[0m \u001b[32m━━━━━━━━━━━━━━━━━━━━\u001b[0m\u001b[37m\u001b[0m \u001b[1m0s\u001b[0m 2ms/step - accuracy: 0.9323 - loss: 0.1743 - val_accuracy: 0.9322 - val_loss: 0.2041\n",
      "Epoch 16/50\n",
      "\u001b[1m271/271\u001b[0m \u001b[32m━━━━━━━━━━━━━━━━━━━━\u001b[0m\u001b[37m\u001b[0m \u001b[1m0s\u001b[0m 2ms/step - accuracy: 0.9288 - loss: 0.1830 - val_accuracy: 0.9299 - val_loss: 0.2163\n",
      "Epoch 17/50\n",
      "\u001b[1m271/271\u001b[0m \u001b[32m━━━━━━━━━━━━━━━━━━━━\u001b[0m\u001b[37m\u001b[0m \u001b[1m1s\u001b[0m 2ms/step - accuracy: 0.9293 - loss: 0.1835 - val_accuracy: 0.9349 - val_loss: 0.2031\n",
      "Epoch 18/50\n",
      "\u001b[1m271/271\u001b[0m \u001b[32m━━━━━━━━━━━━━━━━━━━━\u001b[0m\u001b[37m\u001b[0m \u001b[1m0s\u001b[0m 2ms/step - accuracy: 0.9279 - loss: 0.1924 - val_accuracy: 0.9303 - val_loss: 0.2162\n",
      "Epoch 19/50\n",
      "\u001b[1m271/271\u001b[0m \u001b[32m━━━━━━━━━━━━━━━━━━━━\u001b[0m\u001b[37m\u001b[0m \u001b[1m0s\u001b[0m 2ms/step - accuracy: 0.9359 - loss: 0.1749 - val_accuracy: 0.9266 - val_loss: 0.2222\n",
      "Epoch 20/50\n",
      "\u001b[1m271/271\u001b[0m \u001b[32m━━━━━━━━━━━━━━━━━━━━\u001b[0m\u001b[37m\u001b[0m \u001b[1m0s\u001b[0m 2ms/step - accuracy: 0.9342 - loss: 0.1772 - val_accuracy: 0.9372 - val_loss: 0.2017\n",
      "Epoch 21/50\n",
      "\u001b[1m271/271\u001b[0m \u001b[32m━━━━━━━━━━━━━━━━━━━━\u001b[0m\u001b[37m\u001b[0m \u001b[1m0s\u001b[0m 2ms/step - accuracy: 0.9375 - loss: 0.1667 - val_accuracy: 0.9349 - val_loss: 0.2038\n"
     ]
    },
    {
     "data": {
      "text/plain": [
       "<keras.src.callbacks.history.History at 0x791d787260e0>"
      ]
     },
     "execution_count": 44,
     "metadata": {},
     "output_type": "execute_result"
    }
   ],
   "source": [
    "model.fit(x_train, y_train, epochs=50, batch_size=32, validation_split=0.2, callbacks=[early_stopping])"
   ]
  },
  {
   "cell_type": "code",
   "execution_count": 45,
   "metadata": {
    "execution": {
     "iopub.execute_input": "2025-01-21T19:16:22.996883Z",
     "iopub.status.busy": "2025-01-21T19:16:22.996503Z",
     "iopub.status.idle": "2025-01-21T19:16:23.184331Z",
     "shell.execute_reply": "2025-01-21T19:16:23.183230Z",
     "shell.execute_reply.started": "2025-01-21T19:16:22.996852Z"
    }
   },
   "outputs": [
    {
     "name": "stdout",
     "output_type": "stream",
     "text": [
      "\u001b[1m85/85\u001b[0m \u001b[32m━━━━━━━━━━━━━━━━━━━━\u001b[0m\u001b[37m\u001b[0m \u001b[1m0s\u001b[0m 1ms/step - accuracy: 0.9277 - loss: 0.2004\n",
      "Testgenauigkeit: 0.9258028864860535\n"
     ]
    }
   ],
   "source": [
    "# Modell evaluation\n",
    "loss, accuracy = model.evaluate(x_test, y_test)\n",
    "print(f\"Testgenauigkeit: {accuracy}\")"
   ]
  },
  {
   "cell_type": "markdown",
   "metadata": {},
   "source": [
    "**Summary and Results**"
   ]
  },
  {
   "cell_type": "markdown",
   "metadata": {},
   "source": [
    "After implementing improvements in the deep learning model for dry bean classification, the model now achieves an impressive test accuracy of 92.58% and a training accuracy of 92.77%. This marks a significant enhancement compared to the previous accuracy of only 26-27%.\n",
    "\n",
    "Improvements Overview:\n",
    "\n",
    "    Data Preprocessing: Normalizing the input data with StandardScaler has notably improved model performance by enhancing training dynamics.\n",
    "\n",
    "    Model Architecture: Adding layers, batch normalization, and dropout has increased the model's ability to learn complex patterns while preventing overfitting.\n",
    "\n",
    "    Hyperparameters: Utilizing EarlyStopping has optimized the model by halting training when no further improvements were evident.\n",
    "\n",
    "Conclusion:\n",
    "\n",
    "This project demonstrates that targeted adjustments in model architecture, data preprocessing, and hyperparameter tuning can lead to significant performance gains. These insights are valuable for future machine learning projects and highlight the importance of an iterative approach in model development and optimization. Overall, it showcases a successful application of deep learning in dry bean classification, providing insights into the challenges and solutions within data science.\n"
   ]
  },
  {
   "cell_type": "markdown",
   "metadata": {},
   "source": [
    "<img src='https://pfst.cf2.poecdn.net/base/image/a438ecb1857814145ba4c1471bac27f179b653f39ba6ece9540b3452f786c8fb?w=1024&h=768&pmaid=269366997' width=700>"
   ]
  },
  {
   "cell_type": "code",
   "execution_count": null,
   "metadata": {},
   "outputs": [],
   "source": []
  }
 ],
 "metadata": {
  "kaggle": {
   "accelerator": "none",
   "dataSources": [
    {
     "datasetId": 2048855,
     "sourceId": 3398802,
     "sourceType": "datasetVersion"
    }
   ],
   "dockerImageVersionId": 30839,
   "isGpuEnabled": false,
   "isInternetEnabled": false,
   "language": "python",
   "sourceType": "notebook"
  },
  "kernelspec": {
   "display_name": "Python 3 (ipykernel)",
   "language": "python",
   "name": "python3"
  },
  "language_info": {
   "codemirror_mode": {
    "name": "ipython",
    "version": 3
   },
   "file_extension": ".py",
   "mimetype": "text/x-python",
   "name": "python",
   "nbconvert_exporter": "python",
   "pygments_lexer": "ipython3",
   "version": "3.12.7"
  }
 },
 "nbformat": 4,
 "nbformat_minor": 4
}
