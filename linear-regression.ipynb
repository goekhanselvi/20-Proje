{
 "cells": [
  {
   "cell_type": "markdown",
   "metadata": {},
   "source": [
    "# **Linear Regression**"
   ]
  },
  {
   "cell_type": "markdown",
   "metadata": {},
   "source": [
    "Kaggle'daki bu veri seti, önemsiz gibi görünse de, lineer regresyon analizi için standart bir kaynak sağlamayı amaçlamaktadır. 0 ile 100 arasında değişen x-değerlerinin bulunduğu 700 veri çifti (x,y) içeren bir CSV dosyasından oluşmaktadır. Karşılık gelen y-değerleri, Excel fonksiyonu NORMINV(RAND(), x, 3) kullanılarak üretilmiştir; bu da y için en iyi tahminin doğrudan x'e eşit olması gerektiğini göstermektedir\n",
    "______________\n",
    "This dataset on Kaggle, while seemingly trivial, is designed to provide a standardized resource for linear regression analysis. It consists of a CSV file with 700 data pairs (x,y), where x-values range from 0 to 100. The corresponding y-values are generated using the Excel function NORMINV(RAND(), x, 3), making it clear that the best estimate for y should be directly equal to x"
   ]
  },
  {
   "cell_type": "markdown",
   "metadata": {},
   "source": [
    "<img src='https://pfst.cf2.poecdn.net/base/image/2e356632f5a8cbadf66459765d4ab3e61247fffa2685e6287139d2e72357b890?w=1024&h=768&pmaid=326989945' width='800'>\n",
    "<a href='https://www.kaggle.com/datasets/andonians/random-linear-regression/data' target=_blank>\n",
    "Click here for the dataset </a>"
   ]
  },
  {
   "cell_type": "markdown",
   "metadata": {},
   "source": [
    "**Import library**"
   ]
  },
  {
   "cell_type": "code",
   "execution_count": 1,
   "metadata": {
    "_cell_guid": "b1076dfc-b9ad-4769-8c92-a6c4dae69d19",
    "_uuid": "8f2839f25d086af736a60e9eeb907d3b93b6e0e5",
    "execution": {
     "iopub.execute_input": "2025-03-26T10:39:54.134119Z",
     "iopub.status.busy": "2025-03-26T10:39:54.133782Z",
     "iopub.status.idle": "2025-03-26T10:39:55.643471Z",
     "shell.execute_reply": "2025-03-26T10:39:55.642195Z",
     "shell.execute_reply.started": "2025-03-26T10:39:54.134092Z"
    }
   },
   "outputs": [
    {
     "name": "stdout",
     "output_type": "stream",
     "text": [
      "/kaggle/input/random-linear-regression/train.csv\n",
      "/kaggle/input/random-linear-regression/test.csv\n"
     ]
    }
   ],
   "source": [
    "# This Python 3 environment comes with many helpful analytics libraries installed\n",
    "# It is defined by the kaggle/python Docker image: https://github.com/kaggle/docker-python\n",
    "# For example, here's several helpful packages to load\n",
    "\n",
    "import numpy as np # linear algebra\n",
    "import pandas as pd # data processing, CSV file I/O (e.g. pd.read_csv)\n",
    "\n",
    "# Input data files are available in the read-only \"../input/\" directory\n",
    "# For example, running this (by clicking run or pressing Shift+Enter) will list all files under the input directory\n",
    "\n",
    "import os\n",
    "for dirname, _, filenames in os.walk('/kaggle/input'):\n",
    "    for filename in filenames:\n",
    "        print(os.path.join(dirname, filename))\n",
    "\n",
    "# You can write up to 20GB to the current directory (/kaggle/working/) that gets preserved as output when you create a version using \"Save & Run All\" \n",
    "# You can also write temporary files to /kaggle/temp/, but they won't be saved outside of the current session"
   ]
  },
  {
   "cell_type": "code",
   "execution_count": 2,
   "metadata": {
    "execution": {
     "iopub.execute_input": "2025-03-26T10:47:49.649779Z",
     "iopub.status.busy": "2025-03-26T10:47:49.649424Z",
     "iopub.status.idle": "2025-03-26T10:47:49.654129Z",
     "shell.execute_reply": "2025-03-26T10:47:49.653015Z",
     "shell.execute_reply.started": "2025-03-26T10:47:49.649755Z"
    }
   },
   "outputs": [],
   "source": [
    "import warnings\n",
    "warnings.filterwarnings('ignore')"
   ]
  },
  {
   "cell_type": "markdown",
   "metadata": {},
   "source": [
    "**Read the data**"
   ]
  },
  {
   "cell_type": "code",
   "execution_count": 3,
   "metadata": {
    "execution": {
     "iopub.execute_input": "2025-03-26T10:51:36.922642Z",
     "iopub.status.busy": "2025-03-26T10:51:36.922222Z",
     "iopub.status.idle": "2025-03-26T10:51:36.963805Z",
     "shell.execute_reply": "2025-03-26T10:51:36.962897Z",
     "shell.execute_reply.started": "2025-03-26T10:51:36.922612Z"
    }
   },
   "outputs": [],
   "source": [
    "train = pd.read_csv('/kaggle/input/random-linear-regression/train.csv')\n",
    "test = pd.read_csv('/kaggle/input/random-linear-regression/test.csv')"
   ]
  },
  {
   "cell_type": "code",
   "execution_count": 4,
   "metadata": {
    "execution": {
     "iopub.execute_input": "2025-03-26T10:51:40.302075Z",
     "iopub.status.busy": "2025-03-26T10:51:40.301708Z",
     "iopub.status.idle": "2025-03-26T10:51:40.307967Z",
     "shell.execute_reply": "2025-03-26T10:51:40.306803Z",
     "shell.execute_reply.started": "2025-03-26T10:51:40.302044Z"
    }
   },
   "outputs": [],
   "source": [
    "df = pd.concat([test, train], ignore_index=True)"
   ]
  },
  {
   "cell_type": "markdown",
   "metadata": {},
   "source": [
    "**EDA - Exploratory Data Analysis**"
   ]
  },
  {
   "cell_type": "code",
   "execution_count": 6,
   "metadata": {
    "execution": {
     "iopub.execute_input": "2025-03-26T10:57:33.547859Z",
     "iopub.status.busy": "2025-03-26T10:57:33.547540Z",
     "iopub.status.idle": "2025-03-26T10:57:33.583271Z",
     "shell.execute_reply": "2025-03-26T10:57:33.582455Z",
     "shell.execute_reply.started": "2025-03-26T10:57:33.547837Z"
    }
   },
   "outputs": [
    {
     "data": {
      "text/html": [
       "<div>\n",
       "<style scoped>\n",
       "    .dataframe tbody tr th:only-of-type {\n",
       "        vertical-align: middle;\n",
       "    }\n",
       "\n",
       "    .dataframe tbody tr th {\n",
       "        vertical-align: top;\n",
       "    }\n",
       "\n",
       "    .dataframe thead th {\n",
       "        text-align: right;\n",
       "    }\n",
       "</style>\n",
       "<table border=\"1\" class=\"dataframe\">\n",
       "  <thead>\n",
       "    <tr style=\"text-align: right;\">\n",
       "      <th></th>\n",
       "      <th>x</th>\n",
       "      <th>y</th>\n",
       "    </tr>\n",
       "  </thead>\n",
       "  <tbody>\n",
       "    <tr>\n",
       "      <th>0</th>\n",
       "      <td>77.0</td>\n",
       "      <td>79.775152</td>\n",
       "    </tr>\n",
       "    <tr>\n",
       "      <th>1</th>\n",
       "      <td>21.0</td>\n",
       "      <td>23.177279</td>\n",
       "    </tr>\n",
       "    <tr>\n",
       "      <th>2</th>\n",
       "      <td>22.0</td>\n",
       "      <td>25.609262</td>\n",
       "    </tr>\n",
       "    <tr>\n",
       "      <th>3</th>\n",
       "      <td>20.0</td>\n",
       "      <td>17.857388</td>\n",
       "    </tr>\n",
       "    <tr>\n",
       "      <th>4</th>\n",
       "      <td>36.0</td>\n",
       "      <td>41.849864</td>\n",
       "    </tr>\n",
       "  </tbody>\n",
       "</table>\n",
       "</div>"
      ],
      "text/plain": [
       "      x          y\n",
       "0  77.0  79.775152\n",
       "1  21.0  23.177279\n",
       "2  22.0  25.609262\n",
       "3  20.0  17.857388\n",
       "4  36.0  41.849864"
      ]
     },
     "execution_count": 6,
     "metadata": {},
     "output_type": "execute_result"
    }
   ],
   "source": [
    "df.head()"
   ]
  },
  {
   "cell_type": "code",
   "execution_count": 7,
   "metadata": {
    "execution": {
     "iopub.execute_input": "2025-03-26T11:01:55.249952Z",
     "iopub.status.busy": "2025-03-26T11:01:55.249575Z",
     "iopub.status.idle": "2025-03-26T11:01:55.256296Z",
     "shell.execute_reply": "2025-03-26T11:01:55.255155Z",
     "shell.execute_reply.started": "2025-03-26T11:01:55.249913Z"
    }
   },
   "outputs": [
    {
     "data": {
      "text/plain": [
       "(1000, 2)"
      ]
     },
     "execution_count": 7,
     "metadata": {},
     "output_type": "execute_result"
    }
   ],
   "source": [
    "df.shape"
   ]
  },
  {
   "cell_type": "code",
   "execution_count": 8,
   "metadata": {
    "execution": {
     "iopub.execute_input": "2025-03-26T11:01:59.056198Z",
     "iopub.status.busy": "2025-03-26T11:01:59.055841Z",
     "iopub.status.idle": "2025-03-26T11:01:59.112516Z",
     "shell.execute_reply": "2025-03-26T11:01:59.111451Z",
     "shell.execute_reply.started": "2025-03-26T11:01:59.056170Z"
    }
   },
   "outputs": [
    {
     "name": "stdout",
     "output_type": "stream",
     "text": [
      "<class 'pandas.core.frame.DataFrame'>\n",
      "RangeIndex: 1000 entries, 0 to 999\n",
      "Data columns (total 2 columns):\n",
      " #   Column  Non-Null Count  Dtype  \n",
      "---  ------  --------------  -----  \n",
      " 0   x       1000 non-null   float64\n",
      " 1   y       999 non-null    float64\n",
      "dtypes: float64(2)\n",
      "memory usage: 15.8 KB\n"
     ]
    }
   ],
   "source": [
    "df.info()"
   ]
  },
  {
   "cell_type": "code",
   "execution_count": 27,
   "metadata": {
    "execution": {
     "iopub.execute_input": "2025-03-26T11:36:37.210247Z",
     "iopub.status.busy": "2025-03-26T11:36:37.209841Z",
     "iopub.status.idle": "2025-03-26T11:36:37.220601Z",
     "shell.execute_reply": "2025-03-26T11:36:37.219540Z",
     "shell.execute_reply.started": "2025-03-26T11:36:37.210215Z"
    }
   },
   "outputs": [
    {
     "data": {
      "text/plain": [
       "x    0\n",
       "y    1\n",
       "dtype: int64"
      ]
     },
     "execution_count": 27,
     "metadata": {},
     "output_type": "execute_result"
    }
   ],
   "source": [
    "df.isnull().sum()"
   ]
  },
  {
   "cell_type": "code",
   "execution_count": 9,
   "metadata": {
    "execution": {
     "iopub.execute_input": "2025-03-26T11:02:20.290837Z",
     "iopub.status.busy": "2025-03-26T11:02:20.290495Z",
     "iopub.status.idle": "2025-03-26T11:02:20.315187Z",
     "shell.execute_reply": "2025-03-26T11:02:20.314194Z",
     "shell.execute_reply.started": "2025-03-26T11:02:20.290813Z"
    }
   },
   "outputs": [
    {
     "data": {
      "text/html": [
       "<div>\n",
       "<style scoped>\n",
       "    .dataframe tbody tr th:only-of-type {\n",
       "        vertical-align: middle;\n",
       "    }\n",
       "\n",
       "    .dataframe tbody tr th {\n",
       "        vertical-align: top;\n",
       "    }\n",
       "\n",
       "    .dataframe thead th {\n",
       "        text-align: right;\n",
       "    }\n",
       "</style>\n",
       "<table border=\"1\" class=\"dataframe\">\n",
       "  <thead>\n",
       "    <tr style=\"text-align: right;\">\n",
       "      <th></th>\n",
       "      <th>x</th>\n",
       "      <th>y</th>\n",
       "    </tr>\n",
       "  </thead>\n",
       "  <tbody>\n",
       "    <tr>\n",
       "      <th>count</th>\n",
       "      <td>1000.000000</td>\n",
       "      <td>999.000000</td>\n",
       "    </tr>\n",
       "    <tr>\n",
       "      <th>mean</th>\n",
       "      <td>53.771157</td>\n",
       "      <td>50.319804</td>\n",
       "    </tr>\n",
       "    <tr>\n",
       "      <th>std</th>\n",
       "      <td>113.747929</td>\n",
       "      <td>29.089111</td>\n",
       "    </tr>\n",
       "    <tr>\n",
       "      <th>min</th>\n",
       "      <td>0.000000</td>\n",
       "      <td>-3.839981</td>\n",
       "    </tr>\n",
       "    <tr>\n",
       "      <th>25%</th>\n",
       "      <td>25.000000</td>\n",
       "      <td>25.185430</td>\n",
       "    </tr>\n",
       "    <tr>\n",
       "      <th>50%</th>\n",
       "      <td>50.000000</td>\n",
       "      <td>49.926397</td>\n",
       "    </tr>\n",
       "    <tr>\n",
       "      <th>75%</th>\n",
       "      <td>75.000000</td>\n",
       "      <td>74.475252</td>\n",
       "    </tr>\n",
       "    <tr>\n",
       "      <th>max</th>\n",
       "      <td>3530.157369</td>\n",
       "      <td>108.871618</td>\n",
       "    </tr>\n",
       "  </tbody>\n",
       "</table>\n",
       "</div>"
      ],
      "text/plain": [
       "                 x           y\n",
       "count  1000.000000  999.000000\n",
       "mean     53.771157   50.319804\n",
       "std     113.747929   29.089111\n",
       "min       0.000000   -3.839981\n",
       "25%      25.000000   25.185430\n",
       "50%      50.000000   49.926397\n",
       "75%      75.000000   74.475252\n",
       "max    3530.157369  108.871618"
      ]
     },
     "execution_count": 9,
     "metadata": {},
     "output_type": "execute_result"
    }
   ],
   "source": [
    "df.describe()"
   ]
  },
  {
   "cell_type": "code",
   "execution_count": 10,
   "metadata": {
    "execution": {
     "iopub.execute_input": "2025-03-26T11:02:29.294466Z",
     "iopub.status.busy": "2025-03-26T11:02:29.294038Z",
     "iopub.status.idle": "2025-03-26T11:02:29.308976Z",
     "shell.execute_reply": "2025-03-26T11:02:29.307780Z",
     "shell.execute_reply.started": "2025-03-26T11:02:29.294431Z"
    }
   },
   "outputs": [
    {
     "data": {
      "text/html": [
       "<div>\n",
       "<style scoped>\n",
       "    .dataframe tbody tr th:only-of-type {\n",
       "        vertical-align: middle;\n",
       "    }\n",
       "\n",
       "    .dataframe tbody tr th {\n",
       "        vertical-align: top;\n",
       "    }\n",
       "\n",
       "    .dataframe thead th {\n",
       "        text-align: right;\n",
       "    }\n",
       "</style>\n",
       "<table border=\"1\" class=\"dataframe\">\n",
       "  <thead>\n",
       "    <tr style=\"text-align: right;\">\n",
       "      <th></th>\n",
       "      <th>x</th>\n",
       "      <th>y</th>\n",
       "    </tr>\n",
       "  </thead>\n",
       "  <tbody>\n",
       "    <tr>\n",
       "      <th>x</th>\n",
       "      <td>1.000000</td>\n",
       "      <td>0.995071</td>\n",
       "    </tr>\n",
       "    <tr>\n",
       "      <th>y</th>\n",
       "      <td>0.995071</td>\n",
       "      <td>1.000000</td>\n",
       "    </tr>\n",
       "  </tbody>\n",
       "</table>\n",
       "</div>"
      ],
      "text/plain": [
       "          x         y\n",
       "x  1.000000  0.995071\n",
       "y  0.995071  1.000000"
      ]
     },
     "execution_count": 10,
     "metadata": {},
     "output_type": "execute_result"
    }
   ],
   "source": [
    "df.corr(numeric_only=True)"
   ]
  },
  {
   "cell_type": "code",
   "execution_count": 11,
   "metadata": {
    "execution": {
     "iopub.execute_input": "2025-03-26T11:06:57.270519Z",
     "iopub.status.busy": "2025-03-26T11:06:57.270084Z",
     "iopub.status.idle": "2025-03-26T11:06:58.229596Z",
     "shell.execute_reply": "2025-03-26T11:06:58.228433Z",
     "shell.execute_reply.started": "2025-03-26T11:06:57.270484Z"
    }
   },
   "outputs": [],
   "source": [
    "import seaborn as sns"
   ]
  },
  {
   "cell_type": "code",
   "execution_count": 12,
   "metadata": {
    "execution": {
     "iopub.execute_input": "2025-03-26T11:07:05.595380Z",
     "iopub.status.busy": "2025-03-26T11:07:05.594844Z",
     "iopub.status.idle": "2025-03-26T11:07:05.970638Z",
     "shell.execute_reply": "2025-03-26T11:07:05.969333Z",
     "shell.execute_reply.started": "2025-03-26T11:07:05.595346Z"
    }
   },
   "outputs": [
    {
     "data": {
      "image/png": "[encoded data removed]",
      "text/plain": [
       "<Figure size 640x480 with 2 Axes>"
      ]
     },
     "metadata": {},
     "output_type": "display_data"
    }
   ],
   "source": [
    "sns.heatmap(df.corr(numeric_only=True),annot=True);"
   ]
  },
  {
   "cell_type": "markdown",
   "metadata": {},
   "source": [
    "**Handling missing values**"
   ]
  },
  {
   "cell_type": "code",
   "execution_count": 28,
   "metadata": {
    "execution": {
     "iopub.execute_input": "2025-03-26T11:38:45.236710Z",
     "iopub.status.busy": "2025-03-26T11:38:45.236273Z",
     "iopub.status.idle": "2025-03-26T11:38:45.243446Z",
     "shell.execute_reply": "2025-03-26T11:38:45.242325Z",
     "shell.execute_reply.started": "2025-03-26T11:38:45.236681Z"
    }
   },
   "outputs": [],
   "source": [
    "df['y'].fillna(df['y'].median(), inplace=True)"
   ]
  },
  {
   "cell_type": "code",
   "execution_count": 39,
   "metadata": {
    "execution": {
     "iopub.execute_input": "2025-03-26T11:39:51.660615Z",
     "iopub.status.busy": "2025-03-26T11:39:51.660203Z",
     "iopub.status.idle": "2025-03-26T11:39:51.918065Z",
     "shell.execute_reply": "2025-03-26T11:39:51.916837Z",
     "shell.execute_reply.started": "2025-03-26T11:39:51.660584Z"
    }
   },
   "outputs": [
    {
     "name": "stdout",
     "output_type": "stream",
     "text": [
      "count    1000.000000\n",
      "mean       50.319410\n",
      "std        29.074551\n",
      "min        -3.839981\n",
      "25%        25.227574\n",
      "50%        49.926397\n",
      "75%        74.463198\n",
      "max       108.871618\n",
      "Name: y, dtype: float64\n"
     ]
    },
    {
     "data": {
      "image/png": "[encoded data removed]",
      "text/plain": [
       "<Figure size 640x480 with 1 Axes>"
      ]
     },
     "metadata": {},
     "output_type": "display_data"
    }
   ],
   "source": [
    "print(df['y'].describe())\n",
    "\n",
    "import matplotlib.pyplot as plt\n",
    "\n",
    "plt.hist(df['y'], bins=30)\n",
    "plt.title('Distribution of y values')\n",
    "plt.xlabel('y values')\n",
    "plt.ylabel('Frequency')\n",
    "plt.show()"
   ]
  },
  {
   "cell_type": "markdown",
   "metadata": {},
   "source": [
    " **Feature Engineering**"
   ]
  },
  {
   "cell_type": "code",
   "execution_count": 29,
   "metadata": {
    "execution": {
     "iopub.execute_input": "2025-03-26T11:38:51.036494Z",
     "iopub.status.busy": "2025-03-26T11:38:51.036066Z",
     "iopub.status.idle": "2025-03-26T11:38:51.043179Z",
     "shell.execute_reply": "2025-03-26T11:38:51.041412Z",
     "shell.execute_reply.started": "2025-03-26T11:38:51.036462Z"
    }
   },
   "outputs": [],
   "source": [
    "x = df[['x']] \n",
    "y = df['y']"
   ]
  },
  {
   "cell_type": "code",
   "execution_count": 30,
   "metadata": {
    "execution": {
     "iopub.execute_input": "2025-03-26T11:38:51.491772Z",
     "iopub.status.busy": "2025-03-26T11:38:51.491432Z",
     "iopub.status.idle": "2025-03-26T11:38:51.497113Z",
     "shell.execute_reply": "2025-03-26T11:38:51.495518Z",
     "shell.execute_reply.started": "2025-03-26T11:38:51.491748Z"
    }
   },
   "outputs": [],
   "source": [
    "from sklearn.model_selection import train_test_split"
   ]
  },
  {
   "cell_type": "code",
   "execution_count": 31,
   "metadata": {
    "execution": {
     "iopub.execute_input": "2025-03-26T11:38:52.067947Z",
     "iopub.status.busy": "2025-03-26T11:38:52.067571Z",
     "iopub.status.idle": "2025-03-26T11:38:52.075854Z",
     "shell.execute_reply": "2025-03-26T11:38:52.074557Z",
     "shell.execute_reply.started": "2025-03-26T11:38:52.067920Z"
    }
   },
   "outputs": [],
   "source": [
    "x_train,x_test,y_train,y_test=train_test_split(x,y,test_size=0.20,random_state=42)"
   ]
  },
  {
   "cell_type": "markdown",
   "metadata": {},
   "source": [
    "**Modelling**"
   ]
  },
  {
   "cell_type": "code",
   "execution_count": 32,
   "metadata": {
    "execution": {
     "iopub.execute_input": "2025-03-26T11:38:55.525621Z",
     "iopub.status.busy": "2025-03-26T11:38:55.525200Z",
     "iopub.status.idle": "2025-03-26T11:38:55.530228Z",
     "shell.execute_reply": "2025-03-26T11:38:55.528987Z",
     "shell.execute_reply.started": "2025-03-26T11:38:55.525590Z"
    }
   },
   "outputs": [],
   "source": [
    "from sklearn.linear_model import LinearRegression\n",
    "lr=LinearRegression()"
   ]
  },
  {
   "cell_type": "code",
   "execution_count": 33,
   "metadata": {
    "execution": {
     "iopub.execute_input": "2025-03-26T11:38:55.875165Z",
     "iopub.status.busy": "2025-03-26T11:38:55.874809Z",
     "iopub.status.idle": "2025-03-26T11:38:55.883293Z",
     "shell.execute_reply": "2025-03-26T11:38:55.882270Z",
     "shell.execute_reply.started": "2025-03-26T11:38:55.875139Z"
    }
   },
   "outputs": [],
   "source": [
    "model=lr.fit(x_train,y_train)"
   ]
  },
  {
   "cell_type": "code",
   "execution_count": 34,
   "metadata": {
    "execution": {
     "iopub.execute_input": "2025-03-26T11:38:56.232166Z",
     "iopub.status.busy": "2025-03-26T11:38:56.231756Z",
     "iopub.status.idle": "2025-03-26T11:38:56.237925Z",
     "shell.execute_reply": "2025-03-26T11:38:56.236861Z",
     "shell.execute_reply.started": "2025-03-26T11:38:56.232133Z"
    }
   },
   "outputs": [],
   "source": [
    "tahmin=model.predict(x_test)"
   ]
  },
  {
   "cell_type": "code",
   "execution_count": 35,
   "metadata": {
    "execution": {
     "iopub.execute_input": "2025-03-26T11:38:58.977769Z",
     "iopub.status.busy": "2025-03-26T11:38:58.977425Z",
     "iopub.status.idle": "2025-03-26T11:38:58.982235Z",
     "shell.execute_reply": "2025-03-26T11:38:58.980990Z",
     "shell.execute_reply.started": "2025-03-26T11:38:58.977745Z"
    }
   },
   "outputs": [],
   "source": [
    "from sklearn.metrics import r2_score, mean_squared_error"
   ]
  },
  {
   "cell_type": "code",
   "execution_count": 36,
   "metadata": {
    "execution": {
     "iopub.execute_input": "2025-03-26T11:38:59.544008Z",
     "iopub.status.busy": "2025-03-26T11:38:59.543654Z",
     "iopub.status.idle": "2025-03-26T11:38:59.551022Z",
     "shell.execute_reply": "2025-03-26T11:38:59.549903Z",
     "shell.execute_reply.started": "2025-03-26T11:38:59.543980Z"
    }
   },
   "outputs": [
    {
     "data": {
      "text/plain": [
       "247.39477503028198"
      ]
     },
     "execution_count": 36,
     "metadata": {},
     "output_type": "execute_result"
    }
   ],
   "source": [
    "mean_squared_error(y_test,tahmin)**.5 "
   ]
  },
  {
   "cell_type": "code",
   "execution_count": 37,
   "metadata": {
    "execution": {
     "iopub.execute_input": "2025-03-26T11:39:09.063424Z",
     "iopub.status.busy": "2025-03-26T11:39:09.063026Z",
     "iopub.status.idle": "2025-03-26T11:39:09.070795Z",
     "shell.execute_reply": "2025-03-26T11:39:09.069840Z",
     "shell.execute_reply.started": "2025-03-26T11:39:09.063390Z"
    }
   },
   "outputs": [
    {
     "data": {
      "text/plain": [
       "-73.63596023523081"
      ]
     },
     "execution_count": 37,
     "metadata": {},
     "output_type": "execute_result"
    }
   ],
   "source": [
    "r2_score(y_test,tahmin)"
   ]
  },
  {
   "cell_type": "markdown",
   "metadata": {},
   "source": [
    "Summary\n",
    "\n",
    "    Mean Squared Error (MSE): 247.39\n",
    "    A high MSE value indicates that the model's predictions are, on average, far from the actual values.\n",
    "\n",
    "    R² Value: -73.64\n",
    "    A negative R² value shows that the model performs worse than a simple mean model, indicating very poor fit.\n",
    "\n",
    "Conclusion\n",
    "\n",
    "The results suggest that the current model is not well-suited to capture the relationship between the variables. It may be necessary to revise the model or consider additional features."
   ]
  }
 ],
 "metadata": {
  "kaggle": {
   "accelerator": "none",
   "dataSources": [
    {
     "datasetId": 1256,
     "sourceId": 2242,
     "sourceType": "datasetVersion"
    }
   ],
   "dockerImageVersionId": 30918,
   "isGpuEnabled": false,
   "isInternetEnabled": false,
   "language": "python",
   "sourceType": "notebook"
  },
  "kernelspec": {
   "display_name": "Python [conda env:base] *",
   "language": "python",
   "name": "conda-base-py"
  },
  "language_info": {
   "codemirror_mode": {
    "name": "ipython",
    "version": 3
   },
   "file_extension": ".py",
   "mimetype": "text/x-python",
   "name": "python",
   "nbconvert_exporter": "python",
   "pygments_lexer": "ipython3",
   "version": "3.12.7"
  }
 },
 "nbformat": 4,
 "nbformat_minor": 4
}
